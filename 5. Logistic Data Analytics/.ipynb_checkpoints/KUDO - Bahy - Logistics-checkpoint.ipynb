{
 "cells": [
  {
   "cell_type": "code",
   "execution_count": 1,
   "metadata": {},
   "outputs": [],
   "source": [
    "import pandas as pd\n",
    "import re\n",
    "from datetime import datetime\n",
    "import numpy as np\n",
    "pd.options.mode.chained_assignment = None  # |default='warn'"
   ]
  },
  {
   "cell_type": "markdown",
   "metadata": {},
   "source": [
    "This algorithm scores **0.99441** on Shopee Code League - Logistics competition."
   ]
  },
  {
   "cell_type": "code",
   "execution_count": 2,
   "metadata": {
    "_cell_guid": "79c7e3d0-c299-4dcb-8224-4455121ee9b0",
    "_uuid": "d629ff2d2480ee46fbb7e2d37f6b5fab8052498a"
   },
   "outputs": [],
   "source": [
    "df_sla = pd.read_excel(\"dataset/SLA_matrix.xlsx\")"
   ]
  },
  {
   "cell_type": "code",
   "execution_count": 3,
   "metadata": {},
   "outputs": [
    {
     "data": {
      "text/html": [
       "<div>\n",
       "<style scoped>\n",
       "    .dataframe tbody tr th:only-of-type {\n",
       "        vertical-align: middle;\n",
       "    }\n",
       "\n",
       "    .dataframe tbody tr th {\n",
       "        vertical-align: top;\n",
       "    }\n",
       "\n",
       "    .dataframe thead th {\n",
       "        text-align: right;\n",
       "    }\n",
       "</style>\n",
       "<table border=\"1\" class=\"dataframe\">\n",
       "  <thead>\n",
       "    <tr style=\"text-align: right;\">\n",
       "      <th></th>\n",
       "      <th>1st Attempt SLA\n",
       "(Working Days)</th>\n",
       "      <th>Unnamed: 1</th>\n",
       "      <th>Destination (Buyer)</th>\n",
       "      <th>Unnamed: 3</th>\n",
       "      <th>Unnamed: 4</th>\n",
       "      <th>Unnamed: 5</th>\n",
       "    </tr>\n",
       "  </thead>\n",
       "  <tbody>\n",
       "    <tr>\n",
       "      <th>0</th>\n",
       "      <td>NaN</td>\n",
       "      <td>NaN</td>\n",
       "      <td>Metro Manila</td>\n",
       "      <td>Luzon</td>\n",
       "      <td>Visayas</td>\n",
       "      <td>Mindanao</td>\n",
       "    </tr>\n",
       "    <tr>\n",
       "      <th>1</th>\n",
       "      <td>Origin\\n(Seller)</td>\n",
       "      <td>Metro Manila</td>\n",
       "      <td>3 working days</td>\n",
       "      <td>5 working days</td>\n",
       "      <td>7 working days</td>\n",
       "      <td>7 working days</td>\n",
       "    </tr>\n",
       "    <tr>\n",
       "      <th>2</th>\n",
       "      <td>NaN</td>\n",
       "      <td>Luzon</td>\n",
       "      <td>5 working days</td>\n",
       "      <td>5 working days</td>\n",
       "      <td>7 working days</td>\n",
       "      <td>7 working days</td>\n",
       "    </tr>\n",
       "    <tr>\n",
       "      <th>3</th>\n",
       "      <td>NaN</td>\n",
       "      <td>Visayas</td>\n",
       "      <td>7 working days</td>\n",
       "      <td>7 working days</td>\n",
       "      <td>7 working days</td>\n",
       "      <td>7 working days</td>\n",
       "    </tr>\n",
       "    <tr>\n",
       "      <th>4</th>\n",
       "      <td>NaN</td>\n",
       "      <td>Mindanao</td>\n",
       "      <td>7 working days</td>\n",
       "      <td>7 working days</td>\n",
       "      <td>7 working days</td>\n",
       "      <td>7 working days</td>\n",
       "    </tr>\n",
       "    <tr>\n",
       "      <th>5</th>\n",
       "      <td>NaN</td>\n",
       "      <td>NaN</td>\n",
       "      <td>NaN</td>\n",
       "      <td>NaN</td>\n",
       "      <td>NaN</td>\n",
       "      <td>NaN</td>\n",
       "    </tr>\n",
       "    <tr>\n",
       "      <th>6</th>\n",
       "      <td>Working Days are defined as Mon - Sat, Excludi...</td>\n",
       "      <td>NaN</td>\n",
       "      <td>NaN</td>\n",
       "      <td>NaN</td>\n",
       "      <td>NaN</td>\n",
       "      <td>NaN</td>\n",
       "    </tr>\n",
       "    <tr>\n",
       "      <th>7</th>\n",
       "      <td>SLA calculation begins from the next day after...</td>\n",
       "      <td>NaN</td>\n",
       "      <td>NaN</td>\n",
       "      <td>NaN</td>\n",
       "      <td>NaN</td>\n",
       "      <td>NaN</td>\n",
       "    </tr>\n",
       "    <tr>\n",
       "      <th>8</th>\n",
       "      <td>2nd Attempt must be no later than 3 working da...</td>\n",
       "      <td>NaN</td>\n",
       "      <td>NaN</td>\n",
       "      <td>NaN</td>\n",
       "      <td>NaN</td>\n",
       "      <td>NaN</td>\n",
       "    </tr>\n",
       "  </tbody>\n",
       "</table>\n",
       "</div>"
      ],
      "text/plain": [
       "                     1st Attempt SLA\\n(Working Days)    Unnamed: 1  \\\n",
       "0                                                NaN           NaN   \n",
       "1                                   Origin\\n(Seller)  Metro Manila   \n",
       "2                                                NaN         Luzon   \n",
       "3                                                NaN       Visayas   \n",
       "4                                                NaN      Mindanao   \n",
       "5                                                NaN           NaN   \n",
       "6  Working Days are defined as Mon - Sat, Excludi...           NaN   \n",
       "7  SLA calculation begins from the next day after...           NaN   \n",
       "8  2nd Attempt must be no later than 3 working da...           NaN   \n",
       "\n",
       "  Destination (Buyer)      Unnamed: 3      Unnamed: 4      Unnamed: 5  \n",
       "0        Metro Manila           Luzon         Visayas        Mindanao  \n",
       "1      3 working days  5 working days  7 working days  7 working days  \n",
       "2      5 working days  5 working days  7 working days  7 working days  \n",
       "3      7 working days  7 working days  7 working days  7 working days  \n",
       "4      7 working days  7 working days  7 working days  7 working days  \n",
       "5                 NaN             NaN             NaN             NaN  \n",
       "6                 NaN             NaN             NaN             NaN  \n",
       "7                 NaN             NaN             NaN             NaN  \n",
       "8                 NaN             NaN             NaN             NaN  "
      ]
     },
     "execution_count": 3,
     "metadata": {},
     "output_type": "execute_result"
    }
   ],
   "source": [
    "## SLA Matrix\n",
    "df_sla"
   ]
  },
  {
   "cell_type": "code",
   "execution_count": 4,
   "metadata": {},
   "outputs": [],
   "source": [
    "## Delivery data\n",
    "df_delivery = pd.read_csv(\"dataset/delivery_orders_march.csv\")"
   ]
  },
  {
   "cell_type": "code",
   "execution_count": 5,
   "metadata": {},
   "outputs": [
    {
     "data": {
      "text/plain": [
       "(3176313, 6)"
      ]
     },
     "execution_count": 5,
     "metadata": {},
     "output_type": "execute_result"
    }
   ],
   "source": [
    "df_delivery.shape"
   ]
  },
  {
   "cell_type": "code",
   "execution_count": 6,
   "metadata": {},
   "outputs": [
    {
     "data": {
      "text/html": [
       "<div>\n",
       "<style scoped>\n",
       "    .dataframe tbody tr th:only-of-type {\n",
       "        vertical-align: middle;\n",
       "    }\n",
       "\n",
       "    .dataframe tbody tr th {\n",
       "        vertical-align: top;\n",
       "    }\n",
       "\n",
       "    .dataframe thead th {\n",
       "        text-align: right;\n",
       "    }\n",
       "</style>\n",
       "<table border=\"1\" class=\"dataframe\">\n",
       "  <thead>\n",
       "    <tr style=\"text-align: right;\">\n",
       "      <th></th>\n",
       "      <th>orderid</th>\n",
       "      <th>pick</th>\n",
       "      <th>1st_deliver_attempt</th>\n",
       "      <th>2nd_deliver_attempt</th>\n",
       "      <th>buyeraddress</th>\n",
       "      <th>selleraddress</th>\n",
       "    </tr>\n",
       "  </thead>\n",
       "  <tbody>\n",
       "    <tr>\n",
       "      <th>0</th>\n",
       "      <td>2215676524</td>\n",
       "      <td>1583138397</td>\n",
       "      <td>1.583385e+09</td>\n",
       "      <td>NaN</td>\n",
       "      <td>Baging ldl BUENAVISTA,PATAG.CAGAYAN Buagsong,c...</td>\n",
       "      <td>Pantranco vill. 417 Warehouse# katipunan 532 (...</td>\n",
       "    </tr>\n",
       "    <tr>\n",
       "      <th>1</th>\n",
       "      <td>2219624609</td>\n",
       "      <td>1583309968</td>\n",
       "      <td>1.583463e+09</td>\n",
       "      <td>1.583799e+09</td>\n",
       "      <td>coloma's quzom CASANAS Site1 Masiyan 533A Stol...</td>\n",
       "      <td>BLDG 210A Moras C42B 2B16,168 church) Complex ...</td>\n",
       "    </tr>\n",
       "    <tr>\n",
       "      <th>2</th>\n",
       "      <td>2220979489</td>\n",
       "      <td>1583306434</td>\n",
       "      <td>1.583460e+09</td>\n",
       "      <td>NaN</td>\n",
       "      <td>21-O LumangDaan,Capitangan,Abucay,Bataan .Bign...</td>\n",
       "      <td>#66 150-C, DRIVE, Milagros Joe socorro Metro M...</td>\n",
       "    </tr>\n",
       "    <tr>\n",
       "      <th>3</th>\n",
       "      <td>2221066352</td>\n",
       "      <td>1583419016</td>\n",
       "      <td>1.583556e+09</td>\n",
       "      <td>NaN</td>\n",
       "      <td>616Espiritu MARTINVILLE,MANUYO #5paraiso kengi...</td>\n",
       "      <td>999maII 201,26 Villaruel Barretto gen.t number...</td>\n",
       "    </tr>\n",
       "    <tr>\n",
       "      <th>4</th>\n",
       "      <td>2222478803</td>\n",
       "      <td>1583318305</td>\n",
       "      <td>1.583480e+09</td>\n",
       "      <td>NaN</td>\n",
       "      <td>L042 Summerbreezee1 L2(Balanay analyn Lot760 C...</td>\n",
       "      <td>G66MANILA Hiyas Fitness MAYSILO magdiwang Lt.4...</td>\n",
       "    </tr>\n",
       "  </tbody>\n",
       "</table>\n",
       "</div>"
      ],
      "text/plain": [
       "      orderid        pick  1st_deliver_attempt  2nd_deliver_attempt  \\\n",
       "0  2215676524  1583138397         1.583385e+09                  NaN   \n",
       "1  2219624609  1583309968         1.583463e+09         1.583799e+09   \n",
       "2  2220979489  1583306434         1.583460e+09                  NaN   \n",
       "3  2221066352  1583419016         1.583556e+09                  NaN   \n",
       "4  2222478803  1583318305         1.583480e+09                  NaN   \n",
       "\n",
       "                                        buyeraddress  \\\n",
       "0  Baging ldl BUENAVISTA,PATAG.CAGAYAN Buagsong,c...   \n",
       "1  coloma's quzom CASANAS Site1 Masiyan 533A Stol...   \n",
       "2  21-O LumangDaan,Capitangan,Abucay,Bataan .Bign...   \n",
       "3  616Espiritu MARTINVILLE,MANUYO #5paraiso kengi...   \n",
       "4  L042 Summerbreezee1 L2(Balanay analyn Lot760 C...   \n",
       "\n",
       "                                       selleraddress  \n",
       "0  Pantranco vill. 417 Warehouse# katipunan 532 (...  \n",
       "1  BLDG 210A Moras C42B 2B16,168 church) Complex ...  \n",
       "2  #66 150-C, DRIVE, Milagros Joe socorro Metro M...  \n",
       "3  999maII 201,26 Villaruel Barretto gen.t number...  \n",
       "4  G66MANILA Hiyas Fitness MAYSILO magdiwang Lt.4...  "
      ]
     },
     "execution_count": 6,
     "metadata": {},
     "output_type": "execute_result"
    }
   ],
   "source": [
    "df_delivery.head()"
   ]
  },
  {
   "cell_type": "code",
   "execution_count": 7,
   "metadata": {},
   "outputs": [],
   "source": [
    "## SLA matrix\n",
    "matrix = df_sla.iloc[1:5, 2:].values\n",
    "city_order = [\"metro manila\", \"luzon\", \"visayas\", \"mindanao\"]"
   ]
  },
  {
   "cell_type": "code",
   "execution_count": 8,
   "metadata": {},
   "outputs": [
    {
     "data": {
      "text/plain": [
       "array([['3 working days', '5 working days', '7 working days',\n",
       "        '7 working days'],\n",
       "       ['5 working days', '5 working days', '7 working days',\n",
       "        '7 working days'],\n",
       "       ['7 working days', '7 working days', '7 working days',\n",
       "        '7 working days'],\n",
       "       ['7 working days', '7 working days', '7 working days',\n",
       "        '7 working days']], dtype=object)"
      ]
     },
     "execution_count": 8,
     "metadata": {},
     "output_type": "execute_result"
    }
   ],
   "source": [
    "matrix"
   ]
  },
  {
   "cell_type": "code",
   "execution_count": 9,
   "metadata": {},
   "outputs": [
    {
     "name": "stdout",
     "output_type": "stream",
     "text": [
      "2nd Attempt must be no later than 3 working days after the 1st Attempt, regardless of origin to destination route (Day 0 = Day of 1st Attempt; Day 1 = Next Day after 1st Attempt).\n"
     ]
    }
   ],
   "source": [
    "## SLA 2nd attempt\n",
    "print(df_sla.iloc[8:,:1].values[0][0])"
   ]
  },
  {
   "cell_type": "markdown",
   "metadata": {},
   "source": [
    "#### Create sample df"
   ]
  },
  {
   "cell_type": "code",
   "execution_count": 10,
   "metadata": {},
   "outputs": [
    {
     "data": {
      "text/html": [
       "<div>\n",
       "<style scoped>\n",
       "    .dataframe tbody tr th:only-of-type {\n",
       "        vertical-align: middle;\n",
       "    }\n",
       "\n",
       "    .dataframe tbody tr th {\n",
       "        vertical-align: top;\n",
       "    }\n",
       "\n",
       "    .dataframe thead th {\n",
       "        text-align: right;\n",
       "    }\n",
       "</style>\n",
       "<table border=\"1\" class=\"dataframe\">\n",
       "  <thead>\n",
       "    <tr style=\"text-align: right;\">\n",
       "      <th></th>\n",
       "      <th>orderid</th>\n",
       "      <th>pick</th>\n",
       "      <th>1st_deliver_attempt</th>\n",
       "      <th>2nd_deliver_attempt</th>\n",
       "      <th>buyeraddress</th>\n",
       "      <th>selleraddress</th>\n",
       "    </tr>\n",
       "  </thead>\n",
       "  <tbody>\n",
       "    <tr>\n",
       "      <th>2676327</th>\n",
       "      <td>2306750619</td>\n",
       "      <td>1584053169</td>\n",
       "      <td>1.584177e+09</td>\n",
       "      <td>1.584524e+09</td>\n",
       "      <td>LHINITTE Audit-DPWH Ramtoda 130B-Pagasa Eber (...</td>\n",
       "      <td>Zapote, Village,Eusebio (get Cloths, Rm210 par...</td>\n",
       "    </tr>\n",
       "    <tr>\n",
       "      <th>3057979</th>\n",
       "      <td>2313270732</td>\n",
       "      <td>1584603369</td>\n",
       "      <td>1.584949e+09</td>\n",
       "      <td>NaN</td>\n",
       "      <td>Brgy.Suba,Purok 1,Phase 10-s QUIOT, 0458,buton...</td>\n",
       "      <td>castaneda Ave.Ext. CPT ave,odeon serrano. Blk3...</td>\n",
       "    </tr>\n",
       "    <tr>\n",
       "      <th>32792</th>\n",
       "      <td>2234158722</td>\n",
       "      <td>1583578260</td>\n",
       "      <td>1.583830e+09</td>\n",
       "      <td>NaN</td>\n",
       "      <td>bandung St.,cor.M.paterno L-24, Tell 2943-G st...</td>\n",
       "      <td>C11,Saulog 2d08 paz S-18C FILINVEST 1, PB001 G...</td>\n",
       "    </tr>\n",
       "    <tr>\n",
       "      <th>2453474</th>\n",
       "      <td>2303291547</td>\n",
       "      <td>1584088908</td>\n",
       "      <td>1.584676e+09</td>\n",
       "      <td>1.585015e+09</td>\n",
       "      <td>baboyan F.V.R. Rosalina's 21F-Pasco Astrera re...</td>\n",
       "      <td>Peta Partnership tamarind Intalan VASRA Valenc...</td>\n",
       "    </tr>\n",
       "    <tr>\n",
       "      <th>1790981</th>\n",
       "      <td>2342629171</td>\n",
       "      <td>1584778922</td>\n",
       "      <td>1.586149e+09</td>\n",
       "      <td>NaN</td>\n",
       "      <td>St.,Aplaya,Bauan,Batangas Rizalino ZAKRAH dang...</td>\n",
       "      <td>9025 Duyan-Duyan, Bldg,M WEST 1533 Avenue,Pasa...</td>\n",
       "    </tr>\n",
       "  </tbody>\n",
       "</table>\n",
       "</div>"
      ],
      "text/plain": [
       "            orderid        pick  1st_deliver_attempt  2nd_deliver_attempt  \\\n",
       "2676327  2306750619  1584053169         1.584177e+09         1.584524e+09   \n",
       "3057979  2313270732  1584603369         1.584949e+09                  NaN   \n",
       "32792    2234158722  1583578260         1.583830e+09                  NaN   \n",
       "2453474  2303291547  1584088908         1.584676e+09         1.585015e+09   \n",
       "1790981  2342629171  1584778922         1.586149e+09                  NaN   \n",
       "\n",
       "                                              buyeraddress  \\\n",
       "2676327  LHINITTE Audit-DPWH Ramtoda 130B-Pagasa Eber (...   \n",
       "3057979  Brgy.Suba,Purok 1,Phase 10-s QUIOT, 0458,buton...   \n",
       "32792    bandung St.,cor.M.paterno L-24, Tell 2943-G st...   \n",
       "2453474  baboyan F.V.R. Rosalina's 21F-Pasco Astrera re...   \n",
       "1790981  St.,Aplaya,Bauan,Batangas Rizalino ZAKRAH dang...   \n",
       "\n",
       "                                             selleraddress  \n",
       "2676327  Zapote, Village,Eusebio (get Cloths, Rm210 par...  \n",
       "3057979  castaneda Ave.Ext. CPT ave,odeon serrano. Blk3...  \n",
       "32792    C11,Saulog 2d08 paz S-18C FILINVEST 1, PB001 G...  \n",
       "2453474  Peta Partnership tamarind Intalan VASRA Valenc...  \n",
       "1790981  9025 Duyan-Duyan, Bldg,M WEST 1533 Avenue,Pasa...  "
      ]
     },
     "execution_count": 10,
     "metadata": {},
     "output_type": "execute_result"
    }
   ],
   "source": [
    "## Sample orders\n",
    "df_sample = df_delivery.sample(n=1000)\n",
    "df_sample.head()"
   ]
  },
  {
   "cell_type": "markdown",
   "metadata": {},
   "source": [
    "#### Find origin, destination, SLA"
   ]
  },
  {
   "cell_type": "code",
   "execution_count": 11,
   "metadata": {},
   "outputs": [],
   "source": [
    "def find_city(x):\n",
    "    for city in city_order:\n",
    "        if city.lower() in x:\n",
    "            return city.lower()"
   ]
  },
  {
   "cell_type": "code",
   "execution_count": 12,
   "metadata": {},
   "outputs": [],
   "source": [
    "## Get Origin\n",
    "def get_origin(df):\n",
    "    origin = find_city(df['selleraddress'].lower())\n",
    "    return origin"
   ]
  },
  {
   "cell_type": "code",
   "execution_count": 13,
   "metadata": {},
   "outputs": [],
   "source": [
    "## Get Destination\n",
    "def get_destination(df):\n",
    "    destination = find_city(df['buyeraddress'].lower())\n",
    "    return destination"
   ]
  },
  {
   "cell_type": "code",
   "execution_count": 14,
   "metadata": {},
   "outputs": [],
   "source": [
    "df_sample['origin'] = df_sample.apply(get_origin, axis=1)\n",
    "df_sample['destination'] = df_sample.apply(get_destination, axis=1)"
   ]
  },
  {
   "cell_type": "code",
   "execution_count": 15,
   "metadata": {},
   "outputs": [
    {
     "data": {
      "text/html": [
       "<div>\n",
       "<style scoped>\n",
       "    .dataframe tbody tr th:only-of-type {\n",
       "        vertical-align: middle;\n",
       "    }\n",
       "\n",
       "    .dataframe tbody tr th {\n",
       "        vertical-align: top;\n",
       "    }\n",
       "\n",
       "    .dataframe thead th {\n",
       "        text-align: right;\n",
       "    }\n",
       "</style>\n",
       "<table border=\"1\" class=\"dataframe\">\n",
       "  <thead>\n",
       "    <tr style=\"text-align: right;\">\n",
       "      <th></th>\n",
       "      <th>orderid</th>\n",
       "      <th>pick</th>\n",
       "      <th>1st_deliver_attempt</th>\n",
       "      <th>2nd_deliver_attempt</th>\n",
       "      <th>buyeraddress</th>\n",
       "      <th>selleraddress</th>\n",
       "      <th>origin</th>\n",
       "      <th>destination</th>\n",
       "    </tr>\n",
       "  </thead>\n",
       "  <tbody>\n",
       "    <tr>\n",
       "      <th>2676327</th>\n",
       "      <td>2306750619</td>\n",
       "      <td>1584053169</td>\n",
       "      <td>1.584177e+09</td>\n",
       "      <td>1.584524e+09</td>\n",
       "      <td>LHINITTE Audit-DPWH Ramtoda 130B-Pagasa Eber (...</td>\n",
       "      <td>Zapote, Village,Eusebio (get Cloths, Rm210 par...</td>\n",
       "      <td>metro manila</td>\n",
       "      <td>metro manila</td>\n",
       "    </tr>\n",
       "    <tr>\n",
       "      <th>3057979</th>\n",
       "      <td>2313270732</td>\n",
       "      <td>1584603369</td>\n",
       "      <td>1.584949e+09</td>\n",
       "      <td>NaN</td>\n",
       "      <td>Brgy.Suba,Purok 1,Phase 10-s QUIOT, 0458,buton...</td>\n",
       "      <td>castaneda Ave.Ext. CPT ave,odeon serrano. Blk3...</td>\n",
       "      <td>metro manila</td>\n",
       "      <td>luzon</td>\n",
       "    </tr>\n",
       "    <tr>\n",
       "      <th>32792</th>\n",
       "      <td>2234158722</td>\n",
       "      <td>1583578260</td>\n",
       "      <td>1.583830e+09</td>\n",
       "      <td>NaN</td>\n",
       "      <td>bandung St.,cor.M.paterno L-24, Tell 2943-G st...</td>\n",
       "      <td>C11,Saulog 2d08 paz S-18C FILINVEST 1, PB001 G...</td>\n",
       "      <td>metro manila</td>\n",
       "      <td>metro manila</td>\n",
       "    </tr>\n",
       "    <tr>\n",
       "      <th>2453474</th>\n",
       "      <td>2303291547</td>\n",
       "      <td>1584088908</td>\n",
       "      <td>1.584676e+09</td>\n",
       "      <td>1.585015e+09</td>\n",
       "      <td>baboyan F.V.R. Rosalina's 21F-Pasco Astrera re...</td>\n",
       "      <td>Peta Partnership tamarind Intalan VASRA Valenc...</td>\n",
       "      <td>metro manila</td>\n",
       "      <td>visayas</td>\n",
       "    </tr>\n",
       "    <tr>\n",
       "      <th>1790981</th>\n",
       "      <td>2342629171</td>\n",
       "      <td>1584778922</td>\n",
       "      <td>1.586149e+09</td>\n",
       "      <td>NaN</td>\n",
       "      <td>St.,Aplaya,Bauan,Batangas Rizalino ZAKRAH dang...</td>\n",
       "      <td>9025 Duyan-Duyan, Bldg,M WEST 1533 Avenue,Pasa...</td>\n",
       "      <td>metro manila</td>\n",
       "      <td>visayas</td>\n",
       "    </tr>\n",
       "  </tbody>\n",
       "</table>\n",
       "</div>"
      ],
      "text/plain": [
       "            orderid        pick  1st_deliver_attempt  2nd_deliver_attempt  \\\n",
       "2676327  2306750619  1584053169         1.584177e+09         1.584524e+09   \n",
       "3057979  2313270732  1584603369         1.584949e+09                  NaN   \n",
       "32792    2234158722  1583578260         1.583830e+09                  NaN   \n",
       "2453474  2303291547  1584088908         1.584676e+09         1.585015e+09   \n",
       "1790981  2342629171  1584778922         1.586149e+09                  NaN   \n",
       "\n",
       "                                              buyeraddress  \\\n",
       "2676327  LHINITTE Audit-DPWH Ramtoda 130B-Pagasa Eber (...   \n",
       "3057979  Brgy.Suba,Purok 1,Phase 10-s QUIOT, 0458,buton...   \n",
       "32792    bandung St.,cor.M.paterno L-24, Tell 2943-G st...   \n",
       "2453474  baboyan F.V.R. Rosalina's 21F-Pasco Astrera re...   \n",
       "1790981  St.,Aplaya,Bauan,Batangas Rizalino ZAKRAH dang...   \n",
       "\n",
       "                                             selleraddress        origin  \\\n",
       "2676327  Zapote, Village,Eusebio (get Cloths, Rm210 par...  metro manila   \n",
       "3057979  castaneda Ave.Ext. CPT ave,odeon serrano. Blk3...  metro manila   \n",
       "32792    C11,Saulog 2d08 paz S-18C FILINVEST 1, PB001 G...  metro manila   \n",
       "2453474  Peta Partnership tamarind Intalan VASRA Valenc...  metro manila   \n",
       "1790981  9025 Duyan-Duyan, Bldg,M WEST 1533 Avenue,Pasa...  metro manila   \n",
       "\n",
       "          destination  \n",
       "2676327  metro manila  \n",
       "3057979         luzon  \n",
       "32792    metro manila  \n",
       "2453474       visayas  \n",
       "1790981       visayas  "
      ]
     },
     "execution_count": 15,
     "metadata": {},
     "output_type": "execute_result"
    }
   ],
   "source": [
    "df_sample.head()"
   ]
  },
  {
   "cell_type": "code",
   "execution_count": 16,
   "metadata": {},
   "outputs": [],
   "source": [
    "def get_sla(df):\n",
    "    sla = matrix[city_order.index(df['origin']), city_order.index(df['destination'])]\n",
    "    days = int(re.search(r'\\d', sla).group(0))\n",
    "    return days"
   ]
  },
  {
   "cell_type": "code",
   "execution_count": 17,
   "metadata": {},
   "outputs": [],
   "source": [
    "df_sample['sla'] = df_sample.apply(get_sla, axis=1)"
   ]
  },
  {
   "cell_type": "code",
   "execution_count": 18,
   "metadata": {},
   "outputs": [
    {
     "data": {
      "text/html": [
       "<div>\n",
       "<style scoped>\n",
       "    .dataframe tbody tr th:only-of-type {\n",
       "        vertical-align: middle;\n",
       "    }\n",
       "\n",
       "    .dataframe tbody tr th {\n",
       "        vertical-align: top;\n",
       "    }\n",
       "\n",
       "    .dataframe thead th {\n",
       "        text-align: right;\n",
       "    }\n",
       "</style>\n",
       "<table border=\"1\" class=\"dataframe\">\n",
       "  <thead>\n",
       "    <tr style=\"text-align: right;\">\n",
       "      <th></th>\n",
       "      <th>orderid</th>\n",
       "      <th>pick</th>\n",
       "      <th>1st_deliver_attempt</th>\n",
       "      <th>2nd_deliver_attempt</th>\n",
       "      <th>buyeraddress</th>\n",
       "      <th>selleraddress</th>\n",
       "      <th>origin</th>\n",
       "      <th>destination</th>\n",
       "      <th>sla</th>\n",
       "    </tr>\n",
       "  </thead>\n",
       "  <tbody>\n",
       "    <tr>\n",
       "      <th>2676327</th>\n",
       "      <td>2306750619</td>\n",
       "      <td>1584053169</td>\n",
       "      <td>1.584177e+09</td>\n",
       "      <td>1.584524e+09</td>\n",
       "      <td>LHINITTE Audit-DPWH Ramtoda 130B-Pagasa Eber (...</td>\n",
       "      <td>Zapote, Village,Eusebio (get Cloths, Rm210 par...</td>\n",
       "      <td>metro manila</td>\n",
       "      <td>metro manila</td>\n",
       "      <td>3</td>\n",
       "    </tr>\n",
       "    <tr>\n",
       "      <th>3057979</th>\n",
       "      <td>2313270732</td>\n",
       "      <td>1584603369</td>\n",
       "      <td>1.584949e+09</td>\n",
       "      <td>NaN</td>\n",
       "      <td>Brgy.Suba,Purok 1,Phase 10-s QUIOT, 0458,buton...</td>\n",
       "      <td>castaneda Ave.Ext. CPT ave,odeon serrano. Blk3...</td>\n",
       "      <td>metro manila</td>\n",
       "      <td>luzon</td>\n",
       "      <td>5</td>\n",
       "    </tr>\n",
       "    <tr>\n",
       "      <th>32792</th>\n",
       "      <td>2234158722</td>\n",
       "      <td>1583578260</td>\n",
       "      <td>1.583830e+09</td>\n",
       "      <td>NaN</td>\n",
       "      <td>bandung St.,cor.M.paterno L-24, Tell 2943-G st...</td>\n",
       "      <td>C11,Saulog 2d08 paz S-18C FILINVEST 1, PB001 G...</td>\n",
       "      <td>metro manila</td>\n",
       "      <td>metro manila</td>\n",
       "      <td>3</td>\n",
       "    </tr>\n",
       "    <tr>\n",
       "      <th>2453474</th>\n",
       "      <td>2303291547</td>\n",
       "      <td>1584088908</td>\n",
       "      <td>1.584676e+09</td>\n",
       "      <td>1.585015e+09</td>\n",
       "      <td>baboyan F.V.R. Rosalina's 21F-Pasco Astrera re...</td>\n",
       "      <td>Peta Partnership tamarind Intalan VASRA Valenc...</td>\n",
       "      <td>metro manila</td>\n",
       "      <td>visayas</td>\n",
       "      <td>7</td>\n",
       "    </tr>\n",
       "    <tr>\n",
       "      <th>1790981</th>\n",
       "      <td>2342629171</td>\n",
       "      <td>1584778922</td>\n",
       "      <td>1.586149e+09</td>\n",
       "      <td>NaN</td>\n",
       "      <td>St.,Aplaya,Bauan,Batangas Rizalino ZAKRAH dang...</td>\n",
       "      <td>9025 Duyan-Duyan, Bldg,M WEST 1533 Avenue,Pasa...</td>\n",
       "      <td>metro manila</td>\n",
       "      <td>visayas</td>\n",
       "      <td>7</td>\n",
       "    </tr>\n",
       "  </tbody>\n",
       "</table>\n",
       "</div>"
      ],
      "text/plain": [
       "            orderid        pick  1st_deliver_attempt  2nd_deliver_attempt  \\\n",
       "2676327  2306750619  1584053169         1.584177e+09         1.584524e+09   \n",
       "3057979  2313270732  1584603369         1.584949e+09                  NaN   \n",
       "32792    2234158722  1583578260         1.583830e+09                  NaN   \n",
       "2453474  2303291547  1584088908         1.584676e+09         1.585015e+09   \n",
       "1790981  2342629171  1584778922         1.586149e+09                  NaN   \n",
       "\n",
       "                                              buyeraddress  \\\n",
       "2676327  LHINITTE Audit-DPWH Ramtoda 130B-Pagasa Eber (...   \n",
       "3057979  Brgy.Suba,Purok 1,Phase 10-s QUIOT, 0458,buton...   \n",
       "32792    bandung St.,cor.M.paterno L-24, Tell 2943-G st...   \n",
       "2453474  baboyan F.V.R. Rosalina's 21F-Pasco Astrera re...   \n",
       "1790981  St.,Aplaya,Bauan,Batangas Rizalino ZAKRAH dang...   \n",
       "\n",
       "                                             selleraddress        origin  \\\n",
       "2676327  Zapote, Village,Eusebio (get Cloths, Rm210 par...  metro manila   \n",
       "3057979  castaneda Ave.Ext. CPT ave,odeon serrano. Blk3...  metro manila   \n",
       "32792    C11,Saulog 2d08 paz S-18C FILINVEST 1, PB001 G...  metro manila   \n",
       "2453474  Peta Partnership tamarind Intalan VASRA Valenc...  metro manila   \n",
       "1790981  9025 Duyan-Duyan, Bldg,M WEST 1533 Avenue,Pasa...  metro manila   \n",
       "\n",
       "          destination  sla  \n",
       "2676327  metro manila    3  \n",
       "3057979         luzon    5  \n",
       "32792    metro manila    3  \n",
       "2453474       visayas    7  \n",
       "1790981       visayas    7  "
      ]
     },
     "execution_count": 18,
     "metadata": {},
     "output_type": "execute_result"
    }
   ],
   "source": [
    "df_sample.head()"
   ]
  },
  {
   "cell_type": "markdown",
   "metadata": {},
   "source": [
    "#### Check for first SLA fullfilment"
   ]
  },
  {
   "cell_type": "code",
   "execution_count": null,
   "metadata": {},
   "outputs": [],
   "source": [
    "## Convert all date column to date\n",
    "pick = pd.to_datetime(df_sample['pick'], unit='s').dt.date\n",
    "first_deliver = pd.to_datetime(df_sample['1st_deliver_attempt'], unit='s').dt.date\n",
    "second_deliver = pd.to_datetime(df_sample['2nd_deliver_attempt'], unit='s').dt.date"
   ]
  },
  {
   "cell_type": "code",
   "execution_count": null,
   "metadata": {},
   "outputs": [],
   "source": [
    "df_sample['pick'] = pick\n",
    "df_sample['1st_deliver_attempt'] = first_deliver\n",
    "df_sample['2nd_deliver_attempt'] = second_deliver"
   ]
  },
  {
   "cell_type": "code",
   "execution_count": null,
   "metadata": {},
   "outputs": [],
   "source": [
    "df_sample.head()"
   ]
  },
  {
   "cell_type": "code",
   "execution_count": null,
   "metadata": {},
   "outputs": [],
   "source": [
    "## Initiate public holidays\n",
    "public_holidays = [\"2020-03-08\", \"2020-03-25\", \"2020-03-30\", \"2020-03-31\"]"
   ]
  },
  {
   "cell_type": "code",
   "execution_count": null,
   "metadata": {},
   "outputs": [],
   "source": [
    "def get_busday_first(df):\n",
    "    create_date = str(df['pick'])\n",
    "    resolve_date = str(df['1st_deliver_attempt'])\n",
    "\n",
    "    create_datetime = datetime.strptime(create_date, '%Y-%m-%d')\n",
    "    resolve_datetime = datetime.strptime(resolve_date, '%Y-%m-%d')\n",
    "\n",
    "    busday = np.busday_count(create_date, resolve_date, holidays=public_holidays, weekmask=[1,1,1,1,1,1,0])\n",
    "\n",
    "    return busday    "
   ]
  },
  {
   "cell_type": "code",
   "execution_count": null,
   "metadata": {},
   "outputs": [],
   "source": [
    "df_sample['1st_deliver_days'] = df_sample.apply(get_busday_first, axis=1)"
   ]
  },
  {
   "cell_type": "code",
   "execution_count": null,
   "metadata": {},
   "outputs": [],
   "source": [
    "df_sample.head()"
   ]
  },
  {
   "cell_type": "code",
   "execution_count": null,
   "metadata": {},
   "outputs": [],
   "source": [
    "## Saving checkpoint\n",
    "# import pickle\n",
    "# pickle.dump(df_sample, open(\"1st_fullfilment.pickle\", \"wb\"))"
   ]
  },
  {
   "cell_type": "markdown",
   "metadata": {},
   "source": [
    "#### Check for 2nd SLA fullfilment"
   ]
  },
  {
   "cell_type": "code",
   "execution_count": null,
   "metadata": {},
   "outputs": [],
   "source": [
    "def get_busday_second(df):\n",
    "    create_date = str(df['1st_deliver_attempt'])\n",
    "    resolve_date = str(df['2nd_deliver_attempt'])\n",
    "    \n",
    "    if resolve_date == 'NaT':\n",
    "        resolve_date = create_date\n",
    "\n",
    "    create_datetime = datetime.strptime(create_date, '%Y-%m-%d')\n",
    "    resolve_datetime = datetime.strptime(resolve_date, '%Y-%m-%d')\n",
    "\n",
    "    busday = np.busday_count(create_date, resolve_date, holidays=public_holidays, weekmask=[1,1,1,1,1,1,0])\n",
    "\n",
    "    return busday   "
   ]
  },
  {
   "cell_type": "code",
   "execution_count": null,
   "metadata": {},
   "outputs": [],
   "source": [
    "df_sample['2nd_deliver_days'] = df_sample.apply(get_busday_second, axis=1)"
   ]
  },
  {
   "cell_type": "code",
   "execution_count": null,
   "metadata": {},
   "outputs": [],
   "source": [
    "df_sample.head()"
   ]
  },
  {
   "cell_type": "code",
   "execution_count": null,
   "metadata": {},
   "outputs": [],
   "source": [
    "## Saving checkpoint\n",
    "# import pickle\n",
    "# pickle.dump(df_sample, open(\"2nd_fullfilment.pickle\", \"wb\"))"
   ]
  },
  {
   "cell_type": "markdown",
   "metadata": {},
   "source": [
    "#### Decide late/not late"
   ]
  },
  {
   "cell_type": "code",
   "execution_count": null,
   "metadata": {},
   "outputs": [],
   "source": [
    "not_late_df = df_sample[(df_sample['1st_deliver_days'] <= df_sample['sla']) & (df_sample['2nd_deliver_days'] <= 3)][['orderid']]\n",
    "not_late_df['is_late'] = 0\n",
    "not_late_df.head()"
   ]
  },
  {
   "cell_type": "code",
   "execution_count": null,
   "metadata": {},
   "outputs": [],
   "source": [
    "late_df = df_sample[~df_sample['orderid'].isin(not_late_df['orderid'])][['orderid']]\n",
    "late_df['is_late'] = 1\n",
    "late_df.head()"
   ]
  },
  {
   "cell_type": "code",
   "execution_count": null,
   "metadata": {},
   "outputs": [],
   "source": [
    "not_late_df.orderid.nunique() + late_df.orderid.nunique()"
   ]
  },
  {
   "cell_type": "code",
   "execution_count": null,
   "metadata": {},
   "outputs": [],
   "source": [
    "res_df = pd.concat([late_df, not_late_df], axis=0)\n",
    "res_df.head()"
   ]
  },
  {
   "cell_type": "markdown",
   "metadata": {},
   "source": [
    "### Run all below cells as \"Code\" to export the solution for sample/all data"
   ]
  },
  {
   "cell_type": "markdown",
   "metadata": {},
   "source": [
    "#### Export solution\n",
    "res_df.to_csv(\"solution_logistics_bahy_sample.csv\", index=False)"
   ]
  },
  {
   "cell_type": "markdown",
   "metadata": {},
   "source": [
    "test = pd.read_csv(\"solution_logistics_bahy_sample.csv\")\n",
    "test.head()"
   ]
  },
  {
   "cell_type": "markdown",
   "metadata": {},
   "source": [
    "test.shape"
   ]
  },
  {
   "cell_type": "markdown",
   "metadata": {},
   "source": [
    "#### Test to all data\n",
    "Just replace all the cells below to a Code cell to run it on all data"
   ]
  },
  {
   "cell_type": "markdown",
   "metadata": {},
   "source": [
    "df_delivery.head()"
   ]
  },
  {
   "cell_type": "markdown",
   "metadata": {},
   "source": [
    "df_delivery['origin'] = df_delivery.apply(get_origin, axis=1)\n",
    "df_delivery['destination'] = df_delivery.apply(get_destination, axis=1)"
   ]
  },
  {
   "cell_type": "markdown",
   "metadata": {},
   "source": [
    "df_delivery['sla'] = df_delivery.apply(get_sla, axis=1)"
   ]
  },
  {
   "cell_type": "markdown",
   "metadata": {},
   "source": [
    "pick = pd.to_datetime(df_delivery['pick'], unit='s').dt.date\n",
    "first_deliver = pd.to_datetime(df_delivery['1st_deliver_attempt'], unit='s').dt.date\n",
    "second_deliver = pd.to_datetime(df_delivery['2nd_deliver_attempt'], unit='s').dt.date"
   ]
  },
  {
   "cell_type": "markdown",
   "metadata": {},
   "source": [
    "df_delivery['pick'] = pick\n",
    "df_delivery['1st_deliver_attempt'] = first_deliver\n",
    "df_delivery['2nd_deliver_attempt'] = second_deliver"
   ]
  },
  {
   "cell_type": "markdown",
   "metadata": {},
   "source": [
    "public_holidays = [\"2020-03-08\", \"2020-03-25\", \"2020-03-30\", \"2020-03-31\"]"
   ]
  },
  {
   "cell_type": "markdown",
   "metadata": {},
   "source": [
    "df_delivery['1st_deliver_days'] = df_delivery.apply(get_busday_first, axis=1)"
   ]
  },
  {
   "cell_type": "markdown",
   "metadata": {},
   "source": [
    "df_delivery['2nd_deliver_days'] = df_delivery.apply(get_busday_second, axis=1)"
   ]
  },
  {
   "cell_type": "markdown",
   "metadata": {},
   "source": [
    "not_late_df = df_sample[(df_sample['1st_deliver_days'] <= df_sample['sla']) & (df_sample['2nd_deliver_days'] <= 3)][['orderid']]\n",
    "not_late_df['is_late'] = 0"
   ]
  },
  {
   "cell_type": "markdown",
   "metadata": {},
   "source": [
    "late_df = df_sample[~df_sample['orderid'].isin(not_late_df['orderid'])][['orderid']]\n",
    "late_df['is_late'] = 1"
   ]
  },
  {
   "cell_type": "markdown",
   "metadata": {},
   "source": [
    "res_df = pd.concat([late_df, not_late_df], axis=0)"
   ]
  },
  {
   "cell_type": "markdown",
   "metadata": {},
   "source": [
    "#### Export solution\n",
    "res_df.to_csv(\"solution_logistics_bahy.csv\", index=False)"
   ]
  }
 ],
 "metadata": {
  "kernelspec": {
   "display_name": "Python 3",
   "language": "python",
   "name": "python3"
  },
  "language_info": {
   "codemirror_mode": {
    "name": "ipython",
    "version": 3
   },
   "file_extension": ".py",
   "mimetype": "text/x-python",
   "name": "python",
   "nbconvert_exporter": "python",
   "pygments_lexer": "ipython3",
   "version": "3.7.6"
  }
 },
 "nbformat": 4,
 "nbformat_minor": 4
}
