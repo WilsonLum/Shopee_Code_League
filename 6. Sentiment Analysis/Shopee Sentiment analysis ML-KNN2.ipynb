{
 "cells": [
  {
   "cell_type": "markdown",
   "metadata": {},
   "source": [
    "<h1><center>Sentiment Analysis of Shopee</center><h1>"
   ]
  },
  {
   "cell_type": "markdown",
   "metadata": {},
   "source": [
    "## Project Team – Over30\n",
    "- Donal Ngo         \n",
    "- Lee Seng            \n",
    "- Teerapong        \n",
    "- Wilson Lum Kok Keong   \n",
    "<br><br>"
   ]
  },
  {
   "cell_type": "markdown",
   "metadata": {},
   "source": [
    "# Model Training for labeling datasets"
   ]
  },
  {
   "cell_type": "markdown",
   "metadata": {},
   "source": [
    "## Import Library"
   ]
  },
  {
   "cell_type": "code",
   "execution_count": 1,
   "metadata": {},
   "outputs": [],
   "source": [
    "from pathlib import Path\n",
    "import json\n",
    "import re\n",
    "import os\n",
    "import pandas as pd\n",
    "import numpy as np\n",
    "import matplotlib.pyplot as plt\n",
    "from PIL import Image\n",
    "%matplotlib inline\n",
    "import nltk\n",
    "from sklearn.preprocessing import LabelEncoder\n",
    "\n",
    "from nltk import word_tokenize, FreqDist\n",
    "from datetime import date\n",
    "from sklearn import utils\n",
    "\n",
    "import sklearn\n",
    "import re \n",
    "from sklearn.feature_extraction.text import TfidfVectorizer\n",
    "from sklearn.model_selection import train_test_split\n",
    "from sklearn.svm import SVC\n",
    "from sklearn.tree import DecisionTreeClassifier\n",
    "from sklearn.neighbors import KNeighborsClassifier\n",
    "from sklearn.naive_bayes import MultinomialNB\n",
    "from sklearn.metrics import confusion_matrix\n",
    "from sklearn.metrics import classification_report\n",
    "from sklearn.metrics import accuracy_score\n",
    "from sklearn import preprocessing\n",
    "from sklearn import metrics\n",
    "from sklearn.feature_selection import SelectKBest\n",
    "from sklearn.feature_extraction.text import TfidfVectorizer #as vectorizer\n",
    "from sklearn.model_selection import train_test_split\n",
    "from sklearn.feature_selection import chi2\n",
    "from sklearn.metrics import precision_score, recall_score,f1_score\n",
    "from sklearn.linear_model import LogisticRegression\n",
    "\n",
    "import warnings\n",
    "warnings.filterwarnings(\"ignore\")"
   ]
  },
  {
   "cell_type": "code",
   "execution_count": 2,
   "metadata": {},
   "outputs": [],
   "source": [
    "import os \n",
    "os.environ[\"CUDA_VISIBLE_DEVICES\"]=\"0\""
   ]
  },
  {
   "cell_type": "markdown",
   "metadata": {},
   "source": [
    "## Reading in the dataset"
   ]
  },
  {
   "cell_type": "code",
   "execution_count": 3,
   "metadata": {},
   "outputs": [],
   "source": [
    "# Text preprocesing\n",
    "\n",
    "import nltk\n",
    "import re\n",
    "from nltk.corpus import stopwords\n",
    "mystopwords=stopwords.words(\"English\") + ['']\n",
    "WNlemma = nltk.WordNetLemmatizer()\n",
    "\n",
    "def pre_process(text):\n",
    "    # Substituting multiple spaces with single space\n",
    "    processed_tweet= re.sub(r'\\s+', ' ', str(text), flags=re.I)\n",
    "\n",
    "    tokens = nltk.word_tokenize(processed_tweet)\n",
    "    tokens = [ t.lower() for t in tokens]\n",
    "    tokens = [ t for t in tokens if t not in mystopwords]\n",
    "    text_after_process=\" \".join(tokens)\n",
    "    return(text_after_process)"
   ]
  },
  {
   "cell_type": "code",
   "execution_count": 4,
   "metadata": {},
   "outputs": [],
   "source": [
    "#Read the csv file \n",
    "df = pd.read_csv('data/train.csv')"
   ]
  },
  {
   "cell_type": "code",
   "execution_count": 5,
   "metadata": {
    "scrolled": true
   },
   "outputs": [
    {
     "data": {
      "text/html": [
       "<div>\n",
       "<style scoped>\n",
       "    .dataframe tbody tr th:only-of-type {\n",
       "        vertical-align: middle;\n",
       "    }\n",
       "\n",
       "    .dataframe tbody tr th {\n",
       "        vertical-align: top;\n",
       "    }\n",
       "\n",
       "    .dataframe thead th {\n",
       "        text-align: right;\n",
       "    }\n",
       "</style>\n",
       "<table border=\"1\" class=\"dataframe\">\n",
       "  <thead>\n",
       "    <tr style=\"text-align: right;\">\n",
       "      <th></th>\n",
       "      <th>review_id</th>\n",
       "      <th>review</th>\n",
       "      <th>rating</th>\n",
       "    </tr>\n",
       "  </thead>\n",
       "  <tbody>\n",
       "    <tr>\n",
       "      <th>0</th>\n",
       "      <td>0</td>\n",
       "      <td>Ga disappointed neat products .. Meletot Hilsn...</td>\n",
       "      <td>1</td>\n",
       "    </tr>\n",
       "    <tr>\n",
       "      <th>1</th>\n",
       "      <td>1</td>\n",
       "      <td>Rdtanya replace broken glass, broken chargernya</td>\n",
       "      <td>1</td>\n",
       "    </tr>\n",
       "    <tr>\n",
       "      <th>2</th>\n",
       "      <td>2</td>\n",
       "      <td>Nyesel bngt dsni shopping antecedent photo mes...</td>\n",
       "      <td>1</td>\n",
       "    </tr>\n",
       "    <tr>\n",
       "      <th>3</th>\n",
       "      <td>3</td>\n",
       "      <td>Sent a light blue suit goods ga want a refund</td>\n",
       "      <td>1</td>\n",
       "    </tr>\n",
       "    <tr>\n",
       "      <th>4</th>\n",
       "      <td>4</td>\n",
       "      <td>Pendants came with dents and scratches on its ...</td>\n",
       "      <td>1</td>\n",
       "    </tr>\n",
       "    <tr>\n",
       "      <th>...</th>\n",
       "      <td>...</td>\n",
       "      <td>...</td>\n",
       "      <td>...</td>\n",
       "    </tr>\n",
       "    <tr>\n",
       "      <th>146806</th>\n",
       "      <td>146806</td>\n",
       "      <td>Excellent product quality delivery speed is ve...</td>\n",
       "      <td>5</td>\n",
       "    </tr>\n",
       "    <tr>\n",
       "      <th>146807</th>\n",
       "      <td>146807</td>\n",
       "      <td>thanks gan</td>\n",
       "      <td>5</td>\n",
       "    </tr>\n",
       "    <tr>\n",
       "      <th>146808</th>\n",
       "      <td>146808</td>\n",
       "      <td>Awesome awesome quality merchandise value CP ...</td>\n",
       "      <td>5</td>\n",
       "    </tr>\n",
       "    <tr>\n",
       "      <th>146809</th>\n",
       "      <td>146809</td>\n",
       "      <td>Nice Packing boxes made effective price .........</td>\n",
       "      <td>5</td>\n",
       "    </tr>\n",
       "    <tr>\n",
       "      <th>146810</th>\n",
       "      <td>146810</td>\n",
       "      <td>Excellent product quality excellent product p...</td>\n",
       "      <td>5</td>\n",
       "    </tr>\n",
       "  </tbody>\n",
       "</table>\n",
       "<p>146811 rows × 3 columns</p>\n",
       "</div>"
      ],
      "text/plain": [
       "        review_id                                             review  rating\n",
       "0               0  Ga disappointed neat products .. Meletot Hilsn...       1\n",
       "1               1    Rdtanya replace broken glass, broken chargernya       1\n",
       "2               2  Nyesel bngt dsni shopping antecedent photo mes...       1\n",
       "3               3      Sent a light blue suit goods ga want a refund       1\n",
       "4               4  Pendants came with dents and scratches on its ...       1\n",
       "...           ...                                                ...     ...\n",
       "146806     146806  Excellent product quality delivery speed is ve...       5\n",
       "146807     146807                                         thanks gan       5\n",
       "146808     146808   Awesome awesome quality merchandise value CP ...       5\n",
       "146809     146809  Nice Packing boxes made effective price .........       5\n",
       "146810     146810   Excellent product quality excellent product p...       5\n",
       "\n",
       "[146811 rows x 3 columns]"
      ]
     },
     "execution_count": 5,
     "metadata": {},
     "output_type": "execute_result"
    }
   ],
   "source": [
    "df"
   ]
  },
  {
   "cell_type": "code",
   "execution_count": 6,
   "metadata": {},
   "outputs": [
    {
     "data": {
      "text/plain": [
       "(146811, 3)"
      ]
     },
     "execution_count": 6,
     "metadata": {},
     "output_type": "execute_result"
    }
   ],
   "source": [
    "df.shape"
   ]
  },
  {
   "cell_type": "code",
   "execution_count": 7,
   "metadata": {},
   "outputs": [
    {
     "data": {
      "text/plain": [
       "<matplotlib.axes._subplots.AxesSubplot at 0x218e7822508>"
      ]
     },
     "execution_count": 7,
     "metadata": {},
     "output_type": "execute_result"
    },
    {
     "data": {
      "image/png": "[encoded data removed]",
      "text/plain": [
       "<Figure size 432x288 with 1 Axes>"
      ]
     },
     "metadata": {
      "needs_background": "light"
     },
     "output_type": "display_data"
    }
   ],
   "source": [
    "df.isnull().mean().sort_values(ascending=False).plot(kind='bar')"
   ]
  },
  {
   "cell_type": "code",
   "execution_count": 8,
   "metadata": {},
   "outputs": [
    {
     "data": {
      "text/plain": [
       "<matplotlib.axes._subplots.AxesSubplot at 0x218e78b4988>"
      ]
     },
     "execution_count": 8,
     "metadata": {},
     "output_type": "execute_result"
    },
    {
     "data": {
      "image/png": "[encoded data removed]",
      "text/plain": [
       "<Figure size 432x288 with 1 Axes>"
      ]
     },
     "metadata": {
      "needs_background": "light"
     },
     "output_type": "display_data"
    }
   ],
   "source": [
    "# Get only the raw body text\n",
    "df['rating'].value_counts(dropna=False).plot(kind='bar')"
   ]
  },
  {
   "cell_type": "markdown",
   "metadata": {},
   "source": [
    "### Shuffle the datasets for randomness & Equalised the Bullish and Bearish datasets"
   ]
  },
  {
   "cell_type": "code",
   "execution_count": 9,
   "metadata": {
    "scrolled": true
   },
   "outputs": [],
   "source": [
    "df['text'] = df.review.apply(pre_process)"
   ]
  },
  {
   "cell_type": "code",
   "execution_count": 10,
   "metadata": {
    "scrolled": true
   },
   "outputs": [
    {
     "data": {
      "text/html": [
       "<div>\n",
       "<style scoped>\n",
       "    .dataframe tbody tr th:only-of-type {\n",
       "        vertical-align: middle;\n",
       "    }\n",
       "\n",
       "    .dataframe tbody tr th {\n",
       "        vertical-align: top;\n",
       "    }\n",
       "\n",
       "    .dataframe thead th {\n",
       "        text-align: right;\n",
       "    }\n",
       "</style>\n",
       "<table border=\"1\" class=\"dataframe\">\n",
       "  <thead>\n",
       "    <tr style=\"text-align: right;\">\n",
       "      <th></th>\n",
       "      <th>review_id</th>\n",
       "      <th>review</th>\n",
       "      <th>rating</th>\n",
       "      <th>text</th>\n",
       "    </tr>\n",
       "  </thead>\n",
       "  <tbody>\n",
       "    <tr>\n",
       "      <th>0</th>\n",
       "      <td>0</td>\n",
       "      <td>Ga disappointed neat products .. Meletot Hilsn...</td>\n",
       "      <td>1</td>\n",
       "      <td>ga disappointed neat products .. meletot hilsn...</td>\n",
       "    </tr>\n",
       "    <tr>\n",
       "      <th>1</th>\n",
       "      <td>1</td>\n",
       "      <td>Rdtanya replace broken glass, broken chargernya</td>\n",
       "      <td>1</td>\n",
       "      <td>rdtanya replace broken glass , broken chargernya</td>\n",
       "    </tr>\n",
       "    <tr>\n",
       "      <th>2</th>\n",
       "      <td>2</td>\n",
       "      <td>Nyesel bngt dsni shopping antecedent photo mes...</td>\n",
       "      <td>1</td>\n",
       "      <td>nyesel bngt dsni shopping antecedent photo mes...</td>\n",
       "    </tr>\n",
       "    <tr>\n",
       "      <th>3</th>\n",
       "      <td>3</td>\n",
       "      <td>Sent a light blue suit goods ga want a refund</td>\n",
       "      <td>1</td>\n",
       "      <td>sent light blue suit goods ga want refund</td>\n",
       "    </tr>\n",
       "    <tr>\n",
       "      <th>4</th>\n",
       "      <td>4</td>\n",
       "      <td>Pendants came with dents and scratches on its ...</td>\n",
       "      <td>1</td>\n",
       "      <td>pendants came dents scratches surface . coatin...</td>\n",
       "    </tr>\n",
       "    <tr>\n",
       "      <th>...</th>\n",
       "      <td>...</td>\n",
       "      <td>...</td>\n",
       "      <td>...</td>\n",
       "      <td>...</td>\n",
       "    </tr>\n",
       "    <tr>\n",
       "      <th>146806</th>\n",
       "      <td>146806</td>\n",
       "      <td>Excellent product quality delivery speed is ve...</td>\n",
       "      <td>5</td>\n",
       "      <td>excellent product quality delivery speed good ...</td>\n",
       "    </tr>\n",
       "    <tr>\n",
       "      <th>146807</th>\n",
       "      <td>146807</td>\n",
       "      <td>thanks gan</td>\n",
       "      <td>5</td>\n",
       "      <td>thanks gan</td>\n",
       "    </tr>\n",
       "    <tr>\n",
       "      <th>146808</th>\n",
       "      <td>146808</td>\n",
       "      <td>Awesome awesome quality merchandise value CP ...</td>\n",
       "      <td>5</td>\n",
       "      <td>awesome awesome quality merchandise value cp n...</td>\n",
       "    </tr>\n",
       "    <tr>\n",
       "      <th>146809</th>\n",
       "      <td>146809</td>\n",
       "      <td>Nice Packing boxes made effective price .........</td>\n",
       "      <td>5</td>\n",
       "      <td>nice packing boxes made effective price ... .....</td>\n",
       "    </tr>\n",
       "    <tr>\n",
       "      <th>146810</th>\n",
       "      <td>146810</td>\n",
       "      <td>Excellent product quality excellent product p...</td>\n",
       "      <td>5</td>\n",
       "      <td>excellent product quality excellent product pr...</td>\n",
       "    </tr>\n",
       "  </tbody>\n",
       "</table>\n",
       "<p>146811 rows × 4 columns</p>\n",
       "</div>"
      ],
      "text/plain": [
       "        review_id                                             review  rating  \\\n",
       "0               0  Ga disappointed neat products .. Meletot Hilsn...       1   \n",
       "1               1    Rdtanya replace broken glass, broken chargernya       1   \n",
       "2               2  Nyesel bngt dsni shopping antecedent photo mes...       1   \n",
       "3               3      Sent a light blue suit goods ga want a refund       1   \n",
       "4               4  Pendants came with dents and scratches on its ...       1   \n",
       "...           ...                                                ...     ...   \n",
       "146806     146806  Excellent product quality delivery speed is ve...       5   \n",
       "146807     146807                                         thanks gan       5   \n",
       "146808     146808   Awesome awesome quality merchandise value CP ...       5   \n",
       "146809     146809  Nice Packing boxes made effective price .........       5   \n",
       "146810     146810   Excellent product quality excellent product p...       5   \n",
       "\n",
       "                                                     text  \n",
       "0       ga disappointed neat products .. meletot hilsn...  \n",
       "1        rdtanya replace broken glass , broken chargernya  \n",
       "2       nyesel bngt dsni shopping antecedent photo mes...  \n",
       "3               sent light blue suit goods ga want refund  \n",
       "4       pendants came dents scratches surface . coatin...  \n",
       "...                                                   ...  \n",
       "146806  excellent product quality delivery speed good ...  \n",
       "146807                                         thanks gan  \n",
       "146808  awesome awesome quality merchandise value cp n...  \n",
       "146809  nice packing boxes made effective price ... .....  \n",
       "146810  excellent product quality excellent product pr...  \n",
       "\n",
       "[146811 rows x 4 columns]"
      ]
     },
     "execution_count": 10,
     "metadata": {},
     "output_type": "execute_result"
    }
   ],
   "source": [
    "df"
   ]
  },
  {
   "cell_type": "code",
   "execution_count": 11,
   "metadata": {},
   "outputs": [
    {
     "data": {
      "text/plain": [
       "4    41865\n",
       "5    41515\n",
       "3    35941\n",
       "1    14785\n",
       "2    12705\n",
       "Name: rating, dtype: int64"
      ]
     },
     "execution_count": 11,
     "metadata": {},
     "output_type": "execute_result"
    }
   ],
   "source": [
    "df['rating'].value_counts()"
   ]
  },
  {
   "cell_type": "code",
   "execution_count": 12,
   "metadata": {},
   "outputs": [],
   "source": [
    "rating_1 = df[df.rating == 1] \n",
    "rating_2 = df[df.rating == 2]\n",
    "rating_3 = df[df.rating == 3] \n",
    "rating_4 = df[df.rating == 4]\n",
    "rating_5 = df[df.rating == 5] \n"
   ]
  },
  {
   "cell_type": "code",
   "execution_count": 13,
   "metadata": {},
   "outputs": [],
   "source": [
    "rating_1_upsampled = utils.resample(rating_1, \n",
    "                                 replace=True,     # sample with replacement\n",
    "                                 n_samples=rating_4.shape[0],    # to match majority class\n",
    "                                 random_state=42)"
   ]
  },
  {
   "cell_type": "code",
   "execution_count": 14,
   "metadata": {},
   "outputs": [
    {
     "data": {
      "text/plain": [
       "(41865, 4)"
      ]
     },
     "execution_count": 14,
     "metadata": {},
     "output_type": "execute_result"
    }
   ],
   "source": [
    "rating_1_upsampled.shape"
   ]
  },
  {
   "cell_type": "code",
   "execution_count": 15,
   "metadata": {},
   "outputs": [],
   "source": [
    "rating_2_upsampled = utils.resample(rating_2, replace=True, n_samples=rating_4.shape[0], random_state=42)\n",
    "rating_3_upsampled = utils.resample(rating_3, replace=True, n_samples=rating_4.shape[0], random_state=42)\n",
    "rating_5_upsampled = utils.resample(rating_5, replace=True, n_samples=rating_4.shape[0], random_state=42)"
   ]
  },
  {
   "cell_type": "code",
   "execution_count": 16,
   "metadata": {},
   "outputs": [
    {
     "data": {
      "text/plain": [
       "(41865, 4)"
      ]
     },
     "execution_count": 16,
     "metadata": {},
     "output_type": "execute_result"
    }
   ],
   "source": [
    "rating_2_upsampled.shape"
   ]
  },
  {
   "cell_type": "code",
   "execution_count": 17,
   "metadata": {},
   "outputs": [
    {
     "data": {
      "text/plain": [
       "(209325, 4)"
      ]
     },
     "execution_count": 17,
     "metadata": {},
     "output_type": "execute_result"
    }
   ],
   "source": [
    "df_upsampled = pd.concat([rating_1_upsampled, rating_2_upsampled,rating_3_upsampled,rating_4,rating_5_upsampled])\n",
    "df_upsampled.shape"
   ]
  },
  {
   "cell_type": "code",
   "execution_count": 18,
   "metadata": {},
   "outputs": [
    {
     "data": {
      "text/plain": [
       "5    41865\n",
       "4    41865\n",
       "3    41865\n",
       "2    41865\n",
       "1    41865\n",
       "Name: rating, dtype: int64"
      ]
     },
     "execution_count": 18,
     "metadata": {},
     "output_type": "execute_result"
    }
   ],
   "source": [
    "df_upsampled['rating'].value_counts()"
   ]
  },
  {
   "cell_type": "code",
   "execution_count": 19,
   "metadata": {
    "scrolled": true
   },
   "outputs": [
    {
     "data": {
      "text/html": [
       "<div>\n",
       "<style scoped>\n",
       "    .dataframe tbody tr th:only-of-type {\n",
       "        vertical-align: middle;\n",
       "    }\n",
       "\n",
       "    .dataframe tbody tr th {\n",
       "        vertical-align: top;\n",
       "    }\n",
       "\n",
       "    .dataframe thead th {\n",
       "        text-align: right;\n",
       "    }\n",
       "</style>\n",
       "<table border=\"1\" class=\"dataframe\">\n",
       "  <thead>\n",
       "    <tr style=\"text-align: right;\">\n",
       "      <th></th>\n",
       "      <th>review_id</th>\n",
       "      <th>review</th>\n",
       "      <th>rating</th>\n",
       "      <th>text</th>\n",
       "    </tr>\n",
       "  </thead>\n",
       "  <tbody>\n",
       "    <tr>\n",
       "      <th>7270</th>\n",
       "      <td>7270</td>\n",
       "      <td>the side of the shirt there who do not terjahi...</td>\n",
       "      <td>1</td>\n",
       "      <td>side shirt terjahit..huufftt gmn qc ga yaa..ko...</td>\n",
       "    </tr>\n",
       "    <tr>\n",
       "      <th>860</th>\n",
       "      <td>860</td>\n",
       "      <td>I could use ... GK adherents declined wlwpun a...</td>\n",
       "      <td>1</td>\n",
       "      <td>could use ... gk adherents declined wlwpun alr...</td>\n",
       "    </tr>\n",
       "    <tr>\n",
       "      <th>5390</th>\n",
       "      <td>5390</td>\n",
       "      <td>What message does Its ok pretty good, but the ...</td>\n",
       "      <td>1</td>\n",
       "      <td>message ok pretty good , service store terrible .</td>\n",
       "    </tr>\n",
       "    <tr>\n",
       "      <th>13418</th>\n",
       "      <td>13418</td>\n",
       "      <td>No delivery Leads</td>\n",
       "      <td>1</td>\n",
       "      <td>delivery leads</td>\n",
       "    </tr>\n",
       "    <tr>\n",
       "      <th>5191</th>\n",
       "      <td>5191</td>\n",
       "      <td>Totally different from the picture . Very diss...</td>\n",
       "      <td>1</td>\n",
       "      <td>totally different picture . dissapointed .</td>\n",
       "    </tr>\n",
       "    <tr>\n",
       "      <th>...</th>\n",
       "      <td>...</td>\n",
       "      <td>...</td>\n",
       "      <td>...</td>\n",
       "      <td>...</td>\n",
       "    </tr>\n",
       "    <tr>\n",
       "      <th>139471</th>\n",
       "      <td>139471</td>\n",
       "      <td>👍👍👍much recommended bag...  Tha quality is awe...</td>\n",
       "      <td>5</td>\n",
       "      <td>👍👍👍much recommended bag ... tha quality awesom...</td>\n",
       "    </tr>\n",
       "    <tr>\n",
       "      <th>114308</th>\n",
       "      <td>114308</td>\n",
       "      <td>Thanks yg sdh awaited come and secure Buy when...</td>\n",
       "      <td>5</td>\n",
       "      <td>thanks yg sdh awaited come secure buy promo .....</td>\n",
       "    </tr>\n",
       "    <tr>\n",
       "      <th>112326</th>\n",
       "      <td>112326</td>\n",
       "      <td>Well-packaged Will order again</td>\n",
       "      <td>5</td>\n",
       "      <td>well-packaged order</td>\n",
       "    </tr>\n",
       "    <tr>\n",
       "      <th>126210</th>\n",
       "      <td>126210</td>\n",
       "      <td>Good quality primer Price was A good product p...</td>\n",
       "      <td>5</td>\n",
       "      <td>good quality primer price good product pack pr...</td>\n",
       "    </tr>\n",
       "    <tr>\n",
       "      <th>113224</th>\n",
       "      <td>113224</td>\n",
       "      <td>Received ready the item with safely very nice ...</td>\n",
       "      <td>5</td>\n",
       "      <td>received ready item safely nice fast delivery ...</td>\n",
       "    </tr>\n",
       "  </tbody>\n",
       "</table>\n",
       "<p>209325 rows × 4 columns</p>\n",
       "</div>"
      ],
      "text/plain": [
       "        review_id                                             review  rating  \\\n",
       "7270         7270  the side of the shirt there who do not terjahi...       1   \n",
       "860           860  I could use ... GK adherents declined wlwpun a...       1   \n",
       "5390         5390  What message does Its ok pretty good, but the ...       1   \n",
       "13418       13418                                  No delivery Leads       1   \n",
       "5191         5191  Totally different from the picture . Very diss...       1   \n",
       "...           ...                                                ...     ...   \n",
       "139471     139471  👍👍👍much recommended bag...  Tha quality is awe...       5   \n",
       "114308     114308  Thanks yg sdh awaited come and secure Buy when...       5   \n",
       "112326     112326                     Well-packaged Will order again       5   \n",
       "126210     126210  Good quality primer Price was A good product p...       5   \n",
       "113224     113224  Received ready the item with safely very nice ...       5   \n",
       "\n",
       "                                                     text  \n",
       "7270    side shirt terjahit..huufftt gmn qc ga yaa..ko...  \n",
       "860     could use ... gk adherents declined wlwpun alr...  \n",
       "5390    message ok pretty good , service store terrible .  \n",
       "13418                                      delivery leads  \n",
       "5191           totally different picture . dissapointed .  \n",
       "...                                                   ...  \n",
       "139471  👍👍👍much recommended bag ... tha quality awesom...  \n",
       "114308  thanks yg sdh awaited come secure buy promo .....  \n",
       "112326                                well-packaged order  \n",
       "126210  good quality primer price good product pack pr...  \n",
       "113224  received ready item safely nice fast delivery ...  \n",
       "\n",
       "[209325 rows x 4 columns]"
      ]
     },
     "execution_count": 19,
     "metadata": {},
     "output_type": "execute_result"
    }
   ],
   "source": [
    "df_upsampled"
   ]
  },
  {
   "cell_type": "code",
   "execution_count": 20,
   "metadata": {},
   "outputs": [
    {
     "data": {
      "text/plain": [
       "<matplotlib.axes._subplots.AxesSubplot at 0x218e75ca5c8>"
      ]
     },
     "execution_count": 20,
     "metadata": {},
     "output_type": "execute_result"
    },
    {
     "data": {
      "image/png": "[encoded data removed]",
      "text/plain": [
       "<Figure size 432x288 with 1 Axes>"
      ]
     },
     "metadata": {
      "needs_background": "light"
     },
     "output_type": "display_data"
    }
   ],
   "source": [
    "df_upsampled.isnull().mean().sort_values(ascending=False).plot(kind='bar')"
   ]
  },
  {
   "cell_type": "code",
   "execution_count": 21,
   "metadata": {},
   "outputs": [],
   "source": [
    "df_upsampled.to_csv('data_upsampled.csv',index=False)"
   ]
  },
  {
   "cell_type": "code",
   "execution_count": 22,
   "metadata": {},
   "outputs": [
    {
     "name": "stdout",
     "output_type": "stream",
     "text": [
      "<class 'pandas.core.frame.DataFrame'>\n",
      "Int64Index: 209325 entries, 7270 to 113224\n",
      "Data columns (total 4 columns):\n",
      " #   Column     Non-Null Count   Dtype \n",
      "---  ------     --------------   ----- \n",
      " 0   review_id  209325 non-null  int64 \n",
      " 1   review     209325 non-null  object\n",
      " 2   rating     209325 non-null  int64 \n",
      " 3   text       209325 non-null  object\n",
      "dtypes: int64(2), object(2)\n",
      "memory usage: 8.0+ MB\n"
     ]
    }
   ],
   "source": [
    "df_upsampled.info()"
   ]
  },
  {
   "cell_type": "code",
   "execution_count": 23,
   "metadata": {
    "scrolled": true
   },
   "outputs": [
    {
     "data": {
      "text/html": [
       "<div>\n",
       "<style scoped>\n",
       "    .dataframe tbody tr th:only-of-type {\n",
       "        vertical-align: middle;\n",
       "    }\n",
       "\n",
       "    .dataframe tbody tr th {\n",
       "        vertical-align: top;\n",
       "    }\n",
       "\n",
       "    .dataframe thead th {\n",
       "        text-align: right;\n",
       "    }\n",
       "</style>\n",
       "<table border=\"1\" class=\"dataframe\">\n",
       "  <thead>\n",
       "    <tr style=\"text-align: right;\">\n",
       "      <th></th>\n",
       "      <th>review_id</th>\n",
       "      <th>review</th>\n",
       "      <th>rating</th>\n",
       "      <th>text</th>\n",
       "    </tr>\n",
       "  </thead>\n",
       "  <tbody>\n",
       "    <tr>\n",
       "      <th>0</th>\n",
       "      <td>7270</td>\n",
       "      <td>the side of the shirt there who do not terjahi...</td>\n",
       "      <td>1</td>\n",
       "      <td>side shirt terjahit..huufftt gmn qc ga yaa..ko...</td>\n",
       "    </tr>\n",
       "    <tr>\n",
       "      <th>1</th>\n",
       "      <td>860</td>\n",
       "      <td>I could use ... GK adherents declined wlwpun a...</td>\n",
       "      <td>1</td>\n",
       "      <td>could use ... gk adherents declined wlwpun alr...</td>\n",
       "    </tr>\n",
       "    <tr>\n",
       "      <th>2</th>\n",
       "      <td>5390</td>\n",
       "      <td>What message does Its ok pretty good, but the ...</td>\n",
       "      <td>1</td>\n",
       "      <td>message ok pretty good , service store terrible .</td>\n",
       "    </tr>\n",
       "    <tr>\n",
       "      <th>3</th>\n",
       "      <td>13418</td>\n",
       "      <td>No delivery Leads</td>\n",
       "      <td>1</td>\n",
       "      <td>delivery leads</td>\n",
       "    </tr>\n",
       "    <tr>\n",
       "      <th>4</th>\n",
       "      <td>5191</td>\n",
       "      <td>Totally different from the picture . Very diss...</td>\n",
       "      <td>1</td>\n",
       "      <td>totally different picture . dissapointed .</td>\n",
       "    </tr>\n",
       "    <tr>\n",
       "      <th>...</th>\n",
       "      <td>...</td>\n",
       "      <td>...</td>\n",
       "      <td>...</td>\n",
       "      <td>...</td>\n",
       "    </tr>\n",
       "    <tr>\n",
       "      <th>209320</th>\n",
       "      <td>139471</td>\n",
       "      <td>👍👍👍much recommended bag...  Tha quality is awe...</td>\n",
       "      <td>5</td>\n",
       "      <td>👍👍👍much recommended bag ... tha quality awesom...</td>\n",
       "    </tr>\n",
       "    <tr>\n",
       "      <th>209321</th>\n",
       "      <td>114308</td>\n",
       "      <td>Thanks yg sdh awaited come and secure Buy when...</td>\n",
       "      <td>5</td>\n",
       "      <td>thanks yg sdh awaited come secure buy promo .....</td>\n",
       "    </tr>\n",
       "    <tr>\n",
       "      <th>209322</th>\n",
       "      <td>112326</td>\n",
       "      <td>Well-packaged Will order again</td>\n",
       "      <td>5</td>\n",
       "      <td>well-packaged order</td>\n",
       "    </tr>\n",
       "    <tr>\n",
       "      <th>209323</th>\n",
       "      <td>126210</td>\n",
       "      <td>Good quality primer Price was A good product p...</td>\n",
       "      <td>5</td>\n",
       "      <td>good quality primer price good product pack pr...</td>\n",
       "    </tr>\n",
       "    <tr>\n",
       "      <th>209324</th>\n",
       "      <td>113224</td>\n",
       "      <td>Received ready the item with safely very nice ...</td>\n",
       "      <td>5</td>\n",
       "      <td>received ready item safely nice fast delivery ...</td>\n",
       "    </tr>\n",
       "  </tbody>\n",
       "</table>\n",
       "<p>209325 rows × 4 columns</p>\n",
       "</div>"
      ],
      "text/plain": [
       "        review_id                                             review  rating  \\\n",
       "0            7270  the side of the shirt there who do not terjahi...       1   \n",
       "1             860  I could use ... GK adherents declined wlwpun a...       1   \n",
       "2            5390  What message does Its ok pretty good, but the ...       1   \n",
       "3           13418                                  No delivery Leads       1   \n",
       "4            5191  Totally different from the picture . Very diss...       1   \n",
       "...           ...                                                ...     ...   \n",
       "209320     139471  👍👍👍much recommended bag...  Tha quality is awe...       5   \n",
       "209321     114308  Thanks yg sdh awaited come and secure Buy when...       5   \n",
       "209322     112326                     Well-packaged Will order again       5   \n",
       "209323     126210  Good quality primer Price was A good product p...       5   \n",
       "209324     113224  Received ready the item with safely very nice ...       5   \n",
       "\n",
       "                                                     text  \n",
       "0       side shirt terjahit..huufftt gmn qc ga yaa..ko...  \n",
       "1       could use ... gk adherents declined wlwpun alr...  \n",
       "2       message ok pretty good , service store terrible .  \n",
       "3                                          delivery leads  \n",
       "4              totally different picture . dissapointed .  \n",
       "...                                                   ...  \n",
       "209320  👍👍👍much recommended bag ... tha quality awesom...  \n",
       "209321  thanks yg sdh awaited come secure buy promo .....  \n",
       "209322                                well-packaged order  \n",
       "209323  good quality primer price good product pack pr...  \n",
       "209324  received ready item safely nice fast delivery ...  \n",
       "\n",
       "[209325 rows x 4 columns]"
      ]
     },
     "execution_count": 23,
     "metadata": {},
     "output_type": "execute_result"
    }
   ],
   "source": [
    "df = pd.read_csv('data_upsampled.csv')\n",
    "df"
   ]
  },
  {
   "cell_type": "code",
   "execution_count": 24,
   "metadata": {},
   "outputs": [
    {
     "data": {
      "text/plain": [
       "<matplotlib.axes._subplots.AxesSubplot at 0x218f263c188>"
      ]
     },
     "execution_count": 24,
     "metadata": {},
     "output_type": "execute_result"
    },
    {
     "data": {
      "image/png": "[encoded data removed]",
      "text/plain": [
       "<Figure size 432x288 with 1 Axes>"
      ]
     },
     "metadata": {
      "needs_background": "light"
     },
     "output_type": "display_data"
    }
   ],
   "source": [
    "df.isnull().mean().sort_values(ascending=False).plot(kind='bar')"
   ]
  },
  {
   "cell_type": "markdown",
   "metadata": {},
   "source": [
    "## Prepare dataset into train and test sets"
   ]
  },
  {
   "cell_type": "code",
   "execution_count": 25,
   "metadata": {},
   "outputs": [],
   "source": [
    "all_data  = df_upsampled.text\n",
    "all_label = df_upsampled.rating"
   ]
  },
  {
   "cell_type": "code",
   "execution_count": 26,
   "metadata": {},
   "outputs": [
    {
     "data": {
      "text/plain": [
       "209325"
      ]
     },
     "execution_count": 26,
     "metadata": {},
     "output_type": "execute_result"
    }
   ],
   "source": [
    "len(all_data)"
   ]
  },
  {
   "cell_type": "code",
   "execution_count": 27,
   "metadata": {},
   "outputs": [
    {
     "data": {
      "text/plain": [
       "209325"
      ]
     },
     "execution_count": 27,
     "metadata": {},
     "output_type": "execute_result"
    }
   ],
   "source": [
    "len(all_label)"
   ]
  },
  {
   "cell_type": "markdown",
   "metadata": {},
   "source": [
    "### Using train test split "
   ]
  },
  {
   "cell_type": "code",
   "execution_count": 28,
   "metadata": {},
   "outputs": [],
   "source": [
    "X_train, X_test, Y_train, Y_test = train_test_split(all_data, all_label, test_size=0.10, random_state=42,shuffle=True)"
   ]
  },
  {
   "cell_type": "code",
   "execution_count": 29,
   "metadata": {},
   "outputs": [
    {
     "data": {
      "text/plain": [
       "188392"
      ]
     },
     "execution_count": 29,
     "metadata": {},
     "output_type": "execute_result"
    }
   ],
   "source": [
    "len(X_train)"
   ]
  },
  {
   "cell_type": "code",
   "execution_count": 30,
   "metadata": {},
   "outputs": [
    {
     "data": {
      "text/plain": [
       "20933"
      ]
     },
     "execution_count": 30,
     "metadata": {},
     "output_type": "execute_result"
    }
   ],
   "source": [
    "len(X_test)"
   ]
  },
  {
   "cell_type": "markdown",
   "metadata": {},
   "source": [
    "## Vectorise"
   ]
  },
  {
   "cell_type": "markdown",
   "metadata": {},
   "source": [
    "- Vectorizer the sentences using Tfidf vale\n",
    "- Make sure test data should be transformed using vectorizer learned from trainning data "
   ]
  },
  {
   "cell_type": "code",
   "execution_count": 31,
   "metadata": {},
   "outputs": [
    {
     "data": {
      "text/plain": [
       "(188392, 4488649)"
      ]
     },
     "execution_count": 31,
     "metadata": {},
     "output_type": "execute_result"
    }
   ],
   "source": [
    "vectorizer = TfidfVectorizer(stop_words=u'english',ngram_range=(1,15),lowercase=True)\n",
    "train_vectors = vectorizer.fit_transform(X_train)\n",
    "test_vectors = vectorizer.transform(X_test)\n",
    "\n",
    "# same feature set\n",
    "train_vectors.shape"
   ]
  },
  {
   "cell_type": "code",
   "execution_count": 32,
   "metadata": {},
   "outputs": [
    {
     "data": {
      "text/plain": [
       "(20933, 4488649)"
      ]
     },
     "execution_count": 32,
     "metadata": {},
     "output_type": "execute_result"
    }
   ],
   "source": [
    "test_vectors.shape"
   ]
  },
  {
   "cell_type": "code",
   "execution_count": 33,
   "metadata": {},
   "outputs": [
    {
     "name": "stdout",
     "output_type": "stream",
     "text": [
      "['𝚠𝚛𝚊𝚙 𝙿𝚊𝚐𝚒 𝚙𝚎𝚜𝚊𝚗 𝚜𝚒𝚊𝚗𝚐 𝚕𝚐𝚜 𝚍𝚒𝚔𝚒𝚛𝚒𝚖 𝚜𝚊𝚋𝚝𝚞 𝚙𝚎𝚜𝚊𝚗 𝚑𝚊𝚛𝚒 𝚜𝚎𝚗𝚒𝚗 𝚜𝚊𝚖𝚙𝚊𝚒 𝙱𝚊𝚛𝚊𝚗𝚐 𝚜𝚎𝚜𝚞𝚊𝚒 𝚍𝚎𝚗𝚐𝚊𝚗 𝚏𝚘𝚝𝚘', 'kasihhhhh rec satisfied deh blnja dsni']\n"
     ]
    }
   ],
   "source": [
    "indices = np.argsort(vectorizer.idf_)[::-1]\n",
    "features = vectorizer.get_feature_names()\n",
    "top_n = 2\n",
    "top_features = [features[i] for i in indices[:top_n]]\n",
    "print(top_features)"
   ]
  },
  {
   "cell_type": "code",
   "execution_count": 34,
   "metadata": {},
   "outputs": [],
   "source": [
    "import pickle\n",
    "# Dump the file\n",
    "pickle.dump(train_vectors, open(\"tfidf_train_vectors.pkl\", \"wb\"))\n",
    "pickle.dump(vectorizer, open(\"tfidf_train_vectorizer.pkl\", \"wb\"))"
   ]
  },
  {
   "cell_type": "code",
   "execution_count": 36,
   "metadata": {},
   "outputs": [
    {
     "data": {
      "text/plain": [
       "4488649"
      ]
     },
     "execution_count": 36,
     "metadata": {},
     "output_type": "execute_result"
    }
   ],
   "source": [
    "len(indices)"
   ]
  },
  {
   "cell_type": "code",
   "execution_count": 37,
   "metadata": {},
   "outputs": [
    {
     "data": {
      "text/plain": [
       "['00',\n",
       " '00 00',\n",
       " '00 00 00',\n",
       " '00 00 00 freelace',\n",
       " '00 00 00 freelace 00',\n",
       " '00 00 00 freelace 00 00',\n",
       " '00 00 00 freelace 00 00 00',\n",
       " '00 00 00 freelace 00 00 00 target',\n",
       " '00 00 00 freelace 00 00 00 target unit',\n",
       " '00 00 00 freelace 00 00 00 target unit 00',\n",
       " '00 00 00 freelace 00 00 00 target unit 00 00',\n",
       " '00 00 00 p30',\n",
       " '00 00 00 p30 lite',\n",
       " '00 00 00 p30 lite 00',\n",
       " '00 00 00 p30 lite 00 01',\n",
       " '00 00 00 p30 lite 00 01 00',\n",
       " '00 00 00 p30 lite 00 01 00 nova',\n",
       " '00 00 00 p30 lite 00 01 00 nova 5t',\n",
       " '00 00 00 p30 lite 00 01 00 nova 5t 00',\n",
       " '00 00 00 p30 lite 00 01 00 nova 5t 00 02',\n",
       " '00 00 00 p30 lite 00 01 00 nova 5t 00 02 01',\n",
       " '00 00 00 p30 lite 00 01 00 nova 5t 00 02 01 total',\n",
       " '00 00 00 p30 lite 00 01 00 nova 5t 00 02 01 total 00',\n",
       " '00 00 00 target',\n",
       " '00 00 00 target unit',\n",
       " '00 00 00 target unit 00',\n",
       " '00 00 00 target unit 00 00',\n",
       " '00 00 freelace',\n",
       " '00 00 freelace 00',\n",
       " '00 00 freelace 00 00',\n",
       " '00 00 freelace 00 00 00',\n",
       " '00 00 freelace 00 00 00 target',\n",
       " '00 00 freelace 00 00 00 target unit',\n",
       " '00 00 freelace 00 00 00 target unit 00',\n",
       " '00 00 freelace 00 00 00 target unit 00 00',\n",
       " '00 00 p30',\n",
       " '00 00 p30 lite',\n",
       " '00 00 p30 lite 00',\n",
       " '00 00 p30 lite 00 01',\n",
       " '00 00 p30 lite 00 01 00',\n",
       " '00 00 p30 lite 00 01 00 nova',\n",
       " '00 00 p30 lite 00 01 00 nova 5t',\n",
       " '00 00 p30 lite 00 01 00 nova 5t 00',\n",
       " '00 00 p30 lite 00 01 00 nova 5t 00 02',\n",
       " '00 00 p30 lite 00 01 00 nova 5t 00 02 01',\n",
       " '00 00 p30 lite 00 01 00 nova 5t 00 02 01 total',\n",
       " '00 00 p30 lite 00 01 00 nova 5t 00 02 01 total 00',\n",
       " '00 00 p30 lite 00 01 00 nova 5t 00 02 01 total 00 02',\n",
       " '00 00 target',\n",
       " '00 00 target unit',\n",
       " '00 00 target unit 00',\n",
       " '00 00 target unit 00 00',\n",
       " '00 01',\n",
       " '00 01 00',\n",
       " '00 01 00 nova',\n",
       " '00 01 00 nova 5t',\n",
       " '00 01 00 nova 5t 00',\n",
       " '00 01 00 nova 5t 00 02',\n",
       " '00 01 00 nova 5t 00 02 01',\n",
       " '00 01 00 nova 5t 00 02 01 total',\n",
       " '00 01 00 nova 5t 00 02 01 total 00',\n",
       " '00 01 00 nova 5t 00 02 01 total 00 02',\n",
       " '00 01 00 nova 5t 00 02 01 total 00 02 00',\n",
       " '00 01 00 nova 5t 00 02 01 total 00 02 00 acc',\n",
       " '00 01 00 nova 5t 00 02 01 total 00 02 00 acc wearable',\n",
       " '00 01 00 nova 5t 00 02 01 total 00 02 00 acc wearable watch',\n",
       " '00 02',\n",
       " '00 02 00',\n",
       " '00 02 00 acc',\n",
       " '00 02 00 acc wearable',\n",
       " '00 02 00 acc wearable watch',\n",
       " '00 02 00 acc wearable watch gt',\n",
       " '00 02 00 acc wearable watch gt 00',\n",
       " '00 02 00 acc wearable watch gt 00 00',\n",
       " '00 02 00 acc wearable watch gt 00 00 00',\n",
       " '00 02 00 acc wearable watch gt 00 00 00 freelace',\n",
       " '00 02 00 acc wearable watch gt 00 00 00 freelace 00',\n",
       " '00 02 00 acc wearable watch gt 00 00 00 freelace 00 00',\n",
       " '00 02 00 acc wearable watch gt 00 00 00 freelace 00 00 00',\n",
       " '00 02 00 acc wearable watch gt 00 00 00 freelace 00 00 00 target',\n",
       " '00 02 01',\n",
       " '00 02 01 total',\n",
       " '00 02 01 total 00',\n",
       " '00 02 01 total 00 02',\n",
       " '00 02 01 total 00 02 00',\n",
       " '00 02 01 total 00 02 00 acc',\n",
       " '00 02 01 total 00 02 00 acc wearable',\n",
       " '00 02 01 total 00 02 00 acc wearable watch',\n",
       " '00 02 01 total 00 02 00 acc wearable watch gt',\n",
       " '00 02 01 total 00 02 00 acc wearable watch gt 00',\n",
       " '00 02 01 total 00 02 00 acc wearable watch gt 00 00',\n",
       " '00 02 01 total 00 02 00 acc wearable watch gt 00 00 00',\n",
       " '00 02 01 total 00 02 00 acc wearable watch gt 00 00 00 freelace',\n",
       " '00 17',\n",
       " '00 17 00',\n",
       " '00 17 00 hrs',\n",
       " '00 17 00 hrs recommend',\n",
       " '00 17 00 hrs recommend changing',\n",
       " '00 17 00 hrs recommend changing shipping',\n",
       " '00 17 00 hrs recommend changing shipping company',\n",
       " '00 17 00 hrs recommend changing shipping company used',\n",
       " '00 17 00 hrs recommend changing shipping company used friday',\n",
       " '00 17 00 hrs recommend changing shipping company used friday saturday',\n",
       " '00 17 00 hrs recommend changing shipping company used friday saturday kerry',\n",
       " '00 17 00 hrs recommend changing shipping company used friday saturday kerry pickup',\n",
       " '00 17 00 hrs recommend changing shipping company used friday saturday kerry pickup 18',\n",
       " '00 17 00 hrs recommend changing shipping company used friday saturday kerry pickup 18 00',\n",
       " '00 acc',\n",
       " '00 acc wearable',\n",
       " '00 acc wearable watch',\n",
       " '00 acc wearable watch gt',\n",
       " '00 acc wearable watch gt 00',\n",
       " '00 acc wearable watch gt 00 00',\n",
       " '00 acc wearable watch gt 00 00 00',\n",
       " '00 acc wearable watch gt 00 00 00 freelace',\n",
       " '00 acc wearable watch gt 00 00 00 freelace 00',\n",
       " '00 acc wearable watch gt 00 00 00 freelace 00 00',\n",
       " '00 acc wearable watch gt 00 00 00 freelace 00 00 00',\n",
       " '00 acc wearable watch gt 00 00 00 freelace 00 00 00 target',\n",
       " '00 acc wearable watch gt 00 00 00 freelace 00 00 00 target unit',\n",
       " '00 acc wearable watch gt 00 00 00 freelace 00 00 00 target unit 00',\n",
       " '00 display',\n",
       " '00 display orders',\n",
       " '00 display orders shipped',\n",
       " '00 display orders shipped thought',\n",
       " '00 display orders shipped thought day',\n",
       " '00 display orders shipped thought day expect',\n",
       " '00 display orders shipped thought day expect fast',\n",
       " '00 display orders shipped thought day expect fast 00',\n",
       " '00 display orders shipped thought day expect fast 00 ultra',\n",
       " '00 display orders shipped thought day expect fast 00 ultra fast',\n",
       " '00 display orders shipped thought day expect fast 00 ultra fast color',\n",
       " '00 display orders shipped thought day expect fast 00 ultra fast color really',\n",
       " '00 display orders shipped thought day expect fast 00 ultra fast color really beautiful',\n",
       " '00 forget',\n",
       " '00 forget bring',\n",
       " '00 forget bring tools',\n",
       " '00 forget bring tools construction',\n",
       " '00 forget bring tools construction period',\n",
       " '00 forget bring tools construction period stairs',\n",
       " '00 forget bring tools construction period stairs breaking',\n",
       " '00 forget bring tools construction period stairs breaking result',\n",
       " '00 forget bring tools construction period stairs breaking result neighbors',\n",
       " '00 forget bring tools construction period stairs breaking result neighbors canopy',\n",
       " '00 forget bring tools construction period stairs breaking result neighbors canopy air',\n",
       " '00 forget bring tools construction period stairs breaking result neighbors canopy air conditioning',\n",
       " '00 forget bring tools construction period stairs breaking result neighbors canopy air conditioning 1000',\n",
       " '00 forget bring tools construction period stairs breaking result neighbors canopy air conditioning 1000 discount',\n",
       " '00 freelace',\n",
       " '00 freelace 00',\n",
       " '00 freelace 00 00',\n",
       " '00 freelace 00 00 00',\n",
       " '00 freelace 00 00 00 target',\n",
       " '00 freelace 00 00 00 target unit',\n",
       " '00 freelace 00 00 00 target unit 00',\n",
       " '00 freelace 00 00 00 target unit 00 00',\n",
       " '00 friendly',\n",
       " '00 friendly admin',\n",
       " '00 friendly admin immediately',\n",
       " '00 friendly admin immediately shipped',\n",
       " '00 friendly admin immediately shipped evening',\n",
       " '00 friendly admin immediately shipped evening day',\n",
       " '00 friendly admin immediately shipped evening day midday',\n",
       " '00 friendly admin immediately shipped evening day midday prayers',\n",
       " '00 friendly admin immediately shipped evening day midday prayers nyampe',\n",
       " '00 friendly admin immediately shipped evening day midday prayers nyampe tuker',\n",
       " '00 friendly admin immediately shipped evening day midday prayers nyampe tuker request',\n",
       " '00 friendly admin immediately shipped evening day midday prayers nyampe tuker request wrong',\n",
       " '00 friendly admin immediately shipped evening day midday prayers nyampe tuker request wrong size',\n",
       " '00 friendly admin immediately shipped evening day midday prayers nyampe tuker request wrong size free',\n",
       " '00 hours',\n",
       " '00 hours later',\n",
       " '00 hours later begin',\n",
       " '00 hours later begin shipping',\n",
       " '00 hours later begin shipping jd',\n",
       " '00 hours later begin shipping jd new',\n",
       " '00 hours later begin shipping jd new goods',\n",
       " '00 hours later begin shipping jd new goods shipped',\n",
       " '00 hours later begin shipping jd new goods shipped day',\n",
       " '00 hrs',\n",
       " '00 hrs recommend',\n",
       " '00 hrs recommend changing',\n",
       " '00 hrs recommend changing shipping',\n",
       " '00 hrs recommend changing shipping company',\n",
       " '00 hrs recommend changing shipping company used',\n",
       " '00 hrs recommend changing shipping company used friday',\n",
       " '00 hrs recommend changing shipping company used friday saturday',\n",
       " '00 hrs recommend changing shipping company used friday saturday kerry',\n",
       " '00 hrs recommend changing shipping company used friday saturday kerry pickup',\n",
       " '00 hrs recommend changing shipping company used friday saturday kerry pickup 18',\n",
       " '00 hrs recommend changing shipping company used friday saturday kerry pickup 18 00',\n",
       " '00 hrs recommend changing shipping company used friday saturday kerry pickup 18 00 monday',\n",
       " '00 monday',\n",
       " '00 nice',\n",
       " '00 nice thanks',\n",
       " '00 nice thanks seller',\n",
       " '00 nice thanks seller ll',\n",
       " '00 nice thanks seller ll sure',\n",
       " '00 nice thanks seller ll sure order',\n",
       " '00 nova',\n",
       " '00 nova 5t',\n",
       " '00 nova 5t 00',\n",
       " '00 nova 5t 00 02',\n",
       " '00 nova 5t 00 02 01',\n",
       " '00 nova 5t 00 02 01 total',\n",
       " '00 nova 5t 00 02 01 total 00',\n",
       " '00 nova 5t 00 02 01 total 00 02',\n",
       " '00 nova 5t 00 02 01 total 00 02 00',\n",
       " '00 nova 5t 00 02 01 total 00 02 00 acc',\n",
       " '00 nova 5t 00 02 01 total 00 02 00 acc wearable',\n",
       " '00 nova 5t 00 02 01 total 00 02 00 acc wearable watch',\n",
       " '00 nova 5t 00 02 01 total 00 02 00 acc wearable watch gt',\n",
       " '00 nova 5t 00 02 01 total 00 02 00 acc wearable watch gt 00',\n",
       " '00 p30',\n",
       " '00 p30 lite',\n",
       " '00 p30 lite 00',\n",
       " '00 p30 lite 00 01',\n",
       " '00 p30 lite 00 01 00',\n",
       " '00 p30 lite 00 01 00 nova',\n",
       " '00 p30 lite 00 01 00 nova 5t',\n",
       " '00 p30 lite 00 01 00 nova 5t 00',\n",
       " '00 p30 lite 00 01 00 nova 5t 00 02',\n",
       " '00 p30 lite 00 01 00 nova 5t 00 02 01',\n",
       " '00 p30 lite 00 01 00 nova 5t 00 02 01 total',\n",
       " '00 p30 lite 00 01 00 nova 5t 00 02 01 total 00',\n",
       " '00 p30 lite 00 01 00 nova 5t 00 02 01 total 00 02',\n",
       " '00 p30 lite 00 01 00 nova 5t 00 02 01 total 00 02 00',\n",
       " '00 payable',\n",
       " '00 payable return',\n",
       " '00 payable return refund',\n",
       " '00 payable return refund notice',\n",
       " '00 payable return refund notice 173',\n",
       " '00 payable return refund notice 173 00',\n",
       " '00 payable return refund notice 173 00 refund',\n",
       " '00 payable return refund notice 173 00 refund item',\n",
       " '00 payable return refund notice 173 00 refund item good',\n",
       " '00 payable return refund notice 173 00 refund item good delivery',\n",
       " '00 payable return refund notice 173 00 refund item good delivery incomplete',\n",
       " '00 pesos',\n",
       " '00 pesos san',\n",
       " '00 pesos san thankyou',\n",
       " '00 pesos san thankyou seller',\n",
       " '00 pesos san thankyou seller till',\n",
       " '00 pesos san thankyou seller till time',\n",
       " '00 pesos san thankyou seller till time time',\n",
       " '00 pesos san thankyou seller till time time bag',\n",
       " '00 pesos san thankyou seller till time time bag paper',\n",
       " '00 pesos san thankyou seller till time time bag paper plastic',\n",
       " '00 pesos san thankyou seller till time time bag paper plastic madeform',\n",
       " '00 pesos san thankyou seller till time time bag paper plastic madeform bay',\n",
       " '00 pesos san thankyou seller till time time bag paper plastic madeform bay little',\n",
       " '00 pesos san thankyou seller till time time bag paper plastic madeform bay little deformed',\n",
       " '00 pm',\n",
       " '00 pm goods',\n",
       " '00 pm goods say',\n",
       " '00 pm goods say malem',\n",
       " '00 pm goods say malem confirmation',\n",
       " '00 pm goods say malem confirmation tp',\n",
       " '00 pm goods say malem confirmation tp send',\n",
       " '00 pm goods say malem confirmation tp send directly',\n",
       " '00 pm goods say malem confirmation tp send directly play',\n",
       " '00 pm goods say malem confirmation tp send directly play baseball',\n",
       " '00 pm goods say malem confirmation tp send directly play baseball sent',\n",
       " '00 pm goods say malem confirmation tp send directly play baseball sent money',\n",
       " '00 pm goods say malem confirmation tp send directly play baseball sent money selipin',\n",
       " '00 pm goods say malem confirmation tp send directly play baseball sent money selipin package',\n",
       " '00 pm red',\n",
       " '00 pm red date',\n",
       " '00 pm red date day',\n",
       " '00 pm red date day week',\n",
       " '00 refund',\n",
       " '00 refund item',\n",
       " '00 refund item good',\n",
       " '00 refund item good delivery',\n",
       " '00 refund item good delivery incomplete',\n",
       " '00 rm7',\n",
       " '00 rm7 00',\n",
       " '00 shop',\n",
       " '00 shop voucher',\n",
       " '00 shop voucher free',\n",
       " '00 shop voucher free shipping',\n",
       " '00 ssf',\n",
       " '00 ssf near',\n",
       " '00 ssf near reasons',\n",
       " '00 ssf near reasons house',\n",
       " '00 ssf near reasons house justify',\n",
       " '00 ssf near reasons house justify petrol',\n",
       " '00 ssf near reasons house justify petrol parking',\n",
       " '00 ssf near reasons house justify petrol parking fee',\n",
       " '00 subjected',\n",
       " '00 subjected client',\n",
       " '00 subjected client took',\n",
       " '00 subjected client took masters',\n",
       " '00 subjected client took masters shopee',\n",
       " '00 subjected client took masters shopee undone',\n",
       " '00 subjected client took masters shopee undone terrible',\n",
       " '00 subjected client took masters shopee undone terrible customer',\n",
       " '00 sunday',\n",
       " '00 sunday night',\n",
       " '00 sunday night bought',\n",
       " '00 sunday night bought biscuits',\n",
       " '00 sunday night bought biscuits package',\n",
       " '00 sunday night bought biscuits package flavors',\n",
       " '00 sunday night bought biscuits package flavors baby',\n",
       " '00 sunday night bought biscuits package flavors baby cake',\n",
       " '00 sunday night bought biscuits package flavors baby cake 11',\n",
       " '00 sunday night bought biscuits package flavors baby cake 11 clock',\n",
       " '00 sunday night bought biscuits package flavors baby cake 11 clock sleep',\n",
       " '00 sunday night bought biscuits package flavors baby cake 11 clock sleep thinking',\n",
       " '00 sunday night bought biscuits package flavors baby cake 11 clock sleep thinking going',\n",
       " '00 sunday night bought biscuits package flavors baby cake 11 clock sleep thinking going store',\n",
       " '00 target',\n",
       " '00 target unit',\n",
       " '00 target unit 00',\n",
       " '00 target unit 00 00',\n",
       " '00 ultra',\n",
       " '00 ultra fast',\n",
       " '00 ultra fast color',\n",
       " '00 ultra fast color really',\n",
       " '00 ultra fast color really beautiful',\n",
       " '00 value',\n",
       " '00 value buy',\n",
       " '000',\n",
       " '000 000',\n",
       " '000 000 trick',\n",
       " '000 000 trick easy',\n",
       " '000 000 trick easy mam',\n",
       " '000 000 trick easy mam like',\n",
       " '000 000 trick easy mam like facebook',\n",
       " '000 000 trick easy mam like facebook instagram',\n",
       " '000 000 trick easy mam like facebook instagram wyethnutritionid',\n",
       " '000 000 trick easy mam like facebook instagram wyethnutritionid upload',\n",
       " '000 000 trick easy mam like facebook instagram wyethnutritionid upload photo',\n",
       " '000 000 trick easy mam like facebook instagram wyethnutritionid upload photo video',\n",
       " '000 000 trick easy mam like facebook instagram wyethnutritionid upload photo video carapintarmam',\n",
       " '000 000 trick easy mam like facebook instagram wyethnutritionid upload photo video carapintarmam teaching',\n",
       " '000 000 trick easy mam like facebook instagram wyethnutritionid upload photo video carapintarmam teaching little',\n",
       " '000 10',\n",
       " '000 10 000',\n",
       " '000 10 000 minimum',\n",
       " '000 10 000 minimum purchase',\n",
       " '000 10 000 minimum purchase https',\n",
       " '000 10 000 minimum purchase https shopee',\n",
       " '000 10 000 minimum purchase https shopee id',\n",
       " '000 10 000 minimum purchase https shopee id product',\n",
       " '000 10 000 minimum purchase https shopee id product 60462178',\n",
       " '000 10 000 minimum purchase https shopee id product 60462178 2757888273',\n",
       " '000 10 000 minimum purchase https shopee id product 60462178 2757888273 smtt',\n",
       " '000 10 000 shopping',\n",
       " '000 10 000 shopping neatly',\n",
       " '000 10 000 shopping neatly boxed',\n",
       " '000 10 000 shopping neatly boxed segitu',\n",
       " '000 10 000 shopping neatly boxed segitu thanks',\n",
       " '000 10 000 shopping neatly boxed segitu thanks ka',\n",
       " '000 15rb',\n",
       " '000 15rb day',\n",
       " '000 15rb day sdh',\n",
       " '000 15rb day sdh recomended',\n",
       " '000 15rb day sdh recomended ga',\n",
       " '000 15rb day sdh recomended ga lah',\n",
       " '000 15rb day sdh recomended ga lah kapok',\n",
       " '000 15rb day sdh recomended ga lah kapok shopping',\n",
       " '000 15rb day sdh recomended ga lah kapok shopping sorry',\n",
       " '000 15rb day sdh recomended ga lah kapok shopping sorry sy',\n",
       " '000 15rb day sdh recomended ga lah kapok shopping sorry sy love',\n",
       " '000 2pcs',\n",
       " '000 2pcs glass',\n",
       " '000 2pcs glass temperred',\n",
       " '000 30',\n",
       " '000 30 000',\n",
       " '000 30 000 tubes',\n",
       " '000 30 000 tubes child',\n",
       " '000 30 000 tubes child allowance',\n",
       " '000 30 000 tubes child allowance diem',\n",
       " '000 30 000 tubes child allowance diem weeks',\n",
       " '000 30 000 tubes child allowance diem weeks ago',\n",
       " '000 30 000 tubes child allowance diem weeks ago puzzled',\n",
       " '000 30 000 tubes child allowance diem weeks ago puzzled fit',\n",
       " '000 30 000 tubes child allowance diem weeks ago puzzled fit ngeliat',\n",
       " '000 30 000 tubes child allowance diem weeks ago puzzled fit ngeliat home',\n",
       " '000 30 000 tubes child allowance diem weeks ago puzzled fit ngeliat home work',\n",
       " '000 30 000 tubes child allowance diem weeks ago puzzled fit ngeliat home work bags',\n",
       " '000 bad',\n",
       " '000 bag',\n",
       " '000 bag seal',\n",
       " '000 bag seal bag',\n",
       " '000 bag seal bag single',\n",
       " '000 bag seal bag single lock',\n",
       " '000 bahan',\n",
       " '000 bahan wolfis',\n",
       " '000 bahan wolfis grade',\n",
       " '000 bahan wolfis grade ld',\n",
       " '000 bahan wolfis grade ld 100cm',\n",
       " '000 bahan wolfis grade ld 100cm pb',\n",
       " '000 bahan wolfis grade ld 100cm pb 95cm',\n",
       " '000 bahan wolfis grade ld 100cm pb 95cm fit',\n",
       " '000 berfungsi',\n",
       " '000 berfungsi serves',\n",
       " '000 berfungsi serves temperature',\n",
       " '000 berfungsi serves temperature doang',\n",
       " '000 bottle',\n",
       " '000 bottle sue',\n",
       " '000 bottle sue hit',\n",
       " '000 bottle sue hit zonk',\n",
       " '000 bottle sue hit zonk deh',\n",
       " '000 box',\n",
       " '000 box kilo',\n",
       " '000 buy',\n",
       " '000 buy pairs',\n",
       " '000 buy pairs sent',\n",
       " '000 buy pairs sent post',\n",
       " '000 buy pairs sent post free',\n",
       " '000 buy pairs sent post free pair',\n",
       " '000 buy pairs sent post free pair random',\n",
       " '000 buy pairs sent post free pair random purchase',\n",
       " '000 buy pairs sent post free pair random purchase pairs',\n",
       " '000 buy pairs sent post free pair random purchase pairs socks',\n",
       " '000 buy pairs sent post free pair random purchase pairs socks delivery',\n",
       " '000 buy pairs sent post free pair random purchase pairs socks delivery packing',\n",
       " '000 buy pairs sent post free pair random purchase pairs socks delivery packing deliveries',\n",
       " '000 buy pairs sent post free pair random purchase pairs socks delivery packing deliveries monday',\n",
       " '000 chat',\n",
       " '000 chat baik2',\n",
       " '000 chat baik2 seller',\n",
       " '000 chat baik2 seller indeterminate',\n",
       " '000 chat baik2 seller indeterminate response',\n",
       " '000 chat baik2 seller indeterminate response stores',\n",
       " '000 chat baik2 seller indeterminate response stores cheating',\n",
       " '000 chat baik2 seller indeterminate response stores cheating melebih2kan',\n",
       " '000 chat baik2 seller indeterminate response stores cheating melebih2kan heavy',\n",
       " '000 chat baik2 seller indeterminate response stores cheating melebih2kan heavy goods',\n",
       " '000 collection',\n",
       " '000 collection decorating',\n",
       " '000 collection decorating tool',\n",
       " '000 collection decorating tool application',\n",
       " '000 collection decorating tool application birthdays',\n",
       " '000 cute',\n",
       " '000 cute fast',\n",
       " '000 cute fast delivery',\n",
       " '000 delivery',\n",
       " '000 delivery highly',\n",
       " '000 delivery highly lama',\n",
       " '000 delivery highly lama recommend',\n",
       " '000 delivery highly lama recommend wear',\n",
       " '000 delivery highly lama recommend wear jne',\n",
       " '000 delivery highly lama recommend wear jne wrote',\n",
       " '000 delivery highly lama recommend wear jne wrote fast',\n",
       " '000 delivery highly lama recommend wear jne wrote fast good',\n",
       " '000 delivery highly lama recommend wear jne wrote fast good service',\n",
       " '000 den',\n",
       " '000 den 14',\n",
       " '000 den 14 6gb',\n",
       " '000 den 14 6gb 500mb',\n",
       " '000 den 14 6gb 500mb right',\n",
       " '000 den 14 6gb 500mb right free',\n",
       " '000 den 14 6gb 500mb right free dial',\n",
       " '000 den 14 6gb 500mb right free dial networking',\n",
       " '000 den 14 6gb 500mb right free dial networking 10p',\n",
       " '000 den 14 6gb 500mb right free dial networking 10p cuoc',\n",
       " '000 den 14 6gb 500mb right free dial networking 10p cuoc 30',\n",
       " '000 den 14 6gb 500mb right free dial networking 10p cuoc 30 days',\n",
       " '000 den 14 6gb 500mb right free dial networking 10p cuoc 30 days register',\n",
       " '000 den 14 6gb 500mb right free dial networking 10p cuoc 30 days register option',\n",
       " '000 dibalikin',\n",
       " '000 dibalikin 2x24',\n",
       " '000 dibalikin 2x24 hours',\n",
       " '000 dibalikin 2x24 hours dibalikin',\n",
       " '000 dibalikin 2x24 hours dibalikin event',\n",
       " '000 dibalikin 2x24 hours dibalikin event berhari2',\n",
       " '000 dibalikin 2x24 hours dibalikin event berhari2 gk',\n",
       " '000 dibalikin 2x24 hours dibalikin event berhari2 gk gk',\n",
       " '000 dibalikin 2x24 hours dibalikin event berhari2 gk gk menang',\n",
       " '000 dibalikin 2x24 hours dibalikin event berhari2 gk gk menang ini',\n",
       " '000 dibalikin 2x24 hours dibalikin event berhari2 gk gk menang ini dibalikin',\n",
       " '000 dibalikin 2x24 hours dibalikin event berhari2 gk gk menang ini dibalikin juga',\n",
       " '000 dibalikin 2x24 hours dibalikin event berhari2 gk gk menang ini dibalikin juga tolong',\n",
       " '000 dibalikin 2x24 hours dibalikin event berhari2 gk gk menang ini dibalikin juga tolong shopee',\n",
       " '000 diresi',\n",
       " '000 diresi receive',\n",
       " '000 diresi receive seller',\n",
       " '000 diresi receive seller pays',\n",
       " '000 diresi receive seller pays postage',\n",
       " '000 diresi receive seller pays postage 54',\n",
       " '000 diresi receive seller pays postage 54 000',\n",
       " '000 diresi receive seller pays postage 54 000 chat',\n",
       " '000 diresi receive seller pays postage 54 000 chat baik2',\n",
       " '000 diresi receive seller pays postage 54 000 chat baik2 seller',\n",
       " '000 diresi receive seller pays postage 54 000 chat baik2 seller indeterminate',\n",
       " '000 diresi receive seller pays postage 54 000 chat baik2 seller indeterminate response',\n",
       " '000 diresi receive seller pays postage 54 000 chat baik2 seller indeterminate response stores',\n",
       " '000 diresi receive seller pays postage 54 000 chat baik2 seller indeterminate response stores cheating',\n",
       " '000 dpr',\n",
       " '000 dpr serol',\n",
       " '000 dpr serol kapokkkk',\n",
       " '000 dpr serol kapokkkk aq',\n",
       " '000 east',\n",
       " '000 east collector',\n",
       " '000 east collector awaits',\n",
       " '000 east collector awaits change',\n",
       " '000 east collector awaits change size',\n",
       " '000 east collector awaits change size feel',\n",
       " '000 egg',\n",
       " '000 egg mask',\n",
       " '000 egg mask dina',\n",
       " '000 egg mask dina 14',\n",
       " '000 egg mask dina 14 000',\n",
       " '000 egg mask dina 14 000 egg',\n",
       " '000 egg mask dina 14 000 egg mask',\n",
       " '000 egg mask dina 14 000 egg mask iin',\n",
       " '000 egg mask dina 14 000 egg mask iin 20',\n",
       " '000 egg mask dina 14 000 egg mask iin 20 000',\n",
       " '000 egg mask dina 14 000 egg mask iin 20 000 strawberry',\n",
       " '000 egg mask dina 14 000 egg mask iin 20 000 strawberry body',\n",
       " '000 egg mask dina 14 000 egg mask iin 20 000 strawberry body spa',\n",
       " '000 egg mask dina 14 000 egg mask iin 20 000 strawberry body spa ani',\n",
       " '000 egg mask iin',\n",
       " '000 egg mask iin 20',\n",
       " '000 egg mask iin 20 000',\n",
       " '000 egg mask iin 20 000 strawberry',\n",
       " '000 egg mask iin 20 000 strawberry body',\n",
       " '000 egg mask iin 20 000 strawberry body spa',\n",
       " '000 egg mask iin 20 000 strawberry body spa ani',\n",
       " '000 egg mask iin 20 000 strawberry body spa ani 16',\n",
       " '000 egg mask iin 20 000 strawberry body spa ani 16 000',\n",
       " '000 egg mask iin 20 000 strawberry body spa ani 16 000 ma',\n",
       " '000 egg mask iin 20 000 strawberry body spa ani 16 000 ma nasa',\n",
       " '000 egg mask iin 20 000 strawberry body spa ani 16 000 ma nasa agis',\n",
       " '000 electricity',\n",
       " '000 electricity recharge',\n",
       " '000 electricity recharge charge',\n",
       " '000 electricity recharge charge buy',\n",
       " '000 electricity recharge charge buy hey',\n",
       " '000 electricity recharge charge buy hey harm',\n",
       " '000 evaluation',\n",
       " '000 evaluation good',\n",
       " '000 evaluation good seller',\n",
       " '000 evaluation good seller encountered',\n",
       " '000 evaluation good seller encountered problems',\n",
       " '000 evaluation good seller encountered problems buyer',\n",
       " '000 evaluation good seller encountered problems buyer received',\n",
       " '000 evaluation good seller encountered problems buyer received goods',\n",
       " '000 evaluation good seller encountered problems buyer received goods reply',\n",
       " '000 evaluation good seller encountered problems buyer received goods reply totally',\n",
       " '000 evaluation good seller encountered problems buyer received goods reply totally unfriendly',\n",
       " '000 evaluation good seller encountered problems buyer received goods reply totally unfriendly says',\n",
       " '000 evaluation good seller encountered problems buyer received goods reply totally unfriendly says trouble',\n",
       " '000 evaluation good seller encountered problems buyer received goods reply totally unfriendly says trouble buyers',\n",
       " '000 expect',\n",
       " '000 expect built',\n",
       " '000 expect built quality',\n",
       " '000 expect built quality long',\n",
       " '000 expect built quality long quality',\n",
       " '000 expect built quality long quality charger',\n",
       " '000 fast',\n",
       " '000 fast delivery',\n",
       " '000 fast delivery like',\n",
       " '000 fast delivery like like',\n",
       " '000 fast delivery like like like',\n",
       " '000 fast delivery like like like like',\n",
       " '000 fast delivery like like like like like',\n",
       " '000 fast delivery recommended',\n",
       " '000 fast delivery recommended let',\n",
       " '000 fast delivery recommended let planting',\n",
       " '000 fast delivery recommended let planting thanks',\n",
       " '000 fast delivery recommended let planting thanks shopee',\n",
       " '000 fast delivery recommended let planting thanks shopee moga',\n",
       " '000 fast delivery recommended let planting thanks shopee moga successfully',\n",
       " '000 fast delivery recommended let planting thanks shopee moga successfully smoothly',\n",
       " '000 fast delivery recommended let planting thanks shopee moga successfully smoothly continue',\n",
       " '000 flex',\n",
       " '000 flex 80',\n",
       " '000 flex 80 000',\n",
       " '000 flex 80 000 sensitive',\n",
       " '000 flex 80 000 sensitive 80',\n",
       " '000 flex 80 000 sensitive 80 000',\n",
       " '000 flex 80 000 sensitive 80 000 glowing',\n",
       " '000 flex 80 000 sensitive 80 000 glowing super',\n",
       " '000 flex 80 000 sensitive 80 000 glowing super 86',\n",
       " '000 flex 80 000 sensitive 80 000 glowing super 86 000',\n",
       " '000 flex 80 000 sensitive 80 000 glowing super 86 000 glowing',\n",
       " '000 flex 80 000 sensitive 80 000 glowing super 86 000 glowing economical',\n",
       " '000 flex 80 000 sensitive 80 000 glowing super 86 000 glowing economical 80',\n",
       " '000 flex 80 000 sensitive 80 000 glowing super 86 000 glowing economical 80 000',\n",
       " '000 free',\n",
       " '000 free coupons',\n",
       " '000 free coupons worth',\n",
       " '000 free coupons worth rp',\n",
       " '000 free coupons worth rp million',\n",
       " '000 free coupons worth rp million help',\n",
       " '000 free coupons worth rp million help fight',\n",
       " '000 free coupons worth rp million help fight covid',\n",
       " '000 free coupons worth rp million help fight covid 19',\n",
       " '000 free coupons worth rp million help fight covid 19 taken',\n",
       " '000 free coupons worth rp million help fight covid 19 taken voucher',\n",
       " '000 free coupons worth rp million help fight covid 19 taken voucher https',\n",
       " '000 free coupons worth rp million help fight covid 19 taken voucher https 3pnmabdoij',\n",
       " '000 gift',\n",
       " '000 gift code',\n",
       " '000 gift code used',\n",
       " '000 gift code used products',\n",
       " '000 gift code used products services',\n",
       " '000 gift code used products services card',\n",
       " '000 gift code used products services card load',\n",
       " '000 gift code used products services card load shopee',\n",
       " '000 gift code used products services card load shopee consumer',\n",
       " '000 gift code used products services card load shopee consumer loans',\n",
       " '000 gift code used products services card load shopee consumer loans gifts',\n",
       " '000 gift code used products services card load shopee consumer loans gifts time',\n",
       " '000 gift code used products services card load shopee consumer loans gifts time code',\n",
       " '000 gift code used products services card load shopee consumer loans gifts time code used',\n",
       " '000 glowing',\n",
       " '000 glowing economical',\n",
       " '000 glowing economical 80',\n",
       " '000 glowing economical 80 000',\n",
       " '000 glowing economical 80 000 oyli',\n",
       " '000 glowing economical 80 000 oyli 80',\n",
       " '000 glowing economical 80 000 oyli 80 000',\n",
       " '000 glowing super',\n",
       " '000 glowing super 86',\n",
       " '000 glowing super 86 000',\n",
       " '000 glowing super 86 000 glowing',\n",
       " '000 glowing super 86 000 glowing economical',\n",
       " '000 glowing super 86 000 glowing economical 80',\n",
       " '000 glowing super 86 000 glowing economical 80 000',\n",
       " '000 glowing super 86 000 glowing economical 80 000 oyli',\n",
       " '000 glowing super 86 000 glowing economical 80 000 oyli 80',\n",
       " '000 glowing super 86 000 glowing economical 80 000 oyli 80 000',\n",
       " '000 good',\n",
       " '000 good quality',\n",
       " '000 good quality low',\n",
       " '000 good quality low price',\n",
       " '000 good quality low price goods',\n",
       " '000 good quality low price goods cheap',\n",
       " '000 good quality low price goods cheap welcome',\n",
       " '000 good quality low price goods cheap welcome resellers',\n",
       " '000 good quality low price goods cheap welcome resellers dropship',\n",
       " '000 good quality low price goods cheap welcome resellers dropship dasterkekinian',\n",
       " '000 good quality low price goods cheap welcome resellers dropship dasterkekinian grosirbaju',\n",
       " '000 good quality low price goods cheap welcome resellers dropship dasterkekinian grosirbaju cardigan',\n",
       " '000 good quality low price goods cheap welcome resellers dropship dasterkekinian grosirbaju cardigan olshopmurah',\n",
       " '000 good quality low price goods cheap welcome resellers dropship dasterkekinian grosirbaju cardigan olshopmurah pusatbajumurah',\n",
       " '000 hehehehehehe',\n",
       " '000 hehehehehehe steady',\n",
       " '000 hehehehehehe steady steady',\n",
       " '000 hehehehehehe steady steady steady',\n",
       " '000 hehehehehehe steady steady steady mantap',\n",
       " '000 hehehehehehe steady steady steady mantap thx',\n",
       " '000 ki',\n",
       " '000 ki ready',\n",
       " '000 ki ready ready',\n",
       " '000 ki ready ready bioaqua',\n",
       " '000 ki ready ready bioaqua soothing',\n",
       " '000 ki ready ready bioaqua soothing aloe',\n",
       " '000 ki ready ready bioaqua soothing aloe vera',\n",
       " '000 ki ready ready bioaqua soothing aloe vera 92',\n",
       " '000 ki ready ready bioaqua soothing aloe vera 92 moisture',\n",
       " '000 ki ready ready bioaqua soothing aloe vera 92 moisture facial',\n",
       " '000 ki ready ready bioaqua soothing aloe vera 92 moisture facial moisturizer',\n",
       " '000 ki ready ready bioaqua soothing aloe vera 92 moisture facial moisturizer 220ml',\n",
       " '000 ki ready ready bioaqua soothing aloe vera 92 moisture facial moisturizer 220ml 10',\n",
       " '000 ki ready ready bioaqua soothing aloe vera 92 moisture facial moisturizer 220ml 10 ways',\n",
       " '000 ma',\n",
       " '000 ma nasa',\n",
       " '000 ma nasa agis',\n",
       " '000 ma nasa agis 15',\n",
       " '000 ma nasa agis 15 000',\n",
       " '000 ma nasa agis 15 000 naturgo',\n",
       " '000 ma nasa agis 15 000 naturgo syb',\n",
       " '000 ma nasa agis 15 000 naturgo syb 1box',\n",
       " '000 mah',\n",
       " '000 mah disposable',\n",
       " '000 mah disposable time',\n",
       " '000 mah disposable time wrote',\n",
       " '000 mah disposable time wrote ga',\n",
       " '000 minimum',\n",
       " '000 minimum purchase',\n",
       " '000 minimum purchase https',\n",
       " '000 minimum purchase https shopee',\n",
       " '000 minimum purchase https shopee id',\n",
       " '000 minimum purchase https shopee id product',\n",
       " '000 minimum purchase https shopee id product 60462178',\n",
       " '000 minimum purchase https shopee id product 60462178 2757888273',\n",
       " '000 minimum purchase https shopee id product 60462178 2757888273 smtt',\n",
       " '000 minimum purchase series',\n",
       " '000 minimum purchase series 5pcs',\n",
       " '000 minimum purchase series 5pcs model',\n",
       " '000 minimum purchase series 5pcs model colors',\n",
       " '000 minimum purchase series 5pcs model colors evenly',\n",
       " '000 minimum purchase series 5pcs model colors evenly models',\n",
       " '000 minimum purchase series 5pcs model colors evenly models mixed',\n",
       " '000 minimum purchase series 5pcs model colors evenly models mixed rp',\n",
       " '000 minimum purchase series 5pcs model colors evenly models mixed rp 295',\n",
       " '000 minimum purchase series 5pcs model colors evenly models mixed rp 295 000',\n",
       " '000 minimum purchase series 5pcs model colors evenly models mixed rp 295 000 pieces',\n",
       " '000 minimum purchase series 5pcs model colors evenly models mixed rp 295 000 pieces rp',\n",
       " '000 muslim',\n",
       " '000 muslim clothing',\n",
       " '000 muslim clothing syari',\n",
       " '000 muslim clothing syari best',\n",
       " '000 muslim clothing syari best cheapest',\n",
       " '000 muslim clothing syari best cheapest updated',\n",
       " '000 muslim clothing syari best cheapest updated baseball',\n",
       " '000 muslim clothing syari best cheapest updated baseball going',\n",
       " '000 muslim clothing syari best cheapest updated baseball going nyesel',\n",
       " '000 muslim clothing syari best cheapest updated baseball going nyesel dehhh',\n",
       " '000 muslim clothing syari best cheapest updated baseball going nyesel dehhh weight',\n",
       " '000 muslim clothing syari best cheapest updated baseball going nyesel dehhh weight 900',\n",
       " '000 muslim clothing syari best cheapest updated baseball going nyesel dehhh weight 900 gram',\n",
       " '000 muslim clothing syari best cheapest updated baseball going nyesel dehhh weight 900 gram description',\n",
       " '000 naturgo',\n",
       " '000 naturgo syb',\n",
       " '000 naturgo syb 1box',\n",
       " '000 oyli',\n",
       " '000 oyli 80',\n",
       " '000 oyli 80 000',\n",
       " '000 payment',\n",
       " '000 payment orders',\n",
       " '000 payment orders airpay',\n",
       " '000 payment orders airpay load',\n",
       " '000 payment orders airpay load service',\n",
       " '000 payment orders airpay load service card',\n",
       " '000 payment orders airpay load service card apply',\n",
       " '000 payment orders airpay load service card apply consumer',\n",
       " '000 payment orders airpay load service card apply consumer loans',\n",
       " '000 payment orders airpay load service card apply consumer loans gift',\n",
       " '000 payment orders airpay load service card apply consumer loans gift code',\n",
       " '000 payment orders airpay load service card apply consumer loans gift code paid',\n",
       " '000 payment orders airpay load service card apply consumer loans gift code paid payment',\n",
       " '000 payment orders airpay load service card apply consumer loans gift code paid payment method',\n",
       " '000 payment orders airpay load service card apply consumer loans gift code paid ward',\n",
       " '000 payment orders trading',\n",
       " '000 payment orders trading card',\n",
       " '000 payment orders trading card load',\n",
       " '000 people',\n",
       " '000 people want',\n",
       " '000 people want party',\n",
       " '000 people want party report',\n",
       " '000 people want party report shopee',\n",
       " '000 people want party report shopee bank',\n",
       " '000 people want party report shopee bank kepolisian',\n",
       " '000 people want party report shopee bank kepolisian supaya',\n",
       " '000 people want party report shopee bank kepolisian supaya man',\n",
       " '000 people want party report shopee bank kepolisian supaya man account',\n",
       " '000 people want party report shopee bank kepolisian supaya man account refrigerate',\n",
       " '000 people want party report shopee bank kepolisian supaya man account refrigerate freeze',\n",
       " '000 people want party report shopee bank kepolisian supaya man account refrigerate freeze atmnya',\n",
       " '000 people want party report shopee bank kepolisian supaya man account refrigerate freeze atmnya police',\n",
       " '000 pieces',\n",
       " '000 pieces rp',\n",
       " '000 pieces rp 5000',\n",
       " '000 pieces rp 5000 series',\n",
       " '000 pieces rp 5000 series series',\n",
       " '000 pieces rp 5000 series series purchase',\n",
       " '000 pieces rp 5000 series series purchase 10',\n",
       " '000 pieces rp 5000 series series purchase 10 order',\n",
       " '000 pieces rp 5000 series series purchase 10 order wa',\n",
       " '000 pieces rp 5000 series series purchase 10 order wa telegram',\n",
       " '000 pieces rp 5000 series series purchase 10 order wa telegram 085',\n",
       " '000 pieces rp 5000 series series purchase 10 order wa telegram 085 727',\n",
       " '000 pieces rp 5000 series series purchase 10 order wa telegram 085 727 595',\n",
       " '000 pieces rp 5000 series series purchase 10 order wa telegram 085 727 595 911',\n",
       " '000 remaining',\n",
       " '000 remaining 70',\n",
       " '000 remaining 70 000',\n",
       " '000 remaining 70 000 30',\n",
       " '000 remaining 70 000 30 000',\n",
       " '000 remaining 70 000 30 000 tubes',\n",
       " '000 remaining 70 000 30 000 tubes child',\n",
       " '000 remaining 70 000 30 000 tubes child allowance',\n",
       " '000 remaining 70 000 30 000 tubes child allowance diem',\n",
       " '000 remaining 70 000 30 000 tubes child allowance diem weeks',\n",
       " '000 remaining 70 000 30 000 tubes child allowance diem weeks ago',\n",
       " '000 remaining 70 000 30 000 tubes child allowance diem weeks ago puzzled',\n",
       " '000 remaining 70 000 30 000 tubes child allowance diem weeks ago puzzled fit',\n",
       " '000 remaining 70 000 30 000 tubes child allowance diem weeks ago puzzled fit ngeliat',\n",
       " '000 right',\n",
       " '000 right 2gb',\n",
       " '000 right 2gb data',\n",
       " '000 right 2gb data high',\n",
       " '000 right 2gb data high speed',\n",
       " '000 right 2gb data high speed satellite',\n",
       " '000 right 2gb data high speed satellite het',\n",
       " '000 right 2gb data high speed satellite het 2gb',\n",
       " '000 right 2gb data high speed satellite het 2gb follow',\n",
       " '000 right 2gb data high speed satellite het 2gb follow package',\n",
       " '000 right 2gb data high speed satellite het 2gb follow package using',\n",
       " '000 right 2gb data high speed satellite het 2gb follow package using valid',\n",
       " '000 right 2gb data high speed satellite het 2gb follow package using valid 24',\n",
       " '000 right 2gb data high speed satellite het 2gb follow package using valid 24 03',\n",
       " '000 sale',\n",
       " '000 sale thank',\n",
       " '000 sale thank shop',\n",
       " '000 semuaa',\n",
       " '000 semuaa cancel',\n",
       " '000 semuaa cancel expensive',\n",
       " '000 semuaa cancel expensive pas',\n",
       " '000 sensitive',\n",
       " '000 sensitive 80',\n",
       " '000 sensitive 80 000',\n",
       " '000 sensitive 80 000 glowing',\n",
       " '000 sensitive 80 000 glowing super',\n",
       " '000 sensitive 80 000 glowing super 86',\n",
       " '000 sensitive 80 000 glowing super 86 000',\n",
       " '000 sensitive 80 000 glowing super 86 000 glowing',\n",
       " '000 sensitive 80 000 glowing super 86 000 glowing economical',\n",
       " '000 sensitive 80 000 glowing super 86 000 glowing economical 80',\n",
       " '000 sensitive 80 000 glowing super 86 000 glowing economical 80 000',\n",
       " '000 sensitive 80 000 glowing super 86 000 glowing economical 80 000 oyli',\n",
       " '000 sensitive 80 000 glowing super 86 000 glowing economical 80 000 oyli 80',\n",
       " '000 sensitive 80 000 glowing super 86 000 glowing economical 80 000 oyli 80 000',\n",
       " '000 serum',\n",
       " '000 serum gold',\n",
       " '000 serum gold princess',\n",
       " '000 serum gold princess april',\n",
       " '000 serum gold princess april 14',\n",
       " '000 serum gold princess april 14 000',\n",
       " '000 serum gold princess april 14 000 egg',\n",
       " '000 serum gold princess april 14 000 egg mask',\n",
       " '000 serum gold princess april 14 000 egg mask dina',\n",
       " '000 serum gold princess april 14 000 egg mask dina 14',\n",
       " '000 serum gold princess april 14 000 egg mask dina 14 000',\n",
       " '000 serum gold princess april 14 000 egg mask dina 14 000 egg',\n",
       " '000 serum gold princess april 14 000 egg mask dina 14 000 egg mask',\n",
       " '000 serum gold princess april 14 000 egg mask dina 14 000 egg mask iin',\n",
       " '000 shopee',\n",
       " '000 shopee https',\n",
       " '000 shopee https shopee',\n",
       " '000 shopee https shopee id',\n",
       " '000 shopee https shopee id product',\n",
       " '000 shopee https shopee id product 98590906',\n",
       " '000 shopee https shopee id product 98590906 7301458799',\n",
       " '000 shopee https shopee id product 98590906 7301458799 smtt',\n",
       " '000 shopping',\n",
       " '000 shopping neatly',\n",
       " '000 shopping neatly boxed',\n",
       " '000 shopping neatly boxed segitu',\n",
       " '000 shopping neatly boxed segitu thanks',\n",
       " '000 shopping neatly boxed segitu thanks ka',\n",
       " '000 strawberry',\n",
       " '000 strawberry body',\n",
       " '000 strawberry body spa',\n",
       " '000 strawberry body spa ani',\n",
       " '000 strawberry body spa ani 16',\n",
       " '000 strawberry body spa ani 16 000',\n",
       " '000 strawberry body spa ani 16 000 ma',\n",
       " '000 strawberry body spa ani 16 000 ma nasa',\n",
       " '000 strawberry body spa ani 16 000 ma nasa agis',\n",
       " '000 strawberry body spa ani 16 000 ma nasa agis 15',\n",
       " '000 strawberry body spa ani 16 000 ma nasa agis 15 000',\n",
       " '000 strawberry body spa ani 16 000 ma nasa agis 15 000 naturgo',\n",
       " '000 strawberry body spa ani 16 000 ma nasa agis 15 000 naturgo syb',\n",
       " '000 strawberry body spa ani 16 000 ma nasa agis 15 000 naturgo syb 1box',\n",
       " '000 tp',\n",
       " '000 tp ga',\n",
       " '000 tp ga refundnya',\n",
       " '000 trick',\n",
       " '000 trick easy',\n",
       " '000 trick easy mam',\n",
       " '000 trick easy mam like',\n",
       " '000 trick easy mam like facebook',\n",
       " '000 trick easy mam like facebook instagram',\n",
       " '000 trick easy mam like facebook instagram wyethnutritionid',\n",
       " '000 trick easy mam like facebook instagram wyethnutritionid upload',\n",
       " '000 trick easy mam like facebook instagram wyethnutritionid upload photo',\n",
       " '000 trick easy mam like facebook instagram wyethnutritionid upload photo video',\n",
       " '000 trick easy mam like facebook instagram wyethnutritionid upload photo video carapintarmam',\n",
       " '000 trick easy mam like facebook instagram wyethnutritionid upload photo video carapintarmam teaching',\n",
       " '000 trick easy mam like facebook instagram wyethnutritionid upload photo video carapintarmam teaching little',\n",
       " '000 trick easy mam like facebook instagram wyethnutritionid upload photo video carapintarmam teaching little feed',\n",
       " '000 tubes',\n",
       " '000 tubes child',\n",
       " '000 tubes child allowance',\n",
       " '000 tubes child allowance diem',\n",
       " '000 tubes child allowance diem weeks',\n",
       " '000 tubes child allowance diem weeks ago',\n",
       " '000 tubes child allowance diem weeks ago puzzled',\n",
       " '000 tubes child allowance diem weeks ago puzzled fit',\n",
       " '000 tubes child allowance diem weeks ago puzzled fit ngeliat',\n",
       " '000 tubes child allowance diem weeks ago puzzled fit ngeliat home',\n",
       " '000 tubes child allowance diem weeks ago puzzled fit ngeliat home work',\n",
       " '000 tubes child allowance diem weeks ago puzzled fit ngeliat home work bags',\n",
       " '000 tubes child allowance diem weeks ago puzzled fit ngeliat home work bags rice',\n",
       " '000 tubes child allowance diem weeks ago puzzled fit ngeliat home work bags rice 5kg',\n",
       " '000 variants',\n",
       " '000 variants turmeric',\n",
       " '000 variants turmeric brown',\n",
       " '000 variants turmeric brown rice',\n",
       " '000 variants turmeric brown rice apples',\n",
       " '000 variants turmeric brown rice apples charcoal',\n",
       " '000 variants turmeric brown rice apples charcoal brown',\n",
       " '000 variants turmeric brown rice apples charcoal brown angur',\n",
       " '000 variants turmeric brown rice apples charcoal brown angur melon',\n",
       " '000 variants turmeric brown rice apples charcoal brown angur melon moringa',\n",
       " '000 variants turmeric brown rice apples charcoal brown angur melon moringa leaves',\n",
       " '000 variants turmeric brown rice apples charcoal brown angur melon moringa leaves mango',\n",
       " '000 variants turmeric brown rice apples charcoal brown angur melon moringa leaves mango mangosteen',\n",
       " '000 variants turmeric brown rice apples charcoal brown angur melon moringa leaves mango mangosteen coffee',\n",
       " '000 vnd',\n",
       " '000 vnd 75',\n",
       " '000 vnd 75 000',\n",
       " '000 vnd 75 000 vnd',\n",
       " '000 vnd 75 000 vnd rates',\n",
       " '000 vnd 75 000 vnd rates 2017',\n",
       " '000 vnd 75 000 vnd rates 2017 2020',\n",
       " '000 vnd rates',\n",
       " '000 vnd rates 2017',\n",
       " '000 vnd rates 2017 2020',\n",
       " '000 vnd vnd2',\n",
       " '000 vnd vnd2 690',\n",
       " '000 vnd vnd2 690 000',\n",
       " '000 vnd2',\n",
       " '000 vnd2 690',\n",
       " '000 vnd2 690 000',\n",
       " '000 vnd2 690 000 vnd',\n",
       " '000 vnd2 690 000 vnd vnd2',\n",
       " '000 vnd2 690 000 vnd vnd2 690',\n",
       " '000 vnd2 690 000 vnd vnd2 690 000',\n",
       " '000 vnd2 690 000 vnd2',\n",
       " '000 vnd2 690 000 vnd2 690',\n",
       " '000 vnd2 690 000 vnd2 690 000',\n",
       " '000 vnd2 690 000 vnd2 690 000 vnd',\n",
       " '000 vnd2 690 000 vnd2 690 000 vnd vnd2',\n",
       " '000 vnd2 690 000 vnd2 690 000 vnd vnd2 690',\n",
       " '000 vnd2 690 000 vnd2 690 000 vnd vnd2 690 000',\n",
       " '000 vnd2 690 000 vnd2 690 000 vnd2',\n",
       " '000 vnd2 690 000 vnd2 690 000 vnd2 690',\n",
       " '000 vnd2 690 000 vnd2 690 000 vnd2 690 000',\n",
       " '000 vnd2 690 000 vnd2 690 000 vnd2 690 000 vnd',\n",
       " '000 vnd2 690 000 vnd2 690 000 vnd2 690 000 vnd vnd2',\n",
       " '000 vnd2 690 000 vnd2 690 000 vnd2 690 000 vnd vnd2 690',\n",
       " '000 vnd2 690 000 vnd2 690 000 vnd2 690 000 vnd vnd2 690 000',\n",
       " '000 vnd2 690 000 vnd2 690 000 vnd2 690 000 vnd2',\n",
       " '000 vnd2 690 000 vnd2 690 000 vnd2 690 000 vnd2 690',\n",
       " '000 vnd2 690 000 vnd2 690 000 vnd2 690 000 vnd2 690 000',\n",
       " '000 vnd2 690 000 vnd2 690 000 vnd2 690 000 vnd2 690 000 vnd',\n",
       " '000 vnd2 690 000 vnd2 690 000 vnd2 690 000 vnd2 690 000 vnd vnd2',\n",
       " '000 vnd2 690 000 vnd2 690 000 vnd2 690 000 vnd2 690 000 vnd2',\n",
       " '000 vnd2 690 000 vnd2 690 000 vnd2 690 000 vnd2 690 000 vnd2 690',\n",
       " '000 wa',\n",
       " '000 wa 082354760099',\n",
       " '000 wa 085713151271',\n",
       " '00000001',\n",
       " '00000001 chance',\n",
       " '00000001 chance winning',\n",
       " '00000001 chance winning fingers',\n",
       " '00000001 chance winning fingers crossed',\n",
       " '000d',\n",
       " '000d ship',\n",
       " '000d ship receipt',\n",
       " '000d ship receipt goods',\n",
       " '000d ship receipt goods received',\n",
       " '000d ship receipt goods received shoe',\n",
       " '000d ship receipt goods received shoe garden',\n",
       " '000d ship receipt goods received shoe garden mini',\n",
       " '000d ship receipt goods received shoe garden mini straw',\n",
       " '000d ship receipt goods received shoe garden mini straw collect',\n",
       " '000d ship receipt goods received shoe garden mini straw collect money',\n",
       " '000d ship receipt goods received shoe garden mini straw collect money goods',\n",
       " '000d ship receipt goods received shoe garden mini straw collect money goods deceptive',\n",
       " '000d ship receipt goods received shoe garden mini straw collect money goods deceptive ah',\n",
       " '000mah',\n",
       " '000mah intrauterine',\n",
       " '000mah intrauterine sape',\n",
       " '000mah intrauterine sape mcam',\n",
       " '000mah intrauterine sape mcam powerbank',\n",
       " '000mah intrauterine sape mcam powerbank tap',\n",
       " '000mah intrauterine sape mcam powerbank tap fingers',\n",
       " '000mah intrauterine sape mcam powerbank tap fingers middle',\n",
       " '000mah intrauterine sape mcam powerbank tap fingers middle noise',\n",
       " '000mah intrauterine sape mcam powerbank tap fingers middle noise paham2',\n",
       " '000mah intrauterine sape mcam powerbank tap fingers middle noise paham2 lar',\n",
       " '000mah naturally',\n",
       " '000mah naturally prices',\n",
       " '000mah naturally prices hour',\n",
       " '000mah naturally prices hour hopefully',\n",
       " '000mah naturally prices hour hopefully durable',\n",
       " '000mah naturally prices hour hopefully durable goods',\n",
       " '000mah naturally prices hour hopefully durable goods received',\n",
       " '000mah naturally prices hour hopefully durable goods received good',\n",
       " '000mah naturally prices hour hopefully durable goods received good dg',\n",
       " '000mah tu',\n",
       " '000mah tu bkan',\n",
       " '000mah tu bkan promised',\n",
       " '000mah tu bkan promised development',\n",
       " '000mah tu bkan promised development advertising',\n",
       " '000mah tu bkan promised development advertising original',\n",
       " '000mah tu bkan promised development advertising original original',\n",
       " '000mah tu bkan promised development advertising original original got',\n",
       " '000mah tu bkan promised development advertising original original got original',\n",
       " '000mah tu bkan promised development advertising original original got original mmg',\n",
       " '000mah tu bkan promised development advertising original original got original mmg klau',\n",
       " '000mah tu bkan promised development advertising original original got original mmg klau claimants',\n",
       " '000mah tu bkan promised development advertising original original got original mmg klau claimants nk',\n",
       " '000mah tu bkan promised development advertising original original got original mmg klau claimants nk powerbank',\n",
       " '000vnd',\n",
       " '001',\n",
       " '001 011',\n",
       " '001 011 addition',\n",
       " '001 011 addition code',\n",
       " '001 011 addition code ready',\n",
       " ...]"
      ]
     },
     "execution_count": 37,
     "metadata": {},
     "output_type": "execute_result"
    }
   ],
   "source": [
    "features"
   ]
  },
  {
   "cell_type": "markdown",
   "metadata": {},
   "source": [
    "## Applying different Machine learning model"
   ]
  },
  {
   "cell_type": "markdown",
   "metadata": {},
   "source": [
    "### Define Functions"
   ]
  },
  {
   "cell_type": "code",
   "execution_count": 38,
   "metadata": {},
   "outputs": [],
   "source": [
    "from sklearn.model_selection import KFold   #For K-fold cross validation\n",
    "from sklearn import metrics \n",
    "from sklearn.metrics import f1_score\n",
    "from sklearn.model_selection import cross_val_score\n",
    "from sklearn.metrics import roc_curve, auc\n",
    "from sklearn.metrics import classification_report\n",
    "from sklearn.model_selection import GridSearchCV\n",
    "\n",
    "def compute_score(clf, X, y, scoring='accuracy'):\n",
    "    xval = cross_val_score(clf, X, y, cv = 5, scoring=scoring)\n",
    "    return np.mean(xval)\n",
    "\n",
    "def classification_model(model, X_train, y_train, X_test, y_test):\n",
    "  #Fit the model:\n",
    "  \n",
    "  model.fit(X_train,y_train)\n",
    "\n",
    "  print(\"Accuracy on training set: {:.3f}\".format(model.score(X_train, y_train)))\n",
    "  print(\"Accuracy on test set: {:.3f}\".format(model.score(X_test, y_test)))  \n",
    "    \n",
    "  #Make predictions on training set:\n",
    "  predictions = model.predict(X_test)\n",
    "     \n",
    "  # Get performance metrics\n",
    "  cm = confusion_matrix(y_test,predictions)\n",
    "  print(metrics.classification_report(y_test,predictions))\n",
    "  score = compute_score(clf=model, X=X_test, y=y_test, scoring='accuracy')\n",
    "  r2_score = metrics.r2_score(y_test,predictions)\n",
    "  \n",
    "  # Print performance metrics\n",
    "\n",
    "  print ('*************************************************************')\n",
    "  print ('Metric Performance of : {0}\\n'.format(model.__class__))\n",
    "  print('Confusion Matrix : \\n', cm)\n",
    "  print ('Cross Validation Score = {0:.3%}\\n'.format(score))\n",
    "  print (\"Coefficient of determination:{0:.3f}\".format(r2_score))\n",
    "   \n",
    "  #Fit the model again so that it can be refered outside the function:\n",
    "  model.fit(X_train,y_train)\n",
    "\n",
    "def svc_param_selection(X, y, nfolds):\n",
    "    Cs = [0.001, 0.01, 0.1, 1, 10]\n",
    "    gammas = [0.001, 0.01, 0.1, 1]\n",
    "    param_grid = {'C': Cs, 'gamma' : gammas}\n",
    "    grid_search = GridSearchCV(SVC(kernel='rbf'), param_grid, cv=nfolds)\n",
    "    grid_search.fit(X, y)\n",
    "    grid_search.best_params_\n",
    "    return grid_search.best_params_\n",
    "\n"
   ]
  },
  {
   "cell_type": "markdown",
   "metadata": {},
   "source": [
    "### Apply NB mode"
   ]
  },
  {
   "cell_type": "code",
   "execution_count": 30,
   "metadata": {},
   "outputs": [
    {
     "name": "stdout",
     "output_type": "stream",
     "text": [
      "[[3303  466  293   61   56]\n",
      " [ 753 2665  418  141  115]\n",
      " [ 467  674 2255  393  397]\n",
      " [ 240  319  679 1328 1596]\n",
      " [ 214  293  597 1121 2089]]\n",
      "              precision    recall  f1-score   support\n",
      "\n",
      "           1       0.66      0.79      0.72      4179\n",
      "           2       0.60      0.65      0.63      4092\n",
      "           3       0.53      0.54      0.54      4186\n",
      "           4       0.44      0.32      0.37      4162\n",
      "           5       0.49      0.48      0.49      4314\n",
      "\n",
      "    accuracy                           0.56     20933\n",
      "   macro avg       0.55      0.56      0.55     20933\n",
      "weighted avg       0.54      0.56      0.55     20933\n",
      "\n"
     ]
    }
   ],
   "source": [
    "clf_NB = MultinomialNB().fit(train_vectors, Y_train)\n",
    "predNB = clf_NB.predict(test_vectors)\n",
    "pred = list(predNB)\n",
    "\n",
    "print(metrics.confusion_matrix(Y_test, pred))\n",
    "print(metrics.classification_report(Y_test, pred))"
   ]
  },
  {
   "cell_type": "markdown",
   "metadata": {},
   "source": [
    "### MaxEnt = LogisticRegression"
   ]
  },
  {
   "cell_type": "code",
   "execution_count": 31,
   "metadata": {
    "scrolled": true
   },
   "outputs": [
    {
     "name": "stderr",
     "output_type": "stream",
     "text": [
      "C:\\Users\\Wilson\\AppData\\Roaming\\Python\\Python37\\site-packages\\sklearn\\linear_model\\logistic.py:469: FutureWarning: Default multi_class will be changed to 'auto' in 0.22. Specify the multi_class option to silence this warning.\n",
      "  \"this warning.\", FutureWarning)\n",
      "C:\\Users\\Wilson\\AppData\\Roaming\\Python\\Python37\\site-packages\\sklearn\\linear_model\\logistic.py:947: ConvergenceWarning: lbfgs failed to converge. Increase the number of iterations.\n",
      "  \"of iterations.\", ConvergenceWarning)\n",
      "C:\\Users\\Wilson\\AppData\\Roaming\\Python\\Python37\\site-packages\\sklearn\\linear_model\\logistic.py:947: ConvergenceWarning: lbfgs failed to converge. Increase the number of iterations.\n",
      "  \"of iterations.\", ConvergenceWarning)\n",
      "C:\\Users\\Wilson\\AppData\\Roaming\\Python\\Python37\\site-packages\\sklearn\\linear_model\\logistic.py:947: ConvergenceWarning: lbfgs failed to converge. Increase the number of iterations.\n",
      "  \"of iterations.\", ConvergenceWarning)\n",
      "C:\\Users\\Wilson\\AppData\\Roaming\\Python\\Python37\\site-packages\\sklearn\\linear_model\\logistic.py:947: ConvergenceWarning: lbfgs failed to converge. Increase the number of iterations.\n",
      "  \"of iterations.\", ConvergenceWarning)\n"
     ]
    },
    {
     "name": "stdout",
     "output_type": "stream",
     "text": [
      "[[3384  430  269   44   52]\n",
      " [ 709 2805  389  103   86]\n",
      " [ 409  619 2401  447  310]\n",
      " [ 247  234  677 1594 1410]\n",
      " [ 205  205  658 1364 1882]]\n",
      "              precision    recall  f1-score   support\n",
      "\n",
      "           1       0.68      0.81      0.74      4179\n",
      "           2       0.65      0.69      0.67      4092\n",
      "           3       0.55      0.57      0.56      4186\n",
      "           4       0.45      0.38      0.41      4162\n",
      "           5       0.50      0.44      0.47      4314\n",
      "\n",
      "    accuracy                           0.58     20933\n",
      "   macro avg       0.57      0.58      0.57     20933\n",
      "weighted avg       0.57      0.58      0.57     20933\n",
      "\n"
     ]
    },
    {
     "name": "stderr",
     "output_type": "stream",
     "text": [
      "C:\\Users\\Wilson\\AppData\\Roaming\\Python\\Python37\\site-packages\\sklearn\\linear_model\\logistic.py:947: ConvergenceWarning: lbfgs failed to converge. Increase the number of iterations.\n",
      "  \"of iterations.\", ConvergenceWarning)\n"
     ]
    }
   ],
   "source": [
    "clf_ME = LogisticRegression(random_state=0, solver='lbfgs').fit(train_vectors, Y_train)\n",
    "predME = clf_ME.predict(test_vectors)\n",
    "pred = list(predME)\n",
    "print(metrics.confusion_matrix(Y_test, pred))\n",
    "print(metrics.classification_report(Y_test, pred))"
   ]
  },
  {
   "cell_type": "markdown",
   "metadata": {},
   "source": [
    "### KNN Classifier"
   ]
  },
  {
   "cell_type": "code",
   "execution_count": 39,
   "metadata": {},
   "outputs": [],
   "source": [
    "def train_knn(X, y, k, weight):\n",
    "    \"\"\"\n",
    "    Create and train the k-nearest neighbor.\n",
    "    \"\"\"\n",
    "    knn = KNeighborsClassifier(n_neighbors = k, weights = weight, metric = 'cosine', algorithm = 'brute')\n",
    "    knn.fit(X, y)\n",
    "    return knn"
   ]
  },
  {
   "cell_type": "code",
   "execution_count": 40,
   "metadata": {
    "scrolled": true
   },
   "outputs": [
    {
     "name": "stdout",
     "output_type": "stream",
     "text": [
      "[[3983  115   39   21   21]\n",
      " [  91 3898   60   20   23]\n",
      " [ 271  303 3204  206  202]\n",
      " [ 420  367  609 1476 1290]\n",
      " [ 155  183  358 1017 2601]]\n",
      "              precision    recall  f1-score   support\n",
      "\n",
      "           1       0.81      0.95      0.88      4179\n",
      "           2       0.80      0.95      0.87      4092\n",
      "           3       0.75      0.77      0.76      4186\n",
      "           4       0.54      0.35      0.43      4162\n",
      "           5       0.63      0.60      0.62      4314\n",
      "\n",
      "    accuracy                           0.72     20933\n",
      "   macro avg       0.71      0.73      0.71     20933\n",
      "weighted avg       0.70      0.72      0.71     20933\n",
      "\n"
     ]
    }
   ],
   "source": [
    "kn = train_knn(train_vectors, Y_train, 20, 'distance') # distance weights - by inverse of distance\n",
    "predKN = kn.predict(test_vectors)\n",
    "pred = list(predKN)\n",
    "print(metrics.confusion_matrix(Y_test, pred))\n",
    "print(metrics.classification_report(Y_test, pred))"
   ]
  },
  {
   "cell_type": "code",
   "execution_count": 41,
   "metadata": {},
   "outputs": [],
   "source": [
    "filename = 'finalized_KNN_model.sav'\n",
    "pickle.dump(kn, open(filename, 'wb'))"
   ]
  },
  {
   "cell_type": "code",
   "execution_count": 42,
   "metadata": {},
   "outputs": [
    {
     "name": "stdout",
     "output_type": "stream",
     "text": [
      "0.7243108966703291\n"
     ]
    }
   ],
   "source": [
    "loaded_model = pickle.load(open(filename, 'rb'))\n",
    "result = loaded_model.score(test_vectors, Y_test)  \n",
    "print(result)"
   ]
  },
  {
   "cell_type": "markdown",
   "metadata": {},
   "source": [
    "### Apply SVM model"
   ]
  },
  {
   "cell_type": "code",
   "execution_count": 37,
   "metadata": {},
   "outputs": [],
   "source": [
    "from sklearn import svm\n",
    "from sklearn.svm import SVC"
   ]
  },
  {
   "cell_type": "code",
   "execution_count": 38,
   "metadata": {},
   "outputs": [
    {
     "name": "stdout",
     "output_type": "stream",
     "text": [
      "[LibSVM]"
     ]
    }
   ],
   "source": [
    "svm_model = SVC(C=5000, cache_size=200, class_weight=None, coef0=0.0,\n",
    "            decision_function_shape='ovo', degree=3, gamma=3, kernel='rbf',\n",
    "            max_iter=-1, probability=False, random_state=None, shrinking=True,\n",
    "            tol=0.001, verbose=True)\n",
    "clr_svm2  = svm_model.fit(train_vectors, Y_train)"
   ]
  },
  {
   "cell_type": "code",
   "execution_count": 39,
   "metadata": {},
   "outputs": [],
   "source": [
    "predicted = clr_svm2.predict(test_vectors)"
   ]
  },
  {
   "cell_type": "code",
   "execution_count": 40,
   "metadata": {},
   "outputs": [
    {
     "name": "stdout",
     "output_type": "stream",
     "text": [
      "[[3856   53   36  231    3]\n",
      " [  39 3838   72  128   15]\n",
      " [  47   58 3095  924   62]\n",
      " [  27   11  236 3226  662]\n",
      " [  15   13  183 1691 2412]]\n",
      "0.7847417952515168\n",
      "              precision    recall  f1-score   support\n",
      "\n",
      "           1       0.97      0.92      0.94      4179\n",
      "           2       0.97      0.94      0.95      4092\n",
      "           3       0.85      0.74      0.79      4186\n",
      "           4       0.52      0.78      0.62      4162\n",
      "           5       0.76      0.56      0.65      4314\n",
      "\n",
      "    accuracy                           0.78     20933\n",
      "   macro avg       0.81      0.79      0.79     20933\n",
      "weighted avg       0.81      0.78      0.79     20933\n",
      "\n"
     ]
    }
   ],
   "source": [
    "print(metrics.confusion_matrix(Y_test, predicted))\n",
    "print(np.mean(predicted == Y_test) )\n",
    "print(metrics.classification_report(Y_test, predicted))"
   ]
  },
  {
   "cell_type": "code",
   "execution_count": 42,
   "metadata": {},
   "outputs": [],
   "source": [
    "filename = 'finalized_SVM_model.sav'\n",
    "pickle.dump(svm_model, open(filename, 'wb'))"
   ]
  },
  {
   "cell_type": "code",
   "execution_count": 43,
   "metadata": {},
   "outputs": [
    {
     "name": "stdout",
     "output_type": "stream",
     "text": [
      "0.7847417952515168\n"
     ]
    }
   ],
   "source": [
    "loaded_model = pickle.load(open(filename, 'rb'))\n",
    "result = loaded_model.score(test_vectors, Y_test)  \n",
    "print(result)"
   ]
  },
  {
   "cell_type": "markdown",
   "metadata": {},
   "source": [
    "## Predict Test data"
   ]
  },
  {
   "cell_type": "code",
   "execution_count": 44,
   "metadata": {
    "scrolled": true
   },
   "outputs": [
    {
     "data": {
      "text/html": [
       "<div>\n",
       "<style scoped>\n",
       "    .dataframe tbody tr th:only-of-type {\n",
       "        vertical-align: middle;\n",
       "    }\n",
       "\n",
       "    .dataframe tbody tr th {\n",
       "        vertical-align: top;\n",
       "    }\n",
       "\n",
       "    .dataframe thead th {\n",
       "        text-align: right;\n",
       "    }\n",
       "</style>\n",
       "<table border=\"1\" class=\"dataframe\">\n",
       "  <thead>\n",
       "    <tr style=\"text-align: right;\">\n",
       "      <th></th>\n",
       "      <th>review_id</th>\n",
       "      <th>review</th>\n",
       "      <th>rating</th>\n",
       "    </tr>\n",
       "  </thead>\n",
       "  <tbody>\n",
       "    <tr>\n",
       "      <th>0</th>\n",
       "      <td>1</td>\n",
       "      <td>Great danger, cool, motif and cantik2 jg model...</td>\n",
       "      <td>--</td>\n",
       "    </tr>\n",
       "    <tr>\n",
       "      <th>1</th>\n",
       "      <td>2</td>\n",
       "      <td>One of the shades don't fit well</td>\n",
       "      <td>--</td>\n",
       "    </tr>\n",
       "    <tr>\n",
       "      <th>2</th>\n",
       "      <td>3</td>\n",
       "      <td>Very comfortable</td>\n",
       "      <td>--</td>\n",
       "    </tr>\n",
       "    <tr>\n",
       "      <th>3</th>\n",
       "      <td>4</td>\n",
       "      <td>Fast delivery. Product expiry is on Dec 2022. ...</td>\n",
       "      <td>--</td>\n",
       "    </tr>\n",
       "    <tr>\n",
       "      <th>4</th>\n",
       "      <td>5</td>\n",
       "      <td>it's sooooo cute! i like playing with the glit...</td>\n",
       "      <td>--</td>\n",
       "    </tr>\n",
       "    <tr>\n",
       "      <th>...</th>\n",
       "      <td>...</td>\n",
       "      <td>...</td>\n",
       "      <td>...</td>\n",
       "    </tr>\n",
       "    <tr>\n",
       "      <th>60422</th>\n",
       "      <td>60423</td>\n",
       "      <td>Product has been succesfully ordered and shipp...</td>\n",
       "      <td>--</td>\n",
       "    </tr>\n",
       "    <tr>\n",
       "      <th>60423</th>\n",
       "      <td>60424</td>\n",
       "      <td>Opening time a little scared. Fear dalemnya de...</td>\n",
       "      <td>--</td>\n",
       "    </tr>\n",
       "    <tr>\n",
       "      <th>60424</th>\n",
       "      <td>60425</td>\n",
       "      <td>The product quality is excellent. The origina...</td>\n",
       "      <td>--</td>\n",
       "    </tr>\n",
       "    <tr>\n",
       "      <th>60425</th>\n",
       "      <td>60426</td>\n",
       "      <td>They 're holding up REALLY well also .</td>\n",
       "      <td>--</td>\n",
       "    </tr>\n",
       "    <tr>\n",
       "      <th>60426</th>\n",
       "      <td>60427</td>\n",
       "      <td>Rapid response and detail ...\\nThanks gan, the...</td>\n",
       "      <td>--</td>\n",
       "    </tr>\n",
       "  </tbody>\n",
       "</table>\n",
       "<p>60427 rows × 3 columns</p>\n",
       "</div>"
      ],
      "text/plain": [
       "       review_id                                             review rating\n",
       "0              1  Great danger, cool, motif and cantik2 jg model...     --\n",
       "1              2                   One of the shades don't fit well     --\n",
       "2              3                                   Very comfortable     --\n",
       "3              4  Fast delivery. Product expiry is on Dec 2022. ...     --\n",
       "4              5  it's sooooo cute! i like playing with the glit...     --\n",
       "...          ...                                                ...    ...\n",
       "60422      60423  Product has been succesfully ordered and shipp...     --\n",
       "60423      60424  Opening time a little scared. Fear dalemnya de...     --\n",
       "60424      60425   The product quality is excellent. The origina...     --\n",
       "60425      60426             They 're holding up REALLY well also .     --\n",
       "60426      60427  Rapid response and detail ...\\nThanks gan, the...     --\n",
       "\n",
       "[60427 rows x 3 columns]"
      ]
     },
     "execution_count": 44,
     "metadata": {},
     "output_type": "execute_result"
    }
   ],
   "source": [
    "#Read the csv file \n",
    "test_df = pd.read_csv('data/test.csv')\n",
    "test_df['rating']='--'\n",
    "test_df"
   ]
  },
  {
   "cell_type": "code",
   "execution_count": 45,
   "metadata": {},
   "outputs": [],
   "source": [
    "test_df['text'] = test_df.review.apply(pre_process)"
   ]
  },
  {
   "cell_type": "code",
   "execution_count": 64,
   "metadata": {},
   "outputs": [],
   "source": [
    "filename = 'finalized_SVM_model.sav'\n",
    "\n",
    "svm_model = pickle.load(open(filename, 'rb'))"
   ]
  },
  {
   "cell_type": "code",
   "execution_count": 46,
   "metadata": {},
   "outputs": [],
   "source": [
    "filename = 'finalized_KNN_model.sav'\n",
    "knn_model = pickle.load(open(filename, 'rb'))"
   ]
  },
  {
   "cell_type": "code",
   "execution_count": 48,
   "metadata": {
    "scrolled": true
   },
   "outputs": [
    {
     "name": "stdout",
     "output_type": "stream",
     "text": [
      "batch: 1\n",
      "batch: 1001\n",
      "batch: 2001\n",
      "batch: 3001\n",
      "batch: 4001\n",
      "batch: 5001\n",
      "batch: 6001\n",
      "batch: 7001\n",
      "batch: 8001\n",
      "batch: 9001\n",
      "batch: 10001\n",
      "batch: 11001\n",
      "batch: 12001\n",
      "batch: 13001\n",
      "batch: 14001\n",
      "batch: 15001\n",
      "batch: 16001\n",
      "batch: 17001\n",
      "batch: 18001\n",
      "batch: 19001\n",
      "batch: 20001\n",
      "batch: 21001\n",
      "batch: 22001\n",
      "batch: 23001\n",
      "batch: 24001\n",
      "batch: 25001\n",
      "batch: 26001\n",
      "batch: 27001\n",
      "batch: 28001\n",
      "batch: 29001\n",
      "batch: 30001\n",
      "batch: 31001\n",
      "batch: 32001\n",
      "batch: 33001\n",
      "batch: 34001\n",
      "batch: 35001\n",
      "batch: 36001\n",
      "batch: 37001\n",
      "batch: 38001\n",
      "batch: 39001\n",
      "batch: 40001\n",
      "batch: 41001\n",
      "batch: 42001\n",
      "batch: 43001\n",
      "batch: 44001\n",
      "batch: 45001\n",
      "batch: 46001\n",
      "batch: 47001\n",
      "batch: 48001\n",
      "batch: 49001\n",
      "batch: 50001\n",
      "batch: 51001\n",
      "batch: 52001\n",
      "batch: 53001\n",
      "batch: 54001\n",
      "batch: 55001\n",
      "batch: 56001\n",
      "batch: 57001\n",
      "batch: 58001\n",
      "batch: 59001\n",
      "batch: 60001\n"
     ]
    }
   ],
   "source": [
    "for i in range (len(test_df)):\n",
    "    if i%1000==0:\n",
    "        print('batch:',i+1)\n",
    "    \n",
    "    # Read in test text and vectorised it\n",
    "    text_vectors = vectorizer.transform([test_df.text[i]])\n",
    "    \n",
    "    # Predict category\n",
    "    preds = knn_model.predict(text_vectors)\n",
    "    test_df['rating'][i] = preds[0]"
   ]
  },
  {
   "cell_type": "code",
   "execution_count": 50,
   "metadata": {
    "scrolled": true
   },
   "outputs": [
    {
     "ename": "KeyError",
     "evalue": "\"['review' 'text'] not found in axis\"",
     "output_type": "error",
     "traceback": [
      "\u001b[1;31m---------------------------------------------------------------------------\u001b[0m",
      "\u001b[1;31mKeyError\u001b[0m                                  Traceback (most recent call last)",
      "\u001b[1;32m<ipython-input-50-a50ca86d2797>\u001b[0m in \u001b[0;36m<module>\u001b[1;34m\u001b[0m\n\u001b[1;32m----> 1\u001b[1;33m \u001b[0mtest_df\u001b[0m \u001b[1;33m=\u001b[0m \u001b[0mtest_df\u001b[0m\u001b[1;33m.\u001b[0m\u001b[0mdrop\u001b[0m\u001b[1;33m(\u001b[0m\u001b[1;33m[\u001b[0m\u001b[1;34m'review'\u001b[0m\u001b[1;33m,\u001b[0m\u001b[1;34m'text'\u001b[0m\u001b[1;33m]\u001b[0m\u001b[1;33m,\u001b[0m \u001b[0maxis\u001b[0m\u001b[1;33m=\u001b[0m\u001b[1;36m1\u001b[0m\u001b[1;33m)\u001b[0m\u001b[1;33m\u001b[0m\u001b[1;33m\u001b[0m\u001b[0m\n\u001b[0m\u001b[0;32m      2\u001b[0m \u001b[0mtest_df\u001b[0m \u001b[1;33m=\u001b[0m \u001b[0mtest_df\u001b[0m\u001b[1;33m[\u001b[0m\u001b[1;33m[\u001b[0m\u001b[1;34m'review_id'\u001b[0m\u001b[1;33m,\u001b[0m\u001b[1;34m'rating'\u001b[0m\u001b[1;33m]\u001b[0m\u001b[1;33m]\u001b[0m\u001b[1;33m\u001b[0m\u001b[1;33m\u001b[0m\u001b[0m\n\u001b[0;32m      3\u001b[0m \u001b[1;33m\u001b[0m\u001b[0m\n\u001b[0;32m      4\u001b[0m \u001b[0mtest_df\u001b[0m\u001b[1;33m\u001b[0m\u001b[1;33m\u001b[0m\u001b[0m\n",
      "\u001b[1;32mC:\\ProgramData\\Anaconda3\\lib\\site-packages\\pandas\\core\\frame.py\u001b[0m in \u001b[0;36mdrop\u001b[1;34m(self, labels, axis, index, columns, level, inplace, errors)\u001b[0m\n\u001b[0;32m   3995\u001b[0m             \u001b[0mlevel\u001b[0m\u001b[1;33m=\u001b[0m\u001b[0mlevel\u001b[0m\u001b[1;33m,\u001b[0m\u001b[1;33m\u001b[0m\u001b[1;33m\u001b[0m\u001b[0m\n\u001b[0;32m   3996\u001b[0m             \u001b[0minplace\u001b[0m\u001b[1;33m=\u001b[0m\u001b[0minplace\u001b[0m\u001b[1;33m,\u001b[0m\u001b[1;33m\u001b[0m\u001b[1;33m\u001b[0m\u001b[0m\n\u001b[1;32m-> 3997\u001b[1;33m             \u001b[0merrors\u001b[0m\u001b[1;33m=\u001b[0m\u001b[0merrors\u001b[0m\u001b[1;33m,\u001b[0m\u001b[1;33m\u001b[0m\u001b[1;33m\u001b[0m\u001b[0m\n\u001b[0m\u001b[0;32m   3998\u001b[0m         )\n\u001b[0;32m   3999\u001b[0m \u001b[1;33m\u001b[0m\u001b[0m\n",
      "\u001b[1;32mC:\\ProgramData\\Anaconda3\\lib\\site-packages\\pandas\\core\\generic.py\u001b[0m in \u001b[0;36mdrop\u001b[1;34m(self, labels, axis, index, columns, level, inplace, errors)\u001b[0m\n\u001b[0;32m   3934\u001b[0m         \u001b[1;32mfor\u001b[0m \u001b[0maxis\u001b[0m\u001b[1;33m,\u001b[0m \u001b[0mlabels\u001b[0m \u001b[1;32min\u001b[0m \u001b[0maxes\u001b[0m\u001b[1;33m.\u001b[0m\u001b[0mitems\u001b[0m\u001b[1;33m(\u001b[0m\u001b[1;33m)\u001b[0m\u001b[1;33m:\u001b[0m\u001b[1;33m\u001b[0m\u001b[1;33m\u001b[0m\u001b[0m\n\u001b[0;32m   3935\u001b[0m             \u001b[1;32mif\u001b[0m \u001b[0mlabels\u001b[0m \u001b[1;32mis\u001b[0m \u001b[1;32mnot\u001b[0m \u001b[1;32mNone\u001b[0m\u001b[1;33m:\u001b[0m\u001b[1;33m\u001b[0m\u001b[1;33m\u001b[0m\u001b[0m\n\u001b[1;32m-> 3936\u001b[1;33m                 \u001b[0mobj\u001b[0m \u001b[1;33m=\u001b[0m \u001b[0mobj\u001b[0m\u001b[1;33m.\u001b[0m\u001b[0m_drop_axis\u001b[0m\u001b[1;33m(\u001b[0m\u001b[0mlabels\u001b[0m\u001b[1;33m,\u001b[0m \u001b[0maxis\u001b[0m\u001b[1;33m,\u001b[0m \u001b[0mlevel\u001b[0m\u001b[1;33m=\u001b[0m\u001b[0mlevel\u001b[0m\u001b[1;33m,\u001b[0m \u001b[0merrors\u001b[0m\u001b[1;33m=\u001b[0m\u001b[0merrors\u001b[0m\u001b[1;33m)\u001b[0m\u001b[1;33m\u001b[0m\u001b[1;33m\u001b[0m\u001b[0m\n\u001b[0m\u001b[0;32m   3937\u001b[0m \u001b[1;33m\u001b[0m\u001b[0m\n\u001b[0;32m   3938\u001b[0m         \u001b[1;32mif\u001b[0m \u001b[0minplace\u001b[0m\u001b[1;33m:\u001b[0m\u001b[1;33m\u001b[0m\u001b[1;33m\u001b[0m\u001b[0m\n",
      "\u001b[1;32mC:\\ProgramData\\Anaconda3\\lib\\site-packages\\pandas\\core\\generic.py\u001b[0m in \u001b[0;36m_drop_axis\u001b[1;34m(self, labels, axis, level, errors)\u001b[0m\n\u001b[0;32m   3968\u001b[0m                 \u001b[0mnew_axis\u001b[0m \u001b[1;33m=\u001b[0m \u001b[0maxis\u001b[0m\u001b[1;33m.\u001b[0m\u001b[0mdrop\u001b[0m\u001b[1;33m(\u001b[0m\u001b[0mlabels\u001b[0m\u001b[1;33m,\u001b[0m \u001b[0mlevel\u001b[0m\u001b[1;33m=\u001b[0m\u001b[0mlevel\u001b[0m\u001b[1;33m,\u001b[0m \u001b[0merrors\u001b[0m\u001b[1;33m=\u001b[0m\u001b[0merrors\u001b[0m\u001b[1;33m)\u001b[0m\u001b[1;33m\u001b[0m\u001b[1;33m\u001b[0m\u001b[0m\n\u001b[0;32m   3969\u001b[0m             \u001b[1;32melse\u001b[0m\u001b[1;33m:\u001b[0m\u001b[1;33m\u001b[0m\u001b[1;33m\u001b[0m\u001b[0m\n\u001b[1;32m-> 3970\u001b[1;33m                 \u001b[0mnew_axis\u001b[0m \u001b[1;33m=\u001b[0m \u001b[0maxis\u001b[0m\u001b[1;33m.\u001b[0m\u001b[0mdrop\u001b[0m\u001b[1;33m(\u001b[0m\u001b[0mlabels\u001b[0m\u001b[1;33m,\u001b[0m \u001b[0merrors\u001b[0m\u001b[1;33m=\u001b[0m\u001b[0merrors\u001b[0m\u001b[1;33m)\u001b[0m\u001b[1;33m\u001b[0m\u001b[1;33m\u001b[0m\u001b[0m\n\u001b[0m\u001b[0;32m   3971\u001b[0m             \u001b[0mresult\u001b[0m \u001b[1;33m=\u001b[0m \u001b[0mself\u001b[0m\u001b[1;33m.\u001b[0m\u001b[0mreindex\u001b[0m\u001b[1;33m(\u001b[0m\u001b[1;33m**\u001b[0m\u001b[1;33m{\u001b[0m\u001b[0maxis_name\u001b[0m\u001b[1;33m:\u001b[0m \u001b[0mnew_axis\u001b[0m\u001b[1;33m}\u001b[0m\u001b[1;33m)\u001b[0m\u001b[1;33m\u001b[0m\u001b[1;33m\u001b[0m\u001b[0m\n\u001b[0;32m   3972\u001b[0m \u001b[1;33m\u001b[0m\u001b[0m\n",
      "\u001b[1;32mC:\\ProgramData\\Anaconda3\\lib\\site-packages\\pandas\\core\\indexes\\base.py\u001b[0m in \u001b[0;36mdrop\u001b[1;34m(self, labels, errors)\u001b[0m\n\u001b[0;32m   5016\u001b[0m         \u001b[1;32mif\u001b[0m \u001b[0mmask\u001b[0m\u001b[1;33m.\u001b[0m\u001b[0many\u001b[0m\u001b[1;33m(\u001b[0m\u001b[1;33m)\u001b[0m\u001b[1;33m:\u001b[0m\u001b[1;33m\u001b[0m\u001b[1;33m\u001b[0m\u001b[0m\n\u001b[0;32m   5017\u001b[0m             \u001b[1;32mif\u001b[0m \u001b[0merrors\u001b[0m \u001b[1;33m!=\u001b[0m \u001b[1;34m\"ignore\"\u001b[0m\u001b[1;33m:\u001b[0m\u001b[1;33m\u001b[0m\u001b[1;33m\u001b[0m\u001b[0m\n\u001b[1;32m-> 5018\u001b[1;33m                 \u001b[1;32mraise\u001b[0m \u001b[0mKeyError\u001b[0m\u001b[1;33m(\u001b[0m\u001b[1;34mf\"{labels[mask]} not found in axis\"\u001b[0m\u001b[1;33m)\u001b[0m\u001b[1;33m\u001b[0m\u001b[1;33m\u001b[0m\u001b[0m\n\u001b[0m\u001b[0;32m   5019\u001b[0m             \u001b[0mindexer\u001b[0m \u001b[1;33m=\u001b[0m \u001b[0mindexer\u001b[0m\u001b[1;33m[\u001b[0m\u001b[1;33m~\u001b[0m\u001b[0mmask\u001b[0m\u001b[1;33m]\u001b[0m\u001b[1;33m\u001b[0m\u001b[1;33m\u001b[0m\u001b[0m\n\u001b[0;32m   5020\u001b[0m         \u001b[1;32mreturn\u001b[0m \u001b[0mself\u001b[0m\u001b[1;33m.\u001b[0m\u001b[0mdelete\u001b[0m\u001b[1;33m(\u001b[0m\u001b[0mindexer\u001b[0m\u001b[1;33m)\u001b[0m\u001b[1;33m\u001b[0m\u001b[1;33m\u001b[0m\u001b[0m\n",
      "\u001b[1;31mKeyError\u001b[0m: \"['review' 'text'] not found in axis\""
     ]
    }
   ],
   "source": [
    "test_df = test_df.drop(['review','text'], axis=1)\n",
    "test_df = test_df[['review_id','rating']]\n",
    "\n",
    "test_df"
   ]
  },
  {
   "cell_type": "code",
   "execution_count": 51,
   "metadata": {},
   "outputs": [
    {
     "data": {
      "text/html": [
       "<div>\n",
       "<style scoped>\n",
       "    .dataframe tbody tr th:only-of-type {\n",
       "        vertical-align: middle;\n",
       "    }\n",
       "\n",
       "    .dataframe tbody tr th {\n",
       "        vertical-align: top;\n",
       "    }\n",
       "\n",
       "    .dataframe thead th {\n",
       "        text-align: right;\n",
       "    }\n",
       "</style>\n",
       "<table border=\"1\" class=\"dataframe\">\n",
       "  <thead>\n",
       "    <tr style=\"text-align: right;\">\n",
       "      <th></th>\n",
       "      <th>review_id</th>\n",
       "      <th>rating</th>\n",
       "    </tr>\n",
       "  </thead>\n",
       "  <tbody>\n",
       "    <tr>\n",
       "      <th>0</th>\n",
       "      <td>1</td>\n",
       "      <td>2</td>\n",
       "    </tr>\n",
       "    <tr>\n",
       "      <th>1</th>\n",
       "      <td>2</td>\n",
       "      <td>2</td>\n",
       "    </tr>\n",
       "    <tr>\n",
       "      <th>2</th>\n",
       "      <td>3</td>\n",
       "      <td>4</td>\n",
       "    </tr>\n",
       "    <tr>\n",
       "      <th>3</th>\n",
       "      <td>4</td>\n",
       "      <td>1</td>\n",
       "    </tr>\n",
       "    <tr>\n",
       "      <th>4</th>\n",
       "      <td>5</td>\n",
       "      <td>4</td>\n",
       "    </tr>\n",
       "    <tr>\n",
       "      <th>...</th>\n",
       "      <td>...</td>\n",
       "      <td>...</td>\n",
       "    </tr>\n",
       "    <tr>\n",
       "      <th>60422</th>\n",
       "      <td>60423</td>\n",
       "      <td>3</td>\n",
       "    </tr>\n",
       "    <tr>\n",
       "      <th>60423</th>\n",
       "      <td>60424</td>\n",
       "      <td>1</td>\n",
       "    </tr>\n",
       "    <tr>\n",
       "      <th>60424</th>\n",
       "      <td>60425</td>\n",
       "      <td>4</td>\n",
       "    </tr>\n",
       "    <tr>\n",
       "      <th>60425</th>\n",
       "      <td>60426</td>\n",
       "      <td>4</td>\n",
       "    </tr>\n",
       "    <tr>\n",
       "      <th>60426</th>\n",
       "      <td>60427</td>\n",
       "      <td>5</td>\n",
       "    </tr>\n",
       "  </tbody>\n",
       "</table>\n",
       "<p>60427 rows × 2 columns</p>\n",
       "</div>"
      ],
      "text/plain": [
       "       review_id rating\n",
       "0              1      2\n",
       "1              2      2\n",
       "2              3      4\n",
       "3              4      1\n",
       "4              5      4\n",
       "...          ...    ...\n",
       "60422      60423      3\n",
       "60423      60424      1\n",
       "60424      60425      4\n",
       "60425      60426      4\n",
       "60426      60427      5\n",
       "\n",
       "[60427 rows x 2 columns]"
      ]
     },
     "execution_count": 51,
     "metadata": {},
     "output_type": "execute_result"
    }
   ],
   "source": [
    "test_df"
   ]
  },
  {
   "cell_type": "markdown",
   "metadata": {},
   "source": [
    "## Save Predictions for Submission"
   ]
  },
  {
   "cell_type": "code",
   "execution_count": 52,
   "metadata": {},
   "outputs": [],
   "source": [
    "test_df.to_csv('KNN1-submission.csv', index=False)"
   ]
  },
  {
   "cell_type": "code",
   "execution_count": null,
   "metadata": {},
   "outputs": [],
   "source": []
  }
 ],
 "metadata": {
  "kernelspec": {
   "display_name": "Python 3",
   "language": "python",
   "name": "python3"
  },
  "language_info": {
   "codemirror_mode": {
    "name": "ipython",
    "version": 3
   },
   "file_extension": ".py",
   "mimetype": "text/x-python",
   "name": "python",
   "nbconvert_exporter": "python",
   "pygments_lexer": "ipython3",
   "version": "3.7.6"
  }
 },
 "nbformat": 4,
 "nbformat_minor": 4
}
