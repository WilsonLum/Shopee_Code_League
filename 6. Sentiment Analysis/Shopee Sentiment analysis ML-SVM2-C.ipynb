{
 "cells": [
  {
   "cell_type": "markdown",
   "metadata": {},
   "source": [
    "<h1><center>Sentiment Analysis of Shopee</center><h1>"
   ]
  },
  {
   "cell_type": "markdown",
   "metadata": {},
   "source": [
    "## Project Team – Over30\n",
    "- Donal Ngo         \n",
    "- Lee Seng            \n",
    "- Teerapong        \n",
    "- Wilson Lum Kok Keong   \n",
    "<br><br>"
   ]
  },
  {
   "cell_type": "markdown",
   "metadata": {},
   "source": [
    "# Model Training for labeling datasets"
   ]
  },
  {
   "cell_type": "markdown",
   "metadata": {},
   "source": [
    "## Import Library"
   ]
  },
  {
   "cell_type": "code",
   "execution_count": 6,
   "metadata": {},
   "outputs": [],
   "source": [
    "from pathlib import Path\n",
    "import json\n",
    "import re\n",
    "import os\n",
    "import pandas as pd\n",
    "import numpy as np\n",
    "import matplotlib.pyplot as plt\n",
    "from PIL import Image\n",
    "%matplotlib inline\n",
    "import nltk\n",
    "from sklearn.preprocessing import LabelEncoder\n",
    "\n",
    "from nltk import word_tokenize, FreqDist\n",
    "from datetime import date\n",
    "from sklearn import utils\n",
    "import pickle\n",
    "\n",
    "import sklearn\n",
    "import re \n",
    "from sklearn.feature_extraction.text import TfidfVectorizer\n",
    "from sklearn.model_selection import train_test_split\n",
    "from sklearn.svm import SVC\n",
    "from sklearn.tree import DecisionTreeClassifier\n",
    "from sklearn.neighbors import KNeighborsClassifier\n",
    "from sklearn.naive_bayes import MultinomialNB\n",
    "from sklearn.metrics import confusion_matrix\n",
    "from sklearn.metrics import classification_report\n",
    "from sklearn.metrics import accuracy_score\n",
    "from sklearn import preprocessing\n",
    "from sklearn import metrics\n",
    "from sklearn.feature_selection import SelectKBest\n",
    "from sklearn.feature_extraction.text import TfidfVectorizer #as vectorizer\n",
    "from sklearn.model_selection import train_test_split\n",
    "from sklearn.feature_selection import chi2\n",
    "from sklearn.metrics import precision_score, recall_score,f1_score\n",
    "from sklearn.linear_model import LogisticRegression\n",
    "\n",
    "import warnings\n",
    "warnings.filterwarnings(\"ignore\")"
   ]
  },
  {
   "cell_type": "code",
   "execution_count": 4,
   "metadata": {},
   "outputs": [],
   "source": [
    "import os \n",
    "os.environ[\"CUDA_VISIBLE_DEVICES\"]=\"0\""
   ]
  },
  {
   "cell_type": "markdown",
   "metadata": {},
   "source": [
    "## Reading in the dataset"
   ]
  },
  {
   "cell_type": "code",
   "execution_count": 5,
   "metadata": {},
   "outputs": [],
   "source": [
    "# Text preprocesing\n",
    "\n",
    "import nltk\n",
    "import re\n",
    "from nltk.corpus import stopwords\n",
    "mystopwords=stopwords.words(\"English\") + ['']\n",
    "WNlemma = nltk.WordNetLemmatizer()\n",
    "\n",
    "def pre_process(text):\n",
    "    # Remove all the special characters\n",
    "    processed_tweet = re.sub(r'\\W', ' ', str(text))\n",
    "    # Substituting multiple spaces with single space\n",
    "    processed_tweet= re.sub(r'\\s+', ' ', processed_tweet, flags=re.I)\n",
    "\n",
    "    tokens = nltk.word_tokenize(processed_tweet)\n",
    "    tokens = [ t.lower() for t in tokens]\n",
    "    tokens = [ t for t in tokens if t not in mystopwords]\n",
    "    text_after_process=\" \".join(tokens)\n",
    "    return(text_after_process)"
   ]
  },
  {
   "cell_type": "code",
   "execution_count": 5,
   "metadata": {},
   "outputs": [],
   "source": [
    "#Read the csv file \n",
    "df = pd.read_csv('data/train.csv')"
   ]
  },
  {
   "cell_type": "code",
   "execution_count": 6,
   "metadata": {
    "scrolled": true
   },
   "outputs": [
    {
     "data": {
      "text/html": [
       "<div>\n",
       "<style scoped>\n",
       "    .dataframe tbody tr th:only-of-type {\n",
       "        vertical-align: middle;\n",
       "    }\n",
       "\n",
       "    .dataframe tbody tr th {\n",
       "        vertical-align: top;\n",
       "    }\n",
       "\n",
       "    .dataframe thead th {\n",
       "        text-align: right;\n",
       "    }\n",
       "</style>\n",
       "<table border=\"1\" class=\"dataframe\">\n",
       "  <thead>\n",
       "    <tr style=\"text-align: right;\">\n",
       "      <th></th>\n",
       "      <th>review_id</th>\n",
       "      <th>review</th>\n",
       "      <th>rating</th>\n",
       "    </tr>\n",
       "  </thead>\n",
       "  <tbody>\n",
       "    <tr>\n",
       "      <th>0</th>\n",
       "      <td>0</td>\n",
       "      <td>Ga disappointed neat products .. Meletot Hilsn...</td>\n",
       "      <td>1</td>\n",
       "    </tr>\n",
       "    <tr>\n",
       "      <th>1</th>\n",
       "      <td>1</td>\n",
       "      <td>Rdtanya replace broken glass, broken chargernya</td>\n",
       "      <td>1</td>\n",
       "    </tr>\n",
       "    <tr>\n",
       "      <th>2</th>\n",
       "      <td>2</td>\n",
       "      <td>Nyesel bngt dsni shopping antecedent photo mes...</td>\n",
       "      <td>1</td>\n",
       "    </tr>\n",
       "    <tr>\n",
       "      <th>3</th>\n",
       "      <td>3</td>\n",
       "      <td>Sent a light blue suit goods ga want a refund</td>\n",
       "      <td>1</td>\n",
       "    </tr>\n",
       "    <tr>\n",
       "      <th>4</th>\n",
       "      <td>4</td>\n",
       "      <td>Pendants came with dents and scratches on its ...</td>\n",
       "      <td>1</td>\n",
       "    </tr>\n",
       "    <tr>\n",
       "      <th>...</th>\n",
       "      <td>...</td>\n",
       "      <td>...</td>\n",
       "      <td>...</td>\n",
       "    </tr>\n",
       "    <tr>\n",
       "      <th>146806</th>\n",
       "      <td>146806</td>\n",
       "      <td>Excellent product quality delivery speed is ve...</td>\n",
       "      <td>5</td>\n",
       "    </tr>\n",
       "    <tr>\n",
       "      <th>146807</th>\n",
       "      <td>146807</td>\n",
       "      <td>thanks gan</td>\n",
       "      <td>5</td>\n",
       "    </tr>\n",
       "    <tr>\n",
       "      <th>146808</th>\n",
       "      <td>146808</td>\n",
       "      <td>Awesome awesome quality merchandise value CP ...</td>\n",
       "      <td>5</td>\n",
       "    </tr>\n",
       "    <tr>\n",
       "      <th>146809</th>\n",
       "      <td>146809</td>\n",
       "      <td>Nice Packing boxes made effective price .........</td>\n",
       "      <td>5</td>\n",
       "    </tr>\n",
       "    <tr>\n",
       "      <th>146810</th>\n",
       "      <td>146810</td>\n",
       "      <td>Excellent product quality excellent product p...</td>\n",
       "      <td>5</td>\n",
       "    </tr>\n",
       "  </tbody>\n",
       "</table>\n",
       "<p>146811 rows × 3 columns</p>\n",
       "</div>"
      ],
      "text/plain": [
       "        review_id                                             review  rating\n",
       "0               0  Ga disappointed neat products .. Meletot Hilsn...       1\n",
       "1               1    Rdtanya replace broken glass, broken chargernya       1\n",
       "2               2  Nyesel bngt dsni shopping antecedent photo mes...       1\n",
       "3               3      Sent a light blue suit goods ga want a refund       1\n",
       "4               4  Pendants came with dents and scratches on its ...       1\n",
       "...           ...                                                ...     ...\n",
       "146806     146806  Excellent product quality delivery speed is ve...       5\n",
       "146807     146807                                         thanks gan       5\n",
       "146808     146808   Awesome awesome quality merchandise value CP ...       5\n",
       "146809     146809  Nice Packing boxes made effective price .........       5\n",
       "146810     146810   Excellent product quality excellent product p...       5\n",
       "\n",
       "[146811 rows x 3 columns]"
      ]
     },
     "execution_count": 6,
     "metadata": {},
     "output_type": "execute_result"
    }
   ],
   "source": [
    "df"
   ]
  },
  {
   "cell_type": "code",
   "execution_count": 7,
   "metadata": {},
   "outputs": [
    {
     "data": {
      "text/plain": [
       "(146811, 3)"
      ]
     },
     "execution_count": 7,
     "metadata": {},
     "output_type": "execute_result"
    }
   ],
   "source": [
    "df.shape"
   ]
  },
  {
   "cell_type": "code",
   "execution_count": 8,
   "metadata": {},
   "outputs": [
    {
     "data": {
      "text/plain": [
       "<matplotlib.axes._subplots.AxesSubplot at 0x148dcb78288>"
      ]
     },
     "execution_count": 8,
     "metadata": {},
     "output_type": "execute_result"
    },
    {
     "data": {
      "image/png": "[encoded data removed]",
      "text/plain": [
       "<Figure size 432x288 with 1 Axes>"
      ]
     },
     "metadata": {
      "needs_background": "light"
     },
     "output_type": "display_data"
    }
   ],
   "source": [
    "df.isnull().mean().sort_values(ascending=False).plot(kind='bar')"
   ]
  },
  {
   "cell_type": "code",
   "execution_count": 9,
   "metadata": {},
   "outputs": [
    {
     "data": {
      "text/plain": [
       "<matplotlib.axes._subplots.AxesSubplot at 0x148dcc52e88>"
      ]
     },
     "execution_count": 9,
     "metadata": {},
     "output_type": "execute_result"
    },
    {
     "data": {
      "image/png": "[encoded data removed]",
      "text/plain": [
       "<Figure size 432x288 with 1 Axes>"
      ]
     },
     "metadata": {
      "needs_background": "light"
     },
     "output_type": "display_data"
    }
   ],
   "source": [
    "# Get only the raw body text\n",
    "df['rating'].value_counts(dropna=False).plot(kind='bar')"
   ]
  },
  {
   "cell_type": "markdown",
   "metadata": {},
   "source": [
    "### Shuffle the datasets for randomness & Equalised the Bullish and Bearish datasets"
   ]
  },
  {
   "cell_type": "code",
   "execution_count": 10,
   "metadata": {
    "scrolled": true
   },
   "outputs": [],
   "source": [
    "df['text'] = df.review.apply(pre_process)"
   ]
  },
  {
   "cell_type": "code",
   "execution_count": 11,
   "metadata": {
    "scrolled": true
   },
   "outputs": [
    {
     "data": {
      "text/html": [
       "<div>\n",
       "<style scoped>\n",
       "    .dataframe tbody tr th:only-of-type {\n",
       "        vertical-align: middle;\n",
       "    }\n",
       "\n",
       "    .dataframe tbody tr th {\n",
       "        vertical-align: top;\n",
       "    }\n",
       "\n",
       "    .dataframe thead th {\n",
       "        text-align: right;\n",
       "    }\n",
       "</style>\n",
       "<table border=\"1\" class=\"dataframe\">\n",
       "  <thead>\n",
       "    <tr style=\"text-align: right;\">\n",
       "      <th></th>\n",
       "      <th>review_id</th>\n",
       "      <th>review</th>\n",
       "      <th>rating</th>\n",
       "      <th>text</th>\n",
       "    </tr>\n",
       "  </thead>\n",
       "  <tbody>\n",
       "    <tr>\n",
       "      <th>0</th>\n",
       "      <td>0</td>\n",
       "      <td>Ga disappointed neat products .. Meletot Hilsn...</td>\n",
       "      <td>1</td>\n",
       "      <td>ga disappointed neat products meletot hilsnyaa...</td>\n",
       "    </tr>\n",
       "    <tr>\n",
       "      <th>1</th>\n",
       "      <td>1</td>\n",
       "      <td>Rdtanya replace broken glass, broken chargernya</td>\n",
       "      <td>1</td>\n",
       "      <td>rdtanya replace broken glass broken chargernya</td>\n",
       "    </tr>\n",
       "    <tr>\n",
       "      <th>2</th>\n",
       "      <td>2</td>\n",
       "      <td>Nyesel bngt dsni shopping antecedent photo mes...</td>\n",
       "      <td>1</td>\n",
       "      <td>nyesel bngt dsni shopping antecedent photo mes...</td>\n",
       "    </tr>\n",
       "    <tr>\n",
       "      <th>3</th>\n",
       "      <td>3</td>\n",
       "      <td>Sent a light blue suit goods ga want a refund</td>\n",
       "      <td>1</td>\n",
       "      <td>sent light blue suit goods ga want refund</td>\n",
       "    </tr>\n",
       "    <tr>\n",
       "      <th>4</th>\n",
       "      <td>4</td>\n",
       "      <td>Pendants came with dents and scratches on its ...</td>\n",
       "      <td>1</td>\n",
       "      <td>pendants came dents scratches surface coating ...</td>\n",
       "    </tr>\n",
       "    <tr>\n",
       "      <th>...</th>\n",
       "      <td>...</td>\n",
       "      <td>...</td>\n",
       "      <td>...</td>\n",
       "      <td>...</td>\n",
       "    </tr>\n",
       "    <tr>\n",
       "      <th>146806</th>\n",
       "      <td>146806</td>\n",
       "      <td>Excellent product quality delivery speed is ve...</td>\n",
       "      <td>5</td>\n",
       "      <td>excellent product quality delivery speed good ...</td>\n",
       "    </tr>\n",
       "    <tr>\n",
       "      <th>146807</th>\n",
       "      <td>146807</td>\n",
       "      <td>thanks gan</td>\n",
       "      <td>5</td>\n",
       "      <td>thanks gan</td>\n",
       "    </tr>\n",
       "    <tr>\n",
       "      <th>146808</th>\n",
       "      <td>146808</td>\n",
       "      <td>Awesome awesome quality merchandise value CP ...</td>\n",
       "      <td>5</td>\n",
       "      <td>awesome awesome quality merchandise value cp nice</td>\n",
       "    </tr>\n",
       "    <tr>\n",
       "      <th>146809</th>\n",
       "      <td>146809</td>\n",
       "      <td>Nice Packing boxes made effective price .........</td>\n",
       "      <td>5</td>\n",
       "      <td>nice packing boxes made effective price fast s...</td>\n",
       "    </tr>\n",
       "    <tr>\n",
       "      <th>146810</th>\n",
       "      <td>146810</td>\n",
       "      <td>Excellent product quality excellent product p...</td>\n",
       "      <td>5</td>\n",
       "      <td>excellent product quality excellent product pr...</td>\n",
       "    </tr>\n",
       "  </tbody>\n",
       "</table>\n",
       "<p>146811 rows × 4 columns</p>\n",
       "</div>"
      ],
      "text/plain": [
       "        review_id                                             review  rating  \\\n",
       "0               0  Ga disappointed neat products .. Meletot Hilsn...       1   \n",
       "1               1    Rdtanya replace broken glass, broken chargernya       1   \n",
       "2               2  Nyesel bngt dsni shopping antecedent photo mes...       1   \n",
       "3               3      Sent a light blue suit goods ga want a refund       1   \n",
       "4               4  Pendants came with dents and scratches on its ...       1   \n",
       "...           ...                                                ...     ...   \n",
       "146806     146806  Excellent product quality delivery speed is ve...       5   \n",
       "146807     146807                                         thanks gan       5   \n",
       "146808     146808   Awesome awesome quality merchandise value CP ...       5   \n",
       "146809     146809  Nice Packing boxes made effective price .........       5   \n",
       "146810     146810   Excellent product quality excellent product p...       5   \n",
       "\n",
       "                                                     text  \n",
       "0       ga disappointed neat products meletot hilsnyaa...  \n",
       "1          rdtanya replace broken glass broken chargernya  \n",
       "2       nyesel bngt dsni shopping antecedent photo mes...  \n",
       "3               sent light blue suit goods ga want refund  \n",
       "4       pendants came dents scratches surface coating ...  \n",
       "...                                                   ...  \n",
       "146806  excellent product quality delivery speed good ...  \n",
       "146807                                         thanks gan  \n",
       "146808  awesome awesome quality merchandise value cp nice  \n",
       "146809  nice packing boxes made effective price fast s...  \n",
       "146810  excellent product quality excellent product pr...  \n",
       "\n",
       "[146811 rows x 4 columns]"
      ]
     },
     "execution_count": 11,
     "metadata": {},
     "output_type": "execute_result"
    }
   ],
   "source": [
    "df"
   ]
  },
  {
   "cell_type": "code",
   "execution_count": 12,
   "metadata": {},
   "outputs": [
    {
     "data": {
      "text/plain": [
       "4    41865\n",
       "5    41515\n",
       "3    35941\n",
       "1    14785\n",
       "2    12705\n",
       "Name: rating, dtype: int64"
      ]
     },
     "execution_count": 12,
     "metadata": {},
     "output_type": "execute_result"
    }
   ],
   "source": [
    "df['rating'].value_counts()"
   ]
  },
  {
   "cell_type": "code",
   "execution_count": 13,
   "metadata": {},
   "outputs": [],
   "source": [
    "rating_1 = df[df.rating == 1] \n",
    "rating_2 = df[df.rating == 2]\n",
    "rating_3 = df[df.rating == 3] \n",
    "rating_4 = df[df.rating == 4]\n",
    "rating_5 = df[df.rating == 5] \n"
   ]
  },
  {
   "cell_type": "code",
   "execution_count": 14,
   "metadata": {},
   "outputs": [],
   "source": [
    "rating_1_upsampled = utils.resample(rating_1, \n",
    "                                 replace=True,     # sample with replacement\n",
    "                                 n_samples=rating_4.shape[0],    # to match majority class\n",
    "                                 random_state=42)"
   ]
  },
  {
   "cell_type": "code",
   "execution_count": 15,
   "metadata": {},
   "outputs": [
    {
     "data": {
      "text/plain": [
       "(41865, 4)"
      ]
     },
     "execution_count": 15,
     "metadata": {},
     "output_type": "execute_result"
    }
   ],
   "source": [
    "rating_1_upsampled.shape"
   ]
  },
  {
   "cell_type": "code",
   "execution_count": 16,
   "metadata": {},
   "outputs": [],
   "source": [
    "rating_2_upsampled = utils.resample(rating_2, replace=True, n_samples=rating_4.shape[0], random_state=42)\n",
    "rating_3_upsampled = utils.resample(rating_3, replace=True, n_samples=rating_4.shape[0], random_state=42)\n",
    "rating_5_upsampled = utils.resample(rating_5, replace=True, n_samples=rating_4.shape[0], random_state=42)"
   ]
  },
  {
   "cell_type": "code",
   "execution_count": 17,
   "metadata": {},
   "outputs": [
    {
     "data": {
      "text/plain": [
       "(41865, 4)"
      ]
     },
     "execution_count": 17,
     "metadata": {},
     "output_type": "execute_result"
    }
   ],
   "source": [
    "rating_2_upsampled.shape"
   ]
  },
  {
   "cell_type": "code",
   "execution_count": 18,
   "metadata": {},
   "outputs": [
    {
     "data": {
      "text/plain": [
       "(209325, 4)"
      ]
     },
     "execution_count": 18,
     "metadata": {},
     "output_type": "execute_result"
    }
   ],
   "source": [
    "df_upsampled = pd.concat([rating_1_upsampled, rating_2_upsampled,rating_3_upsampled,rating_4,rating_5_upsampled])\n",
    "df_upsampled.shape"
   ]
  },
  {
   "cell_type": "code",
   "execution_count": 19,
   "metadata": {},
   "outputs": [
    {
     "data": {
      "text/plain": [
       "5    41865\n",
       "4    41865\n",
       "3    41865\n",
       "2    41865\n",
       "1    41865\n",
       "Name: rating, dtype: int64"
      ]
     },
     "execution_count": 19,
     "metadata": {},
     "output_type": "execute_result"
    }
   ],
   "source": [
    "df_upsampled['rating'].value_counts()"
   ]
  },
  {
   "cell_type": "code",
   "execution_count": 20,
   "metadata": {
    "scrolled": true
   },
   "outputs": [
    {
     "data": {
      "text/html": [
       "<div>\n",
       "<style scoped>\n",
       "    .dataframe tbody tr th:only-of-type {\n",
       "        vertical-align: middle;\n",
       "    }\n",
       "\n",
       "    .dataframe tbody tr th {\n",
       "        vertical-align: top;\n",
       "    }\n",
       "\n",
       "    .dataframe thead th {\n",
       "        text-align: right;\n",
       "    }\n",
       "</style>\n",
       "<table border=\"1\" class=\"dataframe\">\n",
       "  <thead>\n",
       "    <tr style=\"text-align: right;\">\n",
       "      <th></th>\n",
       "      <th>review_id</th>\n",
       "      <th>review</th>\n",
       "      <th>rating</th>\n",
       "      <th>text</th>\n",
       "    </tr>\n",
       "  </thead>\n",
       "  <tbody>\n",
       "    <tr>\n",
       "      <th>7270</th>\n",
       "      <td>7270</td>\n",
       "      <td>the side of the shirt there who do not terjahi...</td>\n",
       "      <td>1</td>\n",
       "      <td>side shirt terjahit huufftt gmn qc ga yaa ko c...</td>\n",
       "    </tr>\n",
       "    <tr>\n",
       "      <th>860</th>\n",
       "      <td>860</td>\n",
       "      <td>I could use ... GK adherents declined wlwpun a...</td>\n",
       "      <td>1</td>\n",
       "      <td>could use gk adherents declined wlwpun already...</td>\n",
       "    </tr>\n",
       "    <tr>\n",
       "      <th>5390</th>\n",
       "      <td>5390</td>\n",
       "      <td>What message does Its ok pretty good, but the ...</td>\n",
       "      <td>1</td>\n",
       "      <td>message ok pretty good service store terrible</td>\n",
       "    </tr>\n",
       "    <tr>\n",
       "      <th>13418</th>\n",
       "      <td>13418</td>\n",
       "      <td>No delivery Leads</td>\n",
       "      <td>1</td>\n",
       "      <td>delivery leads</td>\n",
       "    </tr>\n",
       "    <tr>\n",
       "      <th>5191</th>\n",
       "      <td>5191</td>\n",
       "      <td>Totally different from the picture . Very diss...</td>\n",
       "      <td>1</td>\n",
       "      <td>totally different picture dissapointed</td>\n",
       "    </tr>\n",
       "    <tr>\n",
       "      <th>...</th>\n",
       "      <td>...</td>\n",
       "      <td>...</td>\n",
       "      <td>...</td>\n",
       "      <td>...</td>\n",
       "    </tr>\n",
       "    <tr>\n",
       "      <th>139471</th>\n",
       "      <td>139471</td>\n",
       "      <td>👍👍👍much recommended bag...  Tha quality is awe...</td>\n",
       "      <td>5</td>\n",
       "      <td>much recommended bag tha quality awesome</td>\n",
       "    </tr>\n",
       "    <tr>\n",
       "      <th>114308</th>\n",
       "      <td>114308</td>\n",
       "      <td>Thanks yg sdh awaited come and secure Buy when...</td>\n",
       "      <td>5</td>\n",
       "      <td>thanks yg sdh awaited come secure buy promo suka</td>\n",
       "    </tr>\n",
       "    <tr>\n",
       "      <th>112326</th>\n",
       "      <td>112326</td>\n",
       "      <td>Well-packaged Will order again</td>\n",
       "      <td>5</td>\n",
       "      <td>well packaged order</td>\n",
       "    </tr>\n",
       "    <tr>\n",
       "      <th>126210</th>\n",
       "      <td>126210</td>\n",
       "      <td>Good quality primer Price was A good product p...</td>\n",
       "      <td>5</td>\n",
       "      <td>good quality primer price good product pack pr...</td>\n",
       "    </tr>\n",
       "    <tr>\n",
       "      <th>113224</th>\n",
       "      <td>113224</td>\n",
       "      <td>Received ready the item with safely very nice ...</td>\n",
       "      <td>5</td>\n",
       "      <td>received ready item safely nice fast delivery ...</td>\n",
       "    </tr>\n",
       "  </tbody>\n",
       "</table>\n",
       "<p>209325 rows × 4 columns</p>\n",
       "</div>"
      ],
      "text/plain": [
       "        review_id                                             review  rating  \\\n",
       "7270         7270  the side of the shirt there who do not terjahi...       1   \n",
       "860           860  I could use ... GK adherents declined wlwpun a...       1   \n",
       "5390         5390  What message does Its ok pretty good, but the ...       1   \n",
       "13418       13418                                  No delivery Leads       1   \n",
       "5191         5191  Totally different from the picture . Very diss...       1   \n",
       "...           ...                                                ...     ...   \n",
       "139471     139471  👍👍👍much recommended bag...  Tha quality is awe...       5   \n",
       "114308     114308  Thanks yg sdh awaited come and secure Buy when...       5   \n",
       "112326     112326                     Well-packaged Will order again       5   \n",
       "126210     126210  Good quality primer Price was A good product p...       5   \n",
       "113224     113224  Received ready the item with safely very nice ...       5   \n",
       "\n",
       "                                                     text  \n",
       "7270    side shirt terjahit huufftt gmn qc ga yaa ko c...  \n",
       "860     could use gk adherents declined wlwpun already...  \n",
       "5390        message ok pretty good service store terrible  \n",
       "13418                                      delivery leads  \n",
       "5191               totally different picture dissapointed  \n",
       "...                                                   ...  \n",
       "139471           much recommended bag tha quality awesome  \n",
       "114308   thanks yg sdh awaited come secure buy promo suka  \n",
       "112326                                well packaged order  \n",
       "126210  good quality primer price good product pack pr...  \n",
       "113224  received ready item safely nice fast delivery ...  \n",
       "\n",
       "[209325 rows x 4 columns]"
      ]
     },
     "execution_count": 20,
     "metadata": {},
     "output_type": "execute_result"
    }
   ],
   "source": [
    "df_upsampled"
   ]
  },
  {
   "cell_type": "code",
   "execution_count": 21,
   "metadata": {},
   "outputs": [
    {
     "data": {
      "text/plain": [
       "<matplotlib.axes._subplots.AxesSubplot at 0x148dccf0288>"
      ]
     },
     "execution_count": 21,
     "metadata": {},
     "output_type": "execute_result"
    },
    {
     "data": {
      "image/png": "[encoded data removed]",
      "text/plain": [
       "<Figure size 432x288 with 1 Axes>"
      ]
     },
     "metadata": {
      "needs_background": "light"
     },
     "output_type": "display_data"
    }
   ],
   "source": [
    "df_upsampled.isnull().mean().sort_values(ascending=False).plot(kind='bar')"
   ]
  },
  {
   "cell_type": "code",
   "execution_count": 22,
   "metadata": {},
   "outputs": [],
   "source": [
    "df_upsampled.to_csv('data_upsampled.csv',index=False)"
   ]
  },
  {
   "cell_type": "code",
   "execution_count": 23,
   "metadata": {},
   "outputs": [
    {
     "name": "stdout",
     "output_type": "stream",
     "text": [
      "<class 'pandas.core.frame.DataFrame'>\n",
      "Int64Index: 209325 entries, 7270 to 113224\n",
      "Data columns (total 4 columns):\n",
      " #   Column     Non-Null Count   Dtype \n",
      "---  ------     --------------   ----- \n",
      " 0   review_id  209325 non-null  int64 \n",
      " 1   review     209325 non-null  object\n",
      " 2   rating     209325 non-null  int64 \n",
      " 3   text       209325 non-null  object\n",
      "dtypes: int64(2), object(2)\n",
      "memory usage: 8.0+ MB\n"
     ]
    }
   ],
   "source": [
    "df_upsampled.info()"
   ]
  },
  {
   "cell_type": "code",
   "execution_count": 24,
   "metadata": {
    "scrolled": true
   },
   "outputs": [
    {
     "data": {
      "text/html": [
       "<div>\n",
       "<style scoped>\n",
       "    .dataframe tbody tr th:only-of-type {\n",
       "        vertical-align: middle;\n",
       "    }\n",
       "\n",
       "    .dataframe tbody tr th {\n",
       "        vertical-align: top;\n",
       "    }\n",
       "\n",
       "    .dataframe thead th {\n",
       "        text-align: right;\n",
       "    }\n",
       "</style>\n",
       "<table border=\"1\" class=\"dataframe\">\n",
       "  <thead>\n",
       "    <tr style=\"text-align: right;\">\n",
       "      <th></th>\n",
       "      <th>review_id</th>\n",
       "      <th>review</th>\n",
       "      <th>rating</th>\n",
       "      <th>text</th>\n",
       "    </tr>\n",
       "  </thead>\n",
       "  <tbody>\n",
       "    <tr>\n",
       "      <th>0</th>\n",
       "      <td>7270</td>\n",
       "      <td>the side of the shirt there who do not terjahi...</td>\n",
       "      <td>1</td>\n",
       "      <td>side shirt terjahit huufftt gmn qc ga yaa ko c...</td>\n",
       "    </tr>\n",
       "    <tr>\n",
       "      <th>1</th>\n",
       "      <td>860</td>\n",
       "      <td>I could use ... GK adherents declined wlwpun a...</td>\n",
       "      <td>1</td>\n",
       "      <td>could use gk adherents declined wlwpun already...</td>\n",
       "    </tr>\n",
       "    <tr>\n",
       "      <th>2</th>\n",
       "      <td>5390</td>\n",
       "      <td>What message does Its ok pretty good, but the ...</td>\n",
       "      <td>1</td>\n",
       "      <td>message ok pretty good service store terrible</td>\n",
       "    </tr>\n",
       "    <tr>\n",
       "      <th>3</th>\n",
       "      <td>13418</td>\n",
       "      <td>No delivery Leads</td>\n",
       "      <td>1</td>\n",
       "      <td>delivery leads</td>\n",
       "    </tr>\n",
       "    <tr>\n",
       "      <th>4</th>\n",
       "      <td>5191</td>\n",
       "      <td>Totally different from the picture . Very diss...</td>\n",
       "      <td>1</td>\n",
       "      <td>totally different picture dissapointed</td>\n",
       "    </tr>\n",
       "    <tr>\n",
       "      <th>...</th>\n",
       "      <td>...</td>\n",
       "      <td>...</td>\n",
       "      <td>...</td>\n",
       "      <td>...</td>\n",
       "    </tr>\n",
       "    <tr>\n",
       "      <th>209320</th>\n",
       "      <td>139471</td>\n",
       "      <td>👍👍👍much recommended bag...  Tha quality is awe...</td>\n",
       "      <td>5</td>\n",
       "      <td>much recommended bag tha quality awesome</td>\n",
       "    </tr>\n",
       "    <tr>\n",
       "      <th>209321</th>\n",
       "      <td>114308</td>\n",
       "      <td>Thanks yg sdh awaited come and secure Buy when...</td>\n",
       "      <td>5</td>\n",
       "      <td>thanks yg sdh awaited come secure buy promo suka</td>\n",
       "    </tr>\n",
       "    <tr>\n",
       "      <th>209322</th>\n",
       "      <td>112326</td>\n",
       "      <td>Well-packaged Will order again</td>\n",
       "      <td>5</td>\n",
       "      <td>well packaged order</td>\n",
       "    </tr>\n",
       "    <tr>\n",
       "      <th>209323</th>\n",
       "      <td>126210</td>\n",
       "      <td>Good quality primer Price was A good product p...</td>\n",
       "      <td>5</td>\n",
       "      <td>good quality primer price good product pack pr...</td>\n",
       "    </tr>\n",
       "    <tr>\n",
       "      <th>209324</th>\n",
       "      <td>113224</td>\n",
       "      <td>Received ready the item with safely very nice ...</td>\n",
       "      <td>5</td>\n",
       "      <td>received ready item safely nice fast delivery ...</td>\n",
       "    </tr>\n",
       "  </tbody>\n",
       "</table>\n",
       "<p>209325 rows × 4 columns</p>\n",
       "</div>"
      ],
      "text/plain": [
       "        review_id                                             review  rating  \\\n",
       "0            7270  the side of the shirt there who do not terjahi...       1   \n",
       "1             860  I could use ... GK adherents declined wlwpun a...       1   \n",
       "2            5390  What message does Its ok pretty good, but the ...       1   \n",
       "3           13418                                  No delivery Leads       1   \n",
       "4            5191  Totally different from the picture . Very diss...       1   \n",
       "...           ...                                                ...     ...   \n",
       "209320     139471  👍👍👍much recommended bag...  Tha quality is awe...       5   \n",
       "209321     114308  Thanks yg sdh awaited come and secure Buy when...       5   \n",
       "209322     112326                     Well-packaged Will order again       5   \n",
       "209323     126210  Good quality primer Price was A good product p...       5   \n",
       "209324     113224  Received ready the item with safely very nice ...       5   \n",
       "\n",
       "                                                     text  \n",
       "0       side shirt terjahit huufftt gmn qc ga yaa ko c...  \n",
       "1       could use gk adherents declined wlwpun already...  \n",
       "2           message ok pretty good service store terrible  \n",
       "3                                          delivery leads  \n",
       "4                  totally different picture dissapointed  \n",
       "...                                                   ...  \n",
       "209320           much recommended bag tha quality awesome  \n",
       "209321   thanks yg sdh awaited come secure buy promo suka  \n",
       "209322                                well packaged order  \n",
       "209323  good quality primer price good product pack pr...  \n",
       "209324  received ready item safely nice fast delivery ...  \n",
       "\n",
       "[209325 rows x 4 columns]"
      ]
     },
     "execution_count": 24,
     "metadata": {},
     "output_type": "execute_result"
    }
   ],
   "source": [
    "df = pd.read_csv('data_upsampled.csv')\n",
    "df"
   ]
  },
  {
   "cell_type": "code",
   "execution_count": 25,
   "metadata": {},
   "outputs": [
    {
     "data": {
      "text/plain": [
       "<matplotlib.axes._subplots.AxesSubplot at 0x148dccfe248>"
      ]
     },
     "execution_count": 25,
     "metadata": {},
     "output_type": "execute_result"
    },
    {
     "data": {
      "image/png": "[encoded data removed]",
      "text/plain": [
       "<Figure size 432x288 with 1 Axes>"
      ]
     },
     "metadata": {
      "needs_background": "light"
     },
     "output_type": "display_data"
    }
   ],
   "source": [
    "df.isnull().mean().sort_values(ascending=False).plot(kind='bar')"
   ]
  },
  {
   "cell_type": "markdown",
   "metadata": {},
   "source": [
    "## Prepare dataset into train and test sets"
   ]
  },
  {
   "cell_type": "code",
   "execution_count": 26,
   "metadata": {},
   "outputs": [],
   "source": [
    "all_data  = df_upsampled.text\n",
    "all_label = df_upsampled.rating"
   ]
  },
  {
   "cell_type": "code",
   "execution_count": 27,
   "metadata": {},
   "outputs": [
    {
     "data": {
      "text/plain": [
       "209325"
      ]
     },
     "execution_count": 27,
     "metadata": {},
     "output_type": "execute_result"
    }
   ],
   "source": [
    "len(all_data)"
   ]
  },
  {
   "cell_type": "code",
   "execution_count": 28,
   "metadata": {},
   "outputs": [
    {
     "data": {
      "text/plain": [
       "209325"
      ]
     },
     "execution_count": 28,
     "metadata": {},
     "output_type": "execute_result"
    }
   ],
   "source": [
    "len(all_label)"
   ]
  },
  {
   "cell_type": "markdown",
   "metadata": {},
   "source": [
    "### Using train test split "
   ]
  },
  {
   "cell_type": "code",
   "execution_count": 29,
   "metadata": {},
   "outputs": [],
   "source": [
    "X_train, X_test, Y_train, Y_test = train_test_split(all_data, all_label, test_size=0.10, random_state=42,shuffle=True)"
   ]
  },
  {
   "cell_type": "code",
   "execution_count": 30,
   "metadata": {},
   "outputs": [
    {
     "data": {
      "text/plain": [
       "188392"
      ]
     },
     "execution_count": 30,
     "metadata": {},
     "output_type": "execute_result"
    }
   ],
   "source": [
    "len(X_train)"
   ]
  },
  {
   "cell_type": "code",
   "execution_count": 31,
   "metadata": {},
   "outputs": [
    {
     "data": {
      "text/plain": [
       "20933"
      ]
     },
     "execution_count": 31,
     "metadata": {},
     "output_type": "execute_result"
    }
   ],
   "source": [
    "len(X_test)"
   ]
  },
  {
   "cell_type": "markdown",
   "metadata": {},
   "source": [
    "## Vectorise"
   ]
  },
  {
   "cell_type": "markdown",
   "metadata": {},
   "source": [
    "- Vectorizer the sentences using Tfidf vale\n",
    "- Make sure test data should be transformed using vectorizer learned from trainning data "
   ]
  },
  {
   "cell_type": "code",
   "execution_count": 32,
   "metadata": {},
   "outputs": [
    {
     "data": {
      "text/plain": [
       "(188392, 3682712)"
      ]
     },
     "execution_count": 32,
     "metadata": {},
     "output_type": "execute_result"
    }
   ],
   "source": [
    "vectorizer = TfidfVectorizer(stop_words=u'english',ngram_range=(1,10),lowercase=True)\n",
    "train_vectors = vectorizer.fit_transform(X_train)\n",
    "test_vectors = vectorizer.transform(X_test)\n",
    "\n",
    "# same feature set\n",
    "train_vectors.shape"
   ]
  },
  {
   "cell_type": "code",
   "execution_count": 33,
   "metadata": {},
   "outputs": [
    {
     "data": {
      "text/plain": [
       "(20933, 3682712)"
      ]
     },
     "execution_count": 33,
     "metadata": {},
     "output_type": "execute_result"
    }
   ],
   "source": [
    "test_vectors.shape"
   ]
  },
  {
   "cell_type": "code",
   "execution_count": 34,
   "metadata": {},
   "outputs": [
    {
     "name": "stdout",
     "output_type": "stream",
     "text": [
      "['𝚠𝚛𝚊𝚙 𝙿𝚊𝚐𝚒 𝚙𝚎𝚜𝚊𝚗 𝚜𝚒𝚊𝚗𝚐 𝚕𝚐𝚜 𝚍𝚒𝚔𝚒𝚛𝚒𝚖 𝚜𝚊𝚋𝚝𝚞 𝚙𝚎𝚜𝚊𝚗 𝚑𝚊𝚛𝚒 𝚜𝚎𝚗𝚒𝚗', 'karana cepet usual']\n"
     ]
    }
   ],
   "source": [
    "indices = np.argsort(vectorizer.idf_)[::-1]\n",
    "features = vectorizer.get_feature_names()\n",
    "top_n = 2\n",
    "top_features = [features[i] for i in indices[:top_n]]\n",
    "print(top_features)"
   ]
  },
  {
   "cell_type": "code",
   "execution_count": 35,
   "metadata": {},
   "outputs": [],
   "source": [
    "import pickle\n",
    "# Dump the file\n",
    "pickle.dump(train_vectors, open(\"tfidf_train_vectors.pkl\", \"wb\"))\n",
    "pickle.dump(vectorizer, open(\"tfidf_train_vectorizer.pkl\", \"wb\"))"
   ]
  },
  {
   "cell_type": "code",
   "execution_count": 36,
   "metadata": {},
   "outputs": [
    {
     "data": {
      "text/plain": [
       "3682712"
      ]
     },
     "execution_count": 36,
     "metadata": {},
     "output_type": "execute_result"
    }
   ],
   "source": [
    "len(indices)"
   ]
  },
  {
   "cell_type": "code",
   "execution_count": null,
   "metadata": {},
   "outputs": [],
   "source": [
    "features"
   ]
  },
  {
   "cell_type": "markdown",
   "metadata": {},
   "source": [
    "## Applying different Machine learning model"
   ]
  },
  {
   "cell_type": "markdown",
   "metadata": {},
   "source": [
    "### Define Functions"
   ]
  },
  {
   "cell_type": "code",
   "execution_count": 37,
   "metadata": {},
   "outputs": [],
   "source": [
    "from sklearn.model_selection import KFold   #For K-fold cross validation\n",
    "from sklearn import metrics \n",
    "from sklearn.metrics import f1_score\n",
    "from sklearn.model_selection import cross_val_score\n",
    "from sklearn.metrics import roc_curve, auc\n",
    "from sklearn.metrics import classification_report\n",
    "from sklearn.model_selection import GridSearchCV\n",
    "\n",
    "def compute_score(clf, X, y, scoring='accuracy'):\n",
    "    xval = cross_val_score(clf, X, y, cv = 5, scoring=scoring)\n",
    "    return np.mean(xval)\n",
    "\n",
    "def classification_model(model, X_train, y_train, X_test, y_test):\n",
    "  #Fit the model:\n",
    "  \n",
    "  model.fit(X_train,y_train)\n",
    "\n",
    "  print(\"Accuracy on training set: {:.3f}\".format(model.score(X_train, y_train)))\n",
    "  print(\"Accuracy on test set: {:.3f}\".format(model.score(X_test, y_test)))  \n",
    "    \n",
    "  #Make predictions on training set:\n",
    "  predictions = model.predict(X_test)\n",
    "     \n",
    "  # Get performance metrics\n",
    "  cm = confusion_matrix(y_test,predictions)\n",
    "  print(metrics.classification_report(y_test,predictions))\n",
    "  score = compute_score(clf=model, X=X_test, y=y_test, scoring='accuracy')\n",
    "  r2_score = metrics.r2_score(y_test,predictions)\n",
    "  \n",
    "  # Print performance metrics\n",
    "\n",
    "  print ('*************************************************************')\n",
    "  print ('Metric Performance of : {0}\\n'.format(model.__class__))\n",
    "  print('Confusion Matrix : \\n', cm)\n",
    "  print ('Cross Validation Score = {0:.3%}\\n'.format(score))\n",
    "  print (\"Coefficient of determination:{0:.3f}\".format(r2_score))\n",
    "   \n",
    "  #Fit the model again so that it can be refered outside the function:\n",
    "  model.fit(X_train,y_train)\n",
    "\n",
    "def svc_param_selection(X, y, nfolds):\n",
    "    Cs = [0.001, 0.01, 0.1, 1, 10]\n",
    "    gammas = [0.001, 0.01, 0.1, 1]\n",
    "    param_grid = {'C': Cs, 'gamma' : gammas}\n",
    "    grid_search = GridSearchCV(SVC(kernel='rbf'), param_grid, cv=nfolds)\n",
    "    grid_search.fit(X, y)\n",
    "    grid_search.best_params_\n",
    "    return grid_search.best_params_\n",
    "\n"
   ]
  },
  {
   "cell_type": "markdown",
   "metadata": {},
   "source": [
    "### Apply NB mode"
   ]
  },
  {
   "cell_type": "code",
   "execution_count": 38,
   "metadata": {},
   "outputs": [
    {
     "name": "stdout",
     "output_type": "stream",
     "text": [
      "[[3850  116  153   20   40]\n",
      " [ 114 3786  119   31   42]\n",
      " [ 200  387 3156  193  250]\n",
      " [ 224  328  603 1408 1599]\n",
      " [  92  158  375  876 2813]]\n",
      "              precision    recall  f1-score   support\n",
      "\n",
      "           1       0.86      0.92      0.89      4179\n",
      "           2       0.79      0.93      0.85      4092\n",
      "           3       0.72      0.75      0.73      4186\n",
      "           4       0.56      0.34      0.42      4162\n",
      "           5       0.59      0.65      0.62      4314\n",
      "\n",
      "    accuracy                           0.72     20933\n",
      "   macro avg       0.70      0.72      0.70     20933\n",
      "weighted avg       0.70      0.72      0.70     20933\n",
      "\n"
     ]
    }
   ],
   "source": [
    "clf_NB = MultinomialNB().fit(train_vectors, Y_train)\n",
    "predNB = clf_NB.predict(test_vectors)\n",
    "pred = list(predNB)\n",
    "\n",
    "print(metrics.confusion_matrix(Y_test, pred))\n",
    "print(metrics.classification_report(Y_test, pred))"
   ]
  },
  {
   "cell_type": "markdown",
   "metadata": {},
   "source": [
    "### MaxEnt = LogisticRegression"
   ]
  },
  {
   "cell_type": "code",
   "execution_count": 39,
   "metadata": {
    "scrolled": true
   },
   "outputs": [
    {
     "name": "stdout",
     "output_type": "stream",
     "text": [
      "[[3749  177  110  107   36]\n",
      " [ 333 3379  167  150   63]\n",
      " [ 368  418 2646  486  268]\n",
      " [ 261  198  555 1699 1449]\n",
      " [ 196  156  437 1123 2402]]\n",
      "              precision    recall  f1-score   support\n",
      "\n",
      "           1       0.76      0.90      0.83      4179\n",
      "           2       0.78      0.83      0.80      4092\n",
      "           3       0.68      0.63      0.65      4186\n",
      "           4       0.48      0.41      0.44      4162\n",
      "           5       0.57      0.56      0.56      4314\n",
      "\n",
      "    accuracy                           0.66     20933\n",
      "   macro avg       0.65      0.66      0.66     20933\n",
      "weighted avg       0.65      0.66      0.66     20933\n",
      "\n"
     ]
    }
   ],
   "source": [
    "clf_ME = LogisticRegression(random_state=0, solver='lbfgs').fit(train_vectors, Y_train)\n",
    "predME = clf_ME.predict(test_vectors)\n",
    "pred = list(predME)\n",
    "print(metrics.confusion_matrix(Y_test, pred))\n",
    "print(metrics.classification_report(Y_test, pred))"
   ]
  },
  {
   "cell_type": "markdown",
   "metadata": {},
   "source": [
    "### KNN Classifier"
   ]
  },
  {
   "cell_type": "code",
   "execution_count": 40,
   "metadata": {},
   "outputs": [],
   "source": [
    "def train_knn(X, y, k, weight):\n",
    "    \"\"\"\n",
    "    Create and train the k-nearest neighbor.\n",
    "    \"\"\"\n",
    "    knn = KNeighborsClassifier(n_neighbors = k, weights = weight, metric = 'cosine', algorithm = 'brute')\n",
    "    knn.fit(X, y)\n",
    "    return knn"
   ]
  },
  {
   "cell_type": "code",
   "execution_count": 41,
   "metadata": {
    "scrolled": true
   },
   "outputs": [
    {
     "name": "stdout",
     "output_type": "stream",
     "text": [
      "[[3980  116   40   22   21]\n",
      " [  87 3894   61   28   22]\n",
      " [ 266  314 3166  244  196]\n",
      " [ 418  366  587 1568 1223]\n",
      " [ 156  180  323 1089 2566]]\n",
      "              precision    recall  f1-score   support\n",
      "\n",
      "           1       0.81      0.95      0.88      4179\n",
      "           2       0.80      0.95      0.87      4092\n",
      "           3       0.76      0.76      0.76      4186\n",
      "           4       0.53      0.38      0.44      4162\n",
      "           5       0.64      0.59      0.62      4314\n",
      "\n",
      "    accuracy                           0.72     20933\n",
      "   macro avg       0.71      0.73      0.71     20933\n",
      "weighted avg       0.71      0.72      0.71     20933\n",
      "\n"
     ]
    }
   ],
   "source": [
    "kn = train_knn(train_vectors, Y_train, 20, 'distance') # distance weights - by inverse of distance\n",
    "predKN = kn.predict(test_vectors)\n",
    "pred = list(predKN)\n",
    "print(metrics.confusion_matrix(Y_test, pred))\n",
    "print(metrics.classification_report(Y_test, pred))"
   ]
  },
  {
   "cell_type": "code",
   "execution_count": 1,
   "metadata": {},
   "outputs": [],
   "source": [
    "filename = 'finalized_KNN_model.sav'\n",
    "#pickle.dump(kn, open(filename, 'wb'))"
   ]
  },
  {
   "cell_type": "code",
   "execution_count": null,
   "metadata": {},
   "outputs": [],
   "source": [
    "loaded_model = pickle.load(open(filename, 'rb'))\n",
    "result = loaded_model.score(test_vectors, Y_test)  \n",
    "print(result)"
   ]
  },
  {
   "cell_type": "code",
   "execution_count": 9,
   "metadata": {},
   "outputs": [],
   "source": [
    "train_vectors = pickle.load(open(\"tfidf_train_vectors.pkl\", \"rb\"))\n",
    "vectorizer = pickle.load(open(\"tfidf_train_vectorizer.pkl\", \"rb\"))"
   ]
  },
  {
   "cell_type": "markdown",
   "metadata": {},
   "source": [
    "### Apply SVM model"
   ]
  },
  {
   "cell_type": "code",
   "execution_count": 43,
   "metadata": {},
   "outputs": [],
   "source": [
    "from sklearn import svm\n",
    "from sklearn.svm import SVC"
   ]
  },
  {
   "cell_type": "code",
   "execution_count": null,
   "metadata": {},
   "outputs": [
    {
     "name": "stdout",
     "output_type": "stream",
     "text": [
      "[LibSVM]"
     ]
    }
   ],
   "source": [
    "svm_model = SVC(C=1000, cache_size=200, class_weight=None, coef0=0.0,\n",
    "            decision_function_shape='ovo', degree=3, gamma=3, kernel='rbf',\n",
    "            max_iter=-1, probability=True, random_state=None, shrinking=True,\n",
    "            tol=0.001, verbose=True)\n",
    "svm_model = svm_model.fit(train_vectors, Y_train)"
   ]
  },
  {
   "cell_type": "code",
   "execution_count": null,
   "metadata": {},
   "outputs": [],
   "source": [
    "predicted = svm_model.predict(test_vectors)"
   ]
  },
  {
   "cell_type": "code",
   "execution_count": null,
   "metadata": {},
   "outputs": [],
   "source": [
    "print(metrics.confusion_matrix(Y_test, predicted))\n",
    "print(np.mean(predicted == Y_test) )\n",
    "print(metrics.classification_report(Y_test, predicted))"
   ]
  },
  {
   "cell_type": "code",
   "execution_count": null,
   "metadata": {},
   "outputs": [],
   "source": [
    "filename = 'finalized_SVM_model.sav'\n",
    "pickle.dump(svm_model, open(filename, 'wb'))"
   ]
  },
  {
   "cell_type": "code",
   "execution_count": null,
   "metadata": {},
   "outputs": [],
   "source": [
    "loaded_model = pickle.load(open(filename, 'rb'))\n",
    "result = loaded_model.score(test_vectors, Y_test)  \n",
    "print(result)"
   ]
  },
  {
   "cell_type": "markdown",
   "metadata": {},
   "source": [
    "## Predict Test data"
   ]
  },
  {
   "cell_type": "code",
   "execution_count": 10,
   "metadata": {
    "scrolled": true
   },
   "outputs": [
    {
     "data": {
      "text/html": [
       "<div>\n",
       "<style scoped>\n",
       "    .dataframe tbody tr th:only-of-type {\n",
       "        vertical-align: middle;\n",
       "    }\n",
       "\n",
       "    .dataframe tbody tr th {\n",
       "        vertical-align: top;\n",
       "    }\n",
       "\n",
       "    .dataframe thead th {\n",
       "        text-align: right;\n",
       "    }\n",
       "</style>\n",
       "<table border=\"1\" class=\"dataframe\">\n",
       "  <thead>\n",
       "    <tr style=\"text-align: right;\">\n",
       "      <th></th>\n",
       "      <th>review_id</th>\n",
       "      <th>review</th>\n",
       "      <th>rating</th>\n",
       "    </tr>\n",
       "  </thead>\n",
       "  <tbody>\n",
       "    <tr>\n",
       "      <th>0</th>\n",
       "      <td>1</td>\n",
       "      <td>Great danger, cool, motif and cantik2 jg model...</td>\n",
       "      <td>--</td>\n",
       "    </tr>\n",
       "    <tr>\n",
       "      <th>1</th>\n",
       "      <td>2</td>\n",
       "      <td>One of the shades don't fit well</td>\n",
       "      <td>--</td>\n",
       "    </tr>\n",
       "    <tr>\n",
       "      <th>2</th>\n",
       "      <td>3</td>\n",
       "      <td>Very comfortable</td>\n",
       "      <td>--</td>\n",
       "    </tr>\n",
       "    <tr>\n",
       "      <th>3</th>\n",
       "      <td>4</td>\n",
       "      <td>Fast delivery. Product expiry is on Dec 2022. ...</td>\n",
       "      <td>--</td>\n",
       "    </tr>\n",
       "    <tr>\n",
       "      <th>4</th>\n",
       "      <td>5</td>\n",
       "      <td>it's sooooo cute! i like playing with the glit...</td>\n",
       "      <td>--</td>\n",
       "    </tr>\n",
       "    <tr>\n",
       "      <th>...</th>\n",
       "      <td>...</td>\n",
       "      <td>...</td>\n",
       "      <td>...</td>\n",
       "    </tr>\n",
       "    <tr>\n",
       "      <th>60422</th>\n",
       "      <td>60423</td>\n",
       "      <td>Product has been succesfully ordered and shipp...</td>\n",
       "      <td>--</td>\n",
       "    </tr>\n",
       "    <tr>\n",
       "      <th>60423</th>\n",
       "      <td>60424</td>\n",
       "      <td>Opening time a little scared. Fear dalemnya de...</td>\n",
       "      <td>--</td>\n",
       "    </tr>\n",
       "    <tr>\n",
       "      <th>60424</th>\n",
       "      <td>60425</td>\n",
       "      <td>The product quality is excellent. The origina...</td>\n",
       "      <td>--</td>\n",
       "    </tr>\n",
       "    <tr>\n",
       "      <th>60425</th>\n",
       "      <td>60426</td>\n",
       "      <td>They 're holding up REALLY well also .</td>\n",
       "      <td>--</td>\n",
       "    </tr>\n",
       "    <tr>\n",
       "      <th>60426</th>\n",
       "      <td>60427</td>\n",
       "      <td>Rapid response and detail ...\\nThanks gan, the...</td>\n",
       "      <td>--</td>\n",
       "    </tr>\n",
       "  </tbody>\n",
       "</table>\n",
       "<p>60427 rows × 3 columns</p>\n",
       "</div>"
      ],
      "text/plain": [
       "       review_id                                             review rating\n",
       "0              1  Great danger, cool, motif and cantik2 jg model...     --\n",
       "1              2                   One of the shades don't fit well     --\n",
       "2              3                                   Very comfortable     --\n",
       "3              4  Fast delivery. Product expiry is on Dec 2022. ...     --\n",
       "4              5  it's sooooo cute! i like playing with the glit...     --\n",
       "...          ...                                                ...    ...\n",
       "60422      60423  Product has been succesfully ordered and shipp...     --\n",
       "60423      60424  Opening time a little scared. Fear dalemnya de...     --\n",
       "60424      60425   The product quality is excellent. The origina...     --\n",
       "60425      60426             They 're holding up REALLY well also .     --\n",
       "60426      60427  Rapid response and detail ...\\nThanks gan, the...     --\n",
       "\n",
       "[60427 rows x 3 columns]"
      ]
     },
     "execution_count": 10,
     "metadata": {},
     "output_type": "execute_result"
    }
   ],
   "source": [
    "#Read the csv file \n",
    "test_df = pd.read_csv('data/test.csv')\n",
    "test_df['rating']='--'\n",
    "test_df"
   ]
  },
  {
   "cell_type": "code",
   "execution_count": 11,
   "metadata": {},
   "outputs": [],
   "source": [
    "test_df['text'] = test_df.review.apply(pre_process)"
   ]
  },
  {
   "cell_type": "code",
   "execution_count": 12,
   "metadata": {},
   "outputs": [],
   "source": [
    "filename = 'finalized_KNN_model.sav'\n",
    "\n",
    "knn_model = pickle.load(open(filename, 'rb'))"
   ]
  },
  {
   "cell_type": "code",
   "execution_count": 13,
   "metadata": {
    "scrolled": true
   },
   "outputs": [
    {
     "name": "stdout",
     "output_type": "stream",
     "text": [
      "batch: 1\n",
      "batch: 1001\n",
      "batch: 2001\n",
      "batch: 3001\n",
      "batch: 4001\n",
      "batch: 5001\n",
      "batch: 6001\n",
      "batch: 7001\n",
      "batch: 8001\n",
      "batch: 9001\n",
      "batch: 10001\n",
      "batch: 11001\n",
      "batch: 12001\n",
      "batch: 13001\n",
      "batch: 14001\n",
      "batch: 15001\n",
      "batch: 16001\n",
      "batch: 17001\n",
      "batch: 18001\n",
      "batch: 19001\n",
      "batch: 20001\n",
      "batch: 21001\n",
      "batch: 22001\n",
      "batch: 23001\n",
      "batch: 24001\n",
      "batch: 25001\n",
      "batch: 26001\n",
      "batch: 27001\n",
      "batch: 28001\n",
      "batch: 29001\n",
      "batch: 30001\n",
      "batch: 31001\n",
      "batch: 32001\n",
      "batch: 33001\n",
      "batch: 34001\n",
      "batch: 35001\n",
      "batch: 36001\n",
      "batch: 37001\n",
      "batch: 38001\n",
      "batch: 39001\n",
      "batch: 40001\n",
      "batch: 41001\n",
      "batch: 42001\n",
      "batch: 43001\n",
      "batch: 44001\n",
      "batch: 45001\n",
      "batch: 46001\n",
      "batch: 47001\n",
      "batch: 48001\n",
      "batch: 49001\n",
      "batch: 50001\n",
      "batch: 51001\n",
      "batch: 52001\n",
      "batch: 53001\n",
      "batch: 54001\n",
      "batch: 55001\n",
      "batch: 56001\n",
      "batch: 57001\n",
      "batch: 58001\n",
      "batch: 59001\n",
      "batch: 60001\n"
     ]
    }
   ],
   "source": [
    "for i in range (len(test_df)):\n",
    "    if i%1000==0:\n",
    "        print('batch:',i+1)\n",
    "    \n",
    "    # Read in test text and vectorised it\n",
    "    text_vectors = vectorizer.transform([test_df.text[i]])\n",
    "    \n",
    "    # Predict category\n",
    "    preds = knn_model.predict(text_vectors)\n",
    "    test_df['rating'][i] = preds[0]"
   ]
  },
  {
   "cell_type": "code",
   "execution_count": 14,
   "metadata": {
    "scrolled": true
   },
   "outputs": [],
   "source": [
    "test_df = test_df.drop(['review','text'], axis=1)\n"
   ]
  },
  {
   "cell_type": "code",
   "execution_count": 15,
   "metadata": {},
   "outputs": [],
   "source": [
    "test_df = test_df[['review_id','rating']]"
   ]
  },
  {
   "cell_type": "code",
   "execution_count": 16,
   "metadata": {},
   "outputs": [
    {
     "data": {
      "text/html": [
       "<div>\n",
       "<style scoped>\n",
       "    .dataframe tbody tr th:only-of-type {\n",
       "        vertical-align: middle;\n",
       "    }\n",
       "\n",
       "    .dataframe tbody tr th {\n",
       "        vertical-align: top;\n",
       "    }\n",
       "\n",
       "    .dataframe thead th {\n",
       "        text-align: right;\n",
       "    }\n",
       "</style>\n",
       "<table border=\"1\" class=\"dataframe\">\n",
       "  <thead>\n",
       "    <tr style=\"text-align: right;\">\n",
       "      <th></th>\n",
       "      <th>review_id</th>\n",
       "      <th>rating</th>\n",
       "    </tr>\n",
       "  </thead>\n",
       "  <tbody>\n",
       "    <tr>\n",
       "      <th>0</th>\n",
       "      <td>1</td>\n",
       "      <td>2</td>\n",
       "    </tr>\n",
       "    <tr>\n",
       "      <th>1</th>\n",
       "      <td>2</td>\n",
       "      <td>2</td>\n",
       "    </tr>\n",
       "    <tr>\n",
       "      <th>2</th>\n",
       "      <td>3</td>\n",
       "      <td>4</td>\n",
       "    </tr>\n",
       "    <tr>\n",
       "      <th>3</th>\n",
       "      <td>4</td>\n",
       "      <td>1</td>\n",
       "    </tr>\n",
       "    <tr>\n",
       "      <th>4</th>\n",
       "      <td>5</td>\n",
       "      <td>5</td>\n",
       "    </tr>\n",
       "    <tr>\n",
       "      <th>...</th>\n",
       "      <td>...</td>\n",
       "      <td>...</td>\n",
       "    </tr>\n",
       "    <tr>\n",
       "      <th>60422</th>\n",
       "      <td>60423</td>\n",
       "      <td>3</td>\n",
       "    </tr>\n",
       "    <tr>\n",
       "      <th>60423</th>\n",
       "      <td>60424</td>\n",
       "      <td>1</td>\n",
       "    </tr>\n",
       "    <tr>\n",
       "      <th>60424</th>\n",
       "      <td>60425</td>\n",
       "      <td>4</td>\n",
       "    </tr>\n",
       "    <tr>\n",
       "      <th>60425</th>\n",
       "      <td>60426</td>\n",
       "      <td>5</td>\n",
       "    </tr>\n",
       "    <tr>\n",
       "      <th>60426</th>\n",
       "      <td>60427</td>\n",
       "      <td>5</td>\n",
       "    </tr>\n",
       "  </tbody>\n",
       "</table>\n",
       "<p>60427 rows × 2 columns</p>\n",
       "</div>"
      ],
      "text/plain": [
       "       review_id rating\n",
       "0              1      2\n",
       "1              2      2\n",
       "2              3      4\n",
       "3              4      1\n",
       "4              5      5\n",
       "...          ...    ...\n",
       "60422      60423      3\n",
       "60423      60424      1\n",
       "60424      60425      4\n",
       "60425      60426      5\n",
       "60426      60427      5\n",
       "\n",
       "[60427 rows x 2 columns]"
      ]
     },
     "execution_count": 16,
     "metadata": {},
     "output_type": "execute_result"
    }
   ],
   "source": [
    "test_df"
   ]
  },
  {
   "cell_type": "markdown",
   "metadata": {},
   "source": [
    "## Save Predictions for Submission"
   ]
  },
  {
   "cell_type": "code",
   "execution_count": 17,
   "metadata": {},
   "outputs": [],
   "source": [
    "test_df.to_csv('KNN2-submission.csv', index=False)"
   ]
  },
  {
   "cell_type": "code",
   "execution_count": null,
   "metadata": {},
   "outputs": [],
   "source": []
  }
 ],
 "metadata": {
  "kernelspec": {
   "display_name": "Python 3",
   "language": "python",
   "name": "python3"
  },
  "language_info": {
   "codemirror_mode": {
    "name": "ipython",
    "version": 3
   },
   "file_extension": ".py",
   "mimetype": "text/x-python",
   "name": "python",
   "nbconvert_exporter": "python",
   "pygments_lexer": "ipython3",
   "version": "3.7.6"
  }
 },
 "nbformat": 4,
 "nbformat_minor": 4
}
