{
 "cells": [
  {
   "cell_type": "markdown",
   "metadata": {},
   "source": [
    "<h1><center>Shopee : Marketing Analysis</center><h1>"
   ]
  },
  {
   "cell_type": "markdown",
   "metadata": {},
   "source": [
    "## Project Team – Over30\n",
    "- Donal Ngo         \n",
    "- Lee Seng            \n",
    "- Teerapong        \n",
    "- Wilson Lum Kok Keong   \n",
    "<br><br>"
   ]
  },
  {
   "cell_type": "code",
   "execution_count": 1,
   "metadata": {},
   "outputs": [],
   "source": [
    "# Voting Ensemble for Classification\n",
    "\n",
    "from sklearn.model_selection import KFold\n",
    "from sklearn.ensemble import VotingClassifier\n",
    "from sklearn.model_selection import cross_val_score\n",
    "import pickle\n",
    "import pandas as pd"
   ]
  },
  {
   "cell_type": "code",
   "execution_count": 2,
   "metadata": {},
   "outputs": [],
   "source": [
    "# import warnings filter\n",
    "from warnings import simplefilter\n",
    "import warnings\n",
    "from sklearn.exceptions import DataConversionWarning\n",
    "\n",
    "# ignore all future warnings\n",
    "simplefilter(action='ignore', category=FutureWarning)\n",
    "\n",
    "# ignore all DataConversionWarning warnings\n",
    "warnings.filterwarnings(action='ignore', category=DataConversionWarning)"
   ]
  },
  {
   "cell_type": "code",
   "execution_count": 3,
   "metadata": {},
   "outputs": [],
   "source": [
    "xls    = pd.ExcelFile('data/X_val_scaled_dataset2.xlsx')\n",
    "X_val = pd.read_excel(xls, 'X_val_scaled')\n",
    "y_val = pd.read_excel(xls, 'y_val')\n",
    "\n",
    "dataset_test = X_val\n",
    "dataset_test['open_flag'] = y_val['open_flag']\n",
    "\n",
    "X_val = X_val.drop(['open_flag'],axis=1)"
   ]
  },
  {
   "cell_type": "code",
   "execution_count": 7,
   "metadata": {},
   "outputs": [],
   "source": [
    "seed = 18\n",
    "kfold = KFold(n_splits=8, random_state=seed)\n",
    "\n",
    "# create the sub models\n",
    "estimators = []\n",
    "\n",
    "model1 = pickle.load( open( \"model/Random_Forest_trained_model_dataset2.p\", \"rb\" ) )\n",
    "estimators.append(('RandomFoest', model1))\n",
    "\n",
    "model2 = pickle.load( open( \"model/Gradient_Boosting_Classifier_trained_model_dataset2.p\", \"rb\" ) )\n",
    "estimators.append(('GradientBoost', model2))\n",
    "\n",
    "model3 = pickle.load( open( \"model/KNN_trained_model_dataset2.p\", \"rb\" ) )\n",
    "estimators.append(('knn', model3))\n",
    "\n",
    "#model4 = pickle.load( open( \"model/SVM_trained_model_dataset2.p\", \"rb\" ) )\n",
    "#estimators.append(('svm', model4))\n"
   ]
  },
  {
   "cell_type": "code",
   "execution_count": 8,
   "metadata": {
    "scrolled": true
   },
   "outputs": [
    {
     "name": "stdout",
     "output_type": "stream",
     "text": [
      "0.8348171570579626\n"
     ]
    }
   ],
   "source": [
    "# create the ensemble model\n",
    "ensemble = VotingClassifier(estimators, voting='soft')\n",
    "\n",
    "results = cross_val_score(ensemble, X_val, y_val, cv=kfold)\n",
    "print(results.mean())"
   ]
  },
  {
   "cell_type": "code",
   "execution_count": 9,
   "metadata": {},
   "outputs": [],
   "source": [
    "xls1    = pd.ExcelFile('data/X_train_scaled_dataset2.xlsx')\n",
    "X_train = pd.read_excel(xls1, 'X_train_scaled')\n",
    "y_train = pd.read_excel(xls1, 'y_train')"
   ]
  },
  {
   "cell_type": "code",
   "execution_count": 10,
   "metadata": {},
   "outputs": [
    {
     "data": {
      "text/plain": [
       "(100086, 34)"
      ]
     },
     "execution_count": 10,
     "metadata": {},
     "output_type": "execute_result"
    }
   ],
   "source": [
    "X_train.shape"
   ]
  },
  {
   "cell_type": "code",
   "execution_count": 11,
   "metadata": {},
   "outputs": [],
   "source": [
    "ensemble = ensemble.fit(X_train,y_train)"
   ]
  },
  {
   "cell_type": "code",
   "execution_count": 12,
   "metadata": {},
   "outputs": [],
   "source": [
    "# We can save the trained model clf using pickle \n",
    "s = pickle.dumps(ensemble)\n",
    "pickle.dump( ensemble, open( \"model/Ensemble_Soft_model_dataset2.p\", \"wb\" ) )"
   ]
  },
  {
   "cell_type": "code",
   "execution_count": null,
   "metadata": {},
   "outputs": [],
   "source": []
  }
 ],
 "metadata": {
  "kernelspec": {
   "display_name": "Python 3",
   "language": "python",
   "name": "python3"
  },
  "language_info": {
   "codemirror_mode": {
    "name": "ipython",
    "version": 3
   },
   "file_extension": ".py",
   "mimetype": "text/x-python",
   "name": "python",
   "nbconvert_exporter": "python",
   "pygments_lexer": "ipython3",
   "version": "3.7.6"
  }
 },
 "nbformat": 4,
 "nbformat_minor": 2
}
