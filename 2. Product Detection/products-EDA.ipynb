{
 "cells": [
  {
   "cell_type": "code",
   "execution_count": 53,
   "metadata": {},
   "outputs": [],
   "source": [
    "import pandas as pd\n",
    "import seaborn as sns\n",
    "\n",
    "pd.set_option('display.max_rows', 500)\n",
    "pd.set_option('display.max_columns', 500)\n",
    "pd.set_option('display.width', 1000)\n"
   ]
  },
  {
   "cell_type": "code",
   "execution_count": 46,
   "metadata": {},
   "outputs": [
    {
     "data": {
      "text/html": [
       "<div>\n",
       "<style scoped>\n",
       "    .dataframe tbody tr th:only-of-type {\n",
       "        vertical-align: middle;\n",
       "    }\n",
       "\n",
       "    .dataframe tbody tr th {\n",
       "        vertical-align: top;\n",
       "    }\n",
       "\n",
       "    .dataframe thead th {\n",
       "        text-align: right;\n",
       "    }\n",
       "</style>\n",
       "<table border=\"1\" class=\"dataframe\">\n",
       "  <thead>\n",
       "    <tr style=\"text-align: right;\">\n",
       "      <th></th>\n",
       "      <th>filename</th>\n",
       "    </tr>\n",
       "  </thead>\n",
       "  <tbody>\n",
       "    <tr>\n",
       "      <th>0</th>\n",
       "      <td>train/</td>\n",
       "    </tr>\n",
       "    <tr>\n",
       "      <th>1</th>\n",
       "      <td>train/train</td>\n",
       "    </tr>\n",
       "    <tr>\n",
       "      <th>2</th>\n",
       "      <td>train/train/35</td>\n",
       "    </tr>\n",
       "    <tr>\n",
       "      <th>3</th>\n",
       "      <td>train/train/35/295746bc5ba46358362ccc0fc897c27...</td>\n",
       "    </tr>\n",
       "    <tr>\n",
       "      <th>4</th>\n",
       "      <td>train/train/35/6421b56dff49cca37be44d677d481c1...</td>\n",
       "    </tr>\n",
       "    <tr>\n",
       "      <th>...</th>\n",
       "      <td>...</td>\n",
       "    </tr>\n",
       "    <tr>\n",
       "      <th>105438</th>\n",
       "      <td>train/train/39/7c611ca72cd28cbc0c45503e6dc62d0...</td>\n",
       "    </tr>\n",
       "    <tr>\n",
       "      <th>105439</th>\n",
       "      <td>train/train/39/42657696d1cbdd6f8b38b086cd7179c...</td>\n",
       "    </tr>\n",
       "    <tr>\n",
       "      <th>105440</th>\n",
       "      <td>train/train/39/9b5565fffee030373b51aace766dd65...</td>\n",
       "    </tr>\n",
       "    <tr>\n",
       "      <th>105441</th>\n",
       "      <td>train/train/39/602f13fd1456877abe7f785de6b60be...</td>\n",
       "    </tr>\n",
       "    <tr>\n",
       "      <th>105442</th>\n",
       "      <td>train/train.csv</td>\n",
       "    </tr>\n",
       "  </tbody>\n",
       "</table>\n",
       "<p>105443 rows × 1 columns</p>\n",
       "</div>"
      ],
      "text/plain": [
       "                                                 filename\n",
       "0                                                  train/\n",
       "1                                             train/train\n",
       "2                                          train/train/35\n",
       "3       train/train/35/295746bc5ba46358362ccc0fc897c27...\n",
       "4       train/train/35/6421b56dff49cca37be44d677d481c1...\n",
       "...                                                   ...\n",
       "105438  train/train/39/7c611ca72cd28cbc0c45503e6dc62d0...\n",
       "105439  train/train/39/42657696d1cbdd6f8b38b086cd7179c...\n",
       "105440  train/train/39/9b5565fffee030373b51aace766dd65...\n",
       "105441  train/train/39/602f13fd1456877abe7f785de6b60be...\n",
       "105442                                    train/train.csv\n",
       "\n",
       "[105443 rows x 1 columns]"
      ]
     },
     "execution_count": 46,
     "metadata": {},
     "output_type": "execute_result"
    }
   ],
   "source": [
    "df = pd.read_csv('train.csv', names=['filename'])\n",
    "df"
   ]
  },
  {
   "cell_type": "code",
   "execution_count": 48,
   "metadata": {},
   "outputs": [
    {
     "data": {
      "text/html": [
       "<div>\n",
       "<style scoped>\n",
       "    .dataframe tbody tr th:only-of-type {\n",
       "        vertical-align: middle;\n",
       "    }\n",
       "\n",
       "    .dataframe tbody tr th {\n",
       "        vertical-align: top;\n",
       "    }\n",
       "\n",
       "    .dataframe thead th {\n",
       "        text-align: right;\n",
       "    }\n",
       "</style>\n",
       "<table border=\"1\" class=\"dataframe\">\n",
       "  <thead>\n",
       "    <tr style=\"text-align: right;\">\n",
       "      <th></th>\n",
       "      <th>filename</th>\n",
       "    </tr>\n",
       "  </thead>\n",
       "  <tbody>\n",
       "    <tr>\n",
       "      <th>3</th>\n",
       "      <td>train/train/35/295746bc5ba46358362ccc0fc897c27...</td>\n",
       "    </tr>\n",
       "    <tr>\n",
       "      <th>4</th>\n",
       "      <td>train/train/35/6421b56dff49cca37be44d677d481c1...</td>\n",
       "    </tr>\n",
       "    <tr>\n",
       "      <th>5</th>\n",
       "      <td>train/train/35/b5cc9741e8aa6b5f8aef01e1f21e628...</td>\n",
       "    </tr>\n",
       "    <tr>\n",
       "      <th>6</th>\n",
       "      <td>train/train/35/4cd077f70971a2de86fc33b79c0a669...</td>\n",
       "    </tr>\n",
       "    <tr>\n",
       "      <th>7</th>\n",
       "      <td>train/train/35/0852b0221623c41df9c7452019e4444...</td>\n",
       "    </tr>\n",
       "    <tr>\n",
       "      <th>...</th>\n",
       "      <td>...</td>\n",
       "    </tr>\n",
       "    <tr>\n",
       "      <th>105437</th>\n",
       "      <td>train/train/39/66297ed4092972a4ce8fd287c2aa215...</td>\n",
       "    </tr>\n",
       "    <tr>\n",
       "      <th>105438</th>\n",
       "      <td>train/train/39/7c611ca72cd28cbc0c45503e6dc62d0...</td>\n",
       "    </tr>\n",
       "    <tr>\n",
       "      <th>105439</th>\n",
       "      <td>train/train/39/42657696d1cbdd6f8b38b086cd7179c...</td>\n",
       "    </tr>\n",
       "    <tr>\n",
       "      <th>105440</th>\n",
       "      <td>train/train/39/9b5565fffee030373b51aace766dd65...</td>\n",
       "    </tr>\n",
       "    <tr>\n",
       "      <th>105441</th>\n",
       "      <td>train/train/39/602f13fd1456877abe7f785de6b60be...</td>\n",
       "    </tr>\n",
       "  </tbody>\n",
       "</table>\n",
       "<p>105392 rows × 1 columns</p>\n",
       "</div>"
      ],
      "text/plain": [
       "                                                 filename\n",
       "3       train/train/35/295746bc5ba46358362ccc0fc897c27...\n",
       "4       train/train/35/6421b56dff49cca37be44d677d481c1...\n",
       "5       train/train/35/b5cc9741e8aa6b5f8aef01e1f21e628...\n",
       "6       train/train/35/4cd077f70971a2de86fc33b79c0a669...\n",
       "7       train/train/35/0852b0221623c41df9c7452019e4444...\n",
       "...                                                   ...\n",
       "105437  train/train/39/66297ed4092972a4ce8fd287c2aa215...\n",
       "105438  train/train/39/7c611ca72cd28cbc0c45503e6dc62d0...\n",
       "105439  train/train/39/42657696d1cbdd6f8b38b086cd7179c...\n",
       "105440  train/train/39/9b5565fffee030373b51aace766dd65...\n",
       "105441  train/train/39/602f13fd1456877abe7f785de6b60be...\n",
       "\n",
       "[105392 rows x 1 columns]"
      ]
     },
     "execution_count": 48,
     "metadata": {},
     "output_type": "execute_result"
    }
   ],
   "source": [
    "df = df[df['filename'].str.endswith('jpg')] # remove tmp files\n",
    "df"
   ]
  },
  {
   "cell_type": "code",
   "execution_count": 49,
   "metadata": {},
   "outputs": [
    {
     "data": {
      "text/plain": [
       "'train/train/35/295746bc5ba46358362ccc0fc897c27b.jpg'"
      ]
     },
     "execution_count": 49,
     "metadata": {},
     "output_type": "execute_result"
    }
   ],
   "source": [
    "a = df.iloc[0]\n",
    "a.filename"
   ]
  },
  {
   "cell_type": "code",
   "execution_count": 43,
   "metadata": {},
   "outputs": [
    {
     "data": {
      "text/plain": [
       "'35'"
      ]
     },
     "execution_count": 43,
     "metadata": {},
     "output_type": "execute_result"
    }
   ],
   "source": [
    "a.filename.split('/')[2]"
   ]
  },
  {
   "cell_type": "code",
   "execution_count": 50,
   "metadata": {},
   "outputs": [
    {
     "name": "stderr",
     "output_type": "stream",
     "text": [
      "<ipython-input-50-144bdaeeea73>:1: SettingWithCopyWarning: \n",
      "A value is trying to be set on a copy of a slice from a DataFrame.\n",
      "Try using .loc[row_indexer,col_indexer] = value instead\n",
      "\n",
      "See the caveats in the documentation: https://pandas.pydata.org/pandas-docs/stable/user_guide/indexing.html#returning-a-view-versus-a-copy\n",
      "  df['cat']=df.filename.apply(lambda x : x.split('/')[2])\n"
     ]
    }
   ],
   "source": [
    "df['cat']=df.filename.apply(lambda x : x.split('/')[2])"
   ]
  },
  {
   "cell_type": "code",
   "execution_count": 51,
   "metadata": {},
   "outputs": [
    {
     "data": {
      "text/html": [
       "<div>\n",
       "<style scoped>\n",
       "    .dataframe tbody tr th:only-of-type {\n",
       "        vertical-align: middle;\n",
       "    }\n",
       "\n",
       "    .dataframe tbody tr th {\n",
       "        vertical-align: top;\n",
       "    }\n",
       "\n",
       "    .dataframe thead th {\n",
       "        text-align: right;\n",
       "    }\n",
       "</style>\n",
       "<table border=\"1\" class=\"dataframe\">\n",
       "  <thead>\n",
       "    <tr style=\"text-align: right;\">\n",
       "      <th></th>\n",
       "      <th>filename</th>\n",
       "      <th>cat</th>\n",
       "    </tr>\n",
       "  </thead>\n",
       "  <tbody>\n",
       "    <tr>\n",
       "      <th>3</th>\n",
       "      <td>train/train/35/295746bc5ba46358362ccc0fc897c27...</td>\n",
       "      <td>35</td>\n",
       "    </tr>\n",
       "    <tr>\n",
       "      <th>4</th>\n",
       "      <td>train/train/35/6421b56dff49cca37be44d677d481c1...</td>\n",
       "      <td>35</td>\n",
       "    </tr>\n",
       "    <tr>\n",
       "      <th>5</th>\n",
       "      <td>train/train/35/b5cc9741e8aa6b5f8aef01e1f21e628...</td>\n",
       "      <td>35</td>\n",
       "    </tr>\n",
       "    <tr>\n",
       "      <th>6</th>\n",
       "      <td>train/train/35/4cd077f70971a2de86fc33b79c0a669...</td>\n",
       "      <td>35</td>\n",
       "    </tr>\n",
       "    <tr>\n",
       "      <th>7</th>\n",
       "      <td>train/train/35/0852b0221623c41df9c7452019e4444...</td>\n",
       "      <td>35</td>\n",
       "    </tr>\n",
       "    <tr>\n",
       "      <th>...</th>\n",
       "      <td>...</td>\n",
       "      <td>...</td>\n",
       "    </tr>\n",
       "    <tr>\n",
       "      <th>105437</th>\n",
       "      <td>train/train/39/66297ed4092972a4ce8fd287c2aa215...</td>\n",
       "      <td>39</td>\n",
       "    </tr>\n",
       "    <tr>\n",
       "      <th>105438</th>\n",
       "      <td>train/train/39/7c611ca72cd28cbc0c45503e6dc62d0...</td>\n",
       "      <td>39</td>\n",
       "    </tr>\n",
       "    <tr>\n",
       "      <th>105439</th>\n",
       "      <td>train/train/39/42657696d1cbdd6f8b38b086cd7179c...</td>\n",
       "      <td>39</td>\n",
       "    </tr>\n",
       "    <tr>\n",
       "      <th>105440</th>\n",
       "      <td>train/train/39/9b5565fffee030373b51aace766dd65...</td>\n",
       "      <td>39</td>\n",
       "    </tr>\n",
       "    <tr>\n",
       "      <th>105441</th>\n",
       "      <td>train/train/39/602f13fd1456877abe7f785de6b60be...</td>\n",
       "      <td>39</td>\n",
       "    </tr>\n",
       "  </tbody>\n",
       "</table>\n",
       "<p>105392 rows × 2 columns</p>\n",
       "</div>"
      ],
      "text/plain": [
       "                                                 filename cat\n",
       "3       train/train/35/295746bc5ba46358362ccc0fc897c27...  35\n",
       "4       train/train/35/6421b56dff49cca37be44d677d481c1...  35\n",
       "5       train/train/35/b5cc9741e8aa6b5f8aef01e1f21e628...  35\n",
       "6       train/train/35/4cd077f70971a2de86fc33b79c0a669...  35\n",
       "7       train/train/35/0852b0221623c41df9c7452019e4444...  35\n",
       "...                                                   ...  ..\n",
       "105437  train/train/39/66297ed4092972a4ce8fd287c2aa215...  39\n",
       "105438  train/train/39/7c611ca72cd28cbc0c45503e6dc62d0...  39\n",
       "105439  train/train/39/42657696d1cbdd6f8b38b086cd7179c...  39\n",
       "105440  train/train/39/9b5565fffee030373b51aace766dd65...  39\n",
       "105441  train/train/39/602f13fd1456877abe7f785de6b60be...  39\n",
       "\n",
       "[105392 rows x 2 columns]"
      ]
     },
     "execution_count": 51,
     "metadata": {},
     "output_type": "execute_result"
    }
   ],
   "source": [
    "df"
   ]
  },
  {
   "cell_type": "code",
   "execution_count": 58,
   "metadata": {},
   "outputs": [
    {
     "data": {
      "text/plain": [
       "<matplotlib.axes._subplots.AxesSubplot at 0x7f48aaf98f40>"
      ]
     },
     "execution_count": 58,
     "metadata": {},
     "output_type": "execute_result"
    },
    {
     "data": {
      "image/png": "[encoded data removed]",
      "text/plain": [
       "<Figure size 432x288 with 1 Axes>"
      ]
     },
     "metadata": {
      "needs_background": "light"
     },
     "output_type": "display_data"
    }
   ],
   "source": [
    "sns.distplot(df.cat, bins=42)"
   ]
  },
  {
   "cell_type": "code",
   "execution_count": 83,
   "metadata": {},
   "outputs": [
    {
     "data": {
      "text/plain": [
       "cat\n",
       "11    0.681331\n",
       "17    0.574122\n",
       "18    0.777449\n",
       "29    0.790388\n",
       "32    0.797412\n",
       "33    0.211830\n",
       "37    0.637708\n",
       "Name: cat, dtype: float64"
      ]
     },
     "execution_count": 83,
     "metadata": {},
     "output_type": "execute_result"
    }
   ],
   "source": [
    "catg = df.groupby(['cat'])['cat']\n",
    "\n",
    "cm =  catg.count().max()\n",
    "rebalanced_series = catg.count()[catg.count()/cm<0.9]/cm\n",
    "rebalanced_series"
   ]
  },
  {
   "cell_type": "code",
   "execution_count": 109,
   "metadata": {},
   "outputs": [
    {
     "name": "stdout",
     "output_type": "stream",
     "text": [
      "11 0.6813308687615527 1.4677156809549647\n",
      "17 0.5741219963031423 1.7417900837089504\n",
      "18 0.777449168207024 1.2862577270565858\n",
      "29 0.7903881700554528 1.2652011225444342\n",
      "32 0.7974121996303142 1.2540565600370885\n",
      "33 0.21182994454713494 4.720767888307155\n",
      "37 0.6377079482439926 1.5681159420289856\n"
     ]
    },
    {
     "data": {
      "text/plain": [
       "2705"
      ]
     },
     "execution_count": 109,
     "metadata": {},
     "output_type": "execute_result"
    }
   ],
   "source": [
    "idx = rebalanced_series.index\n",
    "for a in idx:\n",
    "    print(a, rebalanced_series[a], 1/rebalanced_series[a])\n",
    "    \n",
    "cm"
   ]
  },
  {
   "cell_type": "code",
   "execution_count": 111,
   "metadata": {},
   "outputs": [
    {
     "data": {
      "text/html": [
       "<div>\n",
       "<style scoped>\n",
       "    .dataframe tbody tr th:only-of-type {\n",
       "        vertical-align: middle;\n",
       "    }\n",
       "\n",
       "    .dataframe tbody tr th {\n",
       "        vertical-align: top;\n",
       "    }\n",
       "\n",
       "    .dataframe thead th {\n",
       "        text-align: right;\n",
       "    }\n",
       "</style>\n",
       "<table border=\"1\" class=\"dataframe\">\n",
       "  <thead>\n",
       "    <tr style=\"text-align: right;\">\n",
       "      <th></th>\n",
       "      <th>filename</th>\n",
       "      <th>cat</th>\n",
       "    </tr>\n",
       "  </thead>\n",
       "  <tbody>\n",
       "    <tr>\n",
       "      <th>68581</th>\n",
       "      <td>train/train/33/2e47bd5a79553e4bb507caa32a5d9b8...</td>\n",
       "      <td>33</td>\n",
       "    </tr>\n",
       "    <tr>\n",
       "      <th>68485</th>\n",
       "      <td>train/train/33/44e7d5626c6560931bce646d3246239...</td>\n",
       "      <td>33</td>\n",
       "    </tr>\n",
       "    <tr>\n",
       "      <th>68874</th>\n",
       "      <td>train/train/33/0d5bb97e9264832955a109b909c050c...</td>\n",
       "      <td>33</td>\n",
       "    </tr>\n",
       "    <tr>\n",
       "      <th>68664</th>\n",
       "      <td>train/train/33/0a28be47b9901a6c660edc0ea8bf67b...</td>\n",
       "      <td>33</td>\n",
       "    </tr>\n",
       "    <tr>\n",
       "      <th>68976</th>\n",
       "      <td>train/train/33/828b0e34b1cd204bcdb07c36f12d10d...</td>\n",
       "      <td>33</td>\n",
       "    </tr>\n",
       "    <tr>\n",
       "      <th>...</th>\n",
       "      <td>...</td>\n",
       "      <td>...</td>\n",
       "    </tr>\n",
       "    <tr>\n",
       "      <th>68759</th>\n",
       "      <td>train/train/33/05ac48e47f67e3ec8c52c28a122ee20...</td>\n",
       "      <td>33</td>\n",
       "    </tr>\n",
       "    <tr>\n",
       "      <th>68757</th>\n",
       "      <td>train/train/33/03f28750ff73a2086634bb33448cd48...</td>\n",
       "      <td>33</td>\n",
       "    </tr>\n",
       "    <tr>\n",
       "      <th>68974</th>\n",
       "      <td>train/train/33/93651fa0d5ff0df277bd22e85c4f387...</td>\n",
       "      <td>33</td>\n",
       "    </tr>\n",
       "    <tr>\n",
       "      <th>68792</th>\n",
       "      <td>train/train/33/599841b556e4922317faf2d1e5e04b1...</td>\n",
       "      <td>33</td>\n",
       "    </tr>\n",
       "    <tr>\n",
       "      <th>68998</th>\n",
       "      <td>train/train/33/2647624c406b7169001357ad503f100...</td>\n",
       "      <td>33</td>\n",
       "    </tr>\n",
       "  </tbody>\n",
       "</table>\n",
       "<p>2705 rows × 2 columns</p>\n",
       "</div>"
      ],
      "text/plain": [
       "                                                filename cat\n",
       "68581  train/train/33/2e47bd5a79553e4bb507caa32a5d9b8...  33\n",
       "68485  train/train/33/44e7d5626c6560931bce646d3246239...  33\n",
       "68874  train/train/33/0d5bb97e9264832955a109b909c050c...  33\n",
       "68664  train/train/33/0a28be47b9901a6c660edc0ea8bf67b...  33\n",
       "68976  train/train/33/828b0e34b1cd204bcdb07c36f12d10d...  33\n",
       "...                                                  ...  ..\n",
       "68759  train/train/33/05ac48e47f67e3ec8c52c28a122ee20...  33\n",
       "68757  train/train/33/03f28750ff73a2086634bb33448cd48...  33\n",
       "68974  train/train/33/93651fa0d5ff0df277bd22e85c4f387...  33\n",
       "68792  train/train/33/599841b556e4922317faf2d1e5e04b1...  33\n",
       "68998  train/train/33/2647624c406b7169001357ad503f100...  33\n",
       "\n",
       "[2705 rows x 2 columns]"
      ]
     },
     "execution_count": 111,
     "metadata": {},
     "output_type": "execute_result"
    }
   ],
   "source": [
    "c_df = df[df['cat']=='33'].sample(2705, replace=True)\n",
    "c_df"
   ]
  },
  {
   "cell_type": "code",
   "execution_count": 116,
   "metadata": {},
   "outputs": [
    {
     "data": {
      "text/plain": [
       "<matplotlib.axes._subplots.AxesSubplot at 0x7f48aa6e97c0>"
      ]
     },
     "execution_count": 116,
     "metadata": {},
     "output_type": "execute_result"
    },
    {
     "data": {
      "image/png": "[encoded data removed]",
      "text/plain": [
       "<Figure size 432x288 with 1 Axes>"
      ]
     },
     "metadata": {
      "needs_background": "light"
     },
     "output_type": "display_data"
    }
   ],
   "source": [
    "sns.distplot(c_df.groupby('filename').count(),bins=12)"
   ]
  },
  {
   "cell_type": "code",
   "execution_count": 105,
   "metadata": {},
   "outputs": [
    {
     "data": {
      "text/plain": [
       "6.555555555555555"
      ]
     },
     "execution_count": 105,
     "metadata": {},
     "output_type": "execute_result"
    }
   ],
   "source": []
  },
  {
   "cell_type": "code",
   "execution_count": null,
   "metadata": {},
   "outputs": [],
   "source": []
  }
 ],
 "metadata": {
  "kernelspec": {
   "display_name": "Python 3",
   "language": "python",
   "name": "python3"
  },
  "language_info": {
   "codemirror_mode": {
    "name": "ipython",
    "version": 3
   },
   "file_extension": ".py",
   "mimetype": "text/x-python",
   "name": "python",
   "nbconvert_exporter": "python",
   "pygments_lexer": "ipython3",
   "version": "3.7.6"
  }
 },
 "nbformat": 4,
 "nbformat_minor": 4
}
